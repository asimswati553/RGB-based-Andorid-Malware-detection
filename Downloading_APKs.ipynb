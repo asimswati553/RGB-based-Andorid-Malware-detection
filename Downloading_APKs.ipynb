{
  "nbformat": 4,
  "nbformat_minor": 0,
  "metadata": {
    "kernelspec": {
      "display_name": "Python 3",
      "language": "python",
      "name": "python3"
    },
    "language_info": {
      "codemirror_mode": {
        "name": "ipython",
        "version": 3
      },
      "file_extension": ".py",
      "mimetype": "text/x-python",
      "name": "python",
      "nbconvert_exporter": "python",
      "pygments_lexer": "ipython3",
      "version": "3.6.9"
    },
    "colab": {
      "name": "Downloading_APKs.ipynb",
      "provenance": [],
      "collapsed_sections": []
    }
  },
  "cells": [
    {
      "cell_type": "code",
      "metadata": {
        "id": "-VU9H7CbwyNb"
      },
      "source": [
        "#Import libraries\n",
        "import pandas as pd\n",
        "import numpy as np\n",
        "import webbrowser\n",
        "import time\n",
        "import json\n",
        "import shutil\n",
        "import os"
      ],
      "execution_count": null,
      "outputs": []
    },
    {
      "cell_type": "code",
      "metadata": {
        "id": "o-0cOKYswyNl"
      },
      "source": [
        "#Move downloaded APKs from Download folder to destination folder\n",
        "def move_files(source_path, destin_path, dwnld_directory):\n",
        "    download_wait(dwnld_directory)\n",
        "    files = os.listdir(source_path)\n",
        "    for file in files:\n",
        "        if file.endswith('.apk'):\n",
        "            try:\n",
        "                shutil.move(source_path + file, destin_path)\n",
        "            except:\n",
        "                pass"
      ],
      "execution_count": null,
      "outputs": []
    },
    {
      "cell_type": "code",
      "metadata": {
        "id": "d4PKxEYgwyNm"
      },
      "source": [
        "#Wait if downloading is in progress, before downloading another APK\n",
        "def download_wait(dwnld_directory):\n",
        "    dl_wait = True\n",
        "    while dl_wait:\n",
        "        time.sleep(1)\n",
        "        dl_wait = False\n",
        "        \n",
        "        files = os.listdir(dwnld_directory)\n",
        "        for fname in files:\n",
        "            if fname.endswith('.crdownload'):\n",
        "                dl_wait = True"
      ],
      "execution_count": null,
      "outputs": []
    },
    {
      "cell_type": "code",
      "metadata": {
        "id": "4lVn6ropwyNn"
      },
      "source": [
        "#API to download an APK by providing an APK's SHA256 at the end\n",
        "api_key = 'https://androzoo.uni.lu/api/download?apikey=cef0598b5bd8f3e89954400a7c3ee1fcbd6a5dbf68bf5a0729ca85416d61baed&sha256='"
      ],
      "execution_count": null,
      "outputs": []
    },
    {
      "cell_type": "code",
      "metadata": {
        "id": "oN3SX4zFwyNn",
        "outputId": "cb12470d-d8fc-4fde-ec5d-c302808341b5"
      },
      "source": [
        "#Reading APK's SHA256, vt_detection, date and other information from csv file, provided by AndroZoo\n",
        "path_to_csv = '/home/Asim/From_Windows/Adverserial ML/Datasets/AndroZoodoc/latest.csv/latest.csv'\n",
        "APKs_info = pd.read_csv(path_to_csv)\n",
        "APKs_info = APKs_info[APKs_info['vt_detection'].notna()]\n",
        "\n",
        "print('csv file of shape :',APKs_info.shape)"
      ],
      "execution_count": null,
      "outputs": [
        {
          "output_type": "stream",
          "text": [
            "csv file of shape : (9669639, 11)\n"
          ],
          "name": "stdout"
        }
      ]
    },
    {
      "cell_type": "code",
      "metadata": {
        "id": "Oyswv0V1wyNq",
        "outputId": "34c6bddb-74f3-4d68-d10a-330244cafab0"
      },
      "source": [
        "#reading family name of malware, need for family classification\n",
        "labels_path = '/home/Asim/From_Windows/Adverserial ML/Datasets/AndroZoodoc/labels/names/proposed_names.json'\n",
        "with open(labels_path, 'r') as proposed_names:\n",
        "          labels = json.load(proposed_names)\n",
        "\n",
        "print(f'{len(labels)} APKs having labels.')"
      ],
      "execution_count": null,
      "outputs": [
        {
          "output_type": "stream",
          "text": [
            "1302969 APKs having labels.\n"
          ],
          "name": "stdout"
        }
      ]
    },
    {
      "cell_type": "code",
      "metadata": {
        "id": "PNR4WUqwwyNr",
        "outputId": "456d708b-1ff9-430a-941b-a91ab11aa838"
      },
      "source": [
        "#select only APKs having vt_detection greater than 15 and less than 35\n",
        "malware_geq15l35_mask = APKs_info.loc[(APKs_info['vt_detection'] >=15) & (APKs_info['vt_detection']<35)]\n",
        "malware_geq15l35_shas = [sha.lower() for sha in malware_geq15l35_mask.sha256]\n",
        "print(f'{len(malware_geq15l35_shas)} APKs are avialble in AndroZoo dataset having vt_detection geq15l35')\n",
        "#benign_apks_mask = APKs_info['vt_detection'] == 0.0"
      ],
      "execution_count": null,
      "outputs": [
        {
          "output_type": "stream",
          "text": [
            "401401 APKs are avialble in AndroZoo dataset having vt_detection geq15l35\n"
          ],
          "name": "stdout"
        }
      ]
    },
    {
      "cell_type": "code",
      "metadata": {
        "id": "rr63LmCkwyNs",
        "outputId": "2e031f94-b829-4a45-f925-24c324161d02"
      },
      "source": [
        "#to seperate out downloaded APKs and to download APKs. Need it in case if some APKs were downloded and some are remaining and to loop over to download the remaing APKs\n",
        "dwnloded_malware_APKs = os.listdir('/home/Asim/Adverserial_ML/AndroZoo/Malware/Malware_APKs_geq35/')\n",
        "dwnloded_malware_shas = [sha[:-4].lower() for sha in dwnloded_malware_APKs]\n",
        "print(f'{len(dwnloded_malware_shas)} APKs are downloded having vt_detection geq15l35.')\n",
        "\n",
        "shas_have_dwnlded = list(set(malware_geq15l35_shas).intersection(labels.keys()))\n",
        "print(f'{len(have_dwnlded)} APKs are downloded and having labels.')\n",
        "\n",
        "to_dwnld = list(set(malware_geq15l35_shas) - set(dwnloded_malware_shas))\n",
        "to_dwnld = list(set(to_dwnld).intersection(labels.keys()))\n",
        "print(f'{len(to_dwnld)} APKs have to download and having lables.')"
      ],
      "execution_count": null,
      "outputs": [
        {
          "output_type": "stream",
          "text": [
            "22057 APKs are downloded having vt_detection geq15l35.\n",
            "292291 APKs are downloded and having labels.\n",
            "292291 APKs have to download and having lables.\n"
          ],
          "name": "stdout"
        }
      ]
    },
    {
      "cell_type": "code",
      "metadata": {
        "id": "HEEVeTSmwyNt",
        "outputId": "e312626f-c653-4214-b351-5195a8529add"
      },
      "source": [
        "malware_shas_to_dwnld = list(set(labels.keys()).intersection(malware_geq15l35_shas))\n",
        "\n",
        "print(f'There are {len(malware_shas_to_dwnld)} APKs to download having vt_detection greater than 5 and less than 15.')\n",
        "\n",
        "#malware_apks_sha256 = list(malware_apks_mask['sha256'])\n",
        "#print(len(malware_apks_sha256))\n",
        "#benign_apks_sha256 = list(APKs_info['sha256'][benign_apks_mask])\n",
        "#benign_apks_sha256 = benign_apks_sha256[16000:]\n",
        "#print(len(benign_apks_sha256))"
      ],
      "execution_count": null,
      "outputs": [
        {
          "output_type": "stream",
          "text": [
            "There are 1864 APKs to download having vt_detection greater than 5 and less than 15.\n"
          ],
          "name": "stdout"
        }
      ]
    },
    {
      "cell_type": "code",
      "metadata": {
        "id": "6vb6ZwD7wyNt",
        "outputId": "7b5c9687-da11-4c4c-8789-ab852c952ca9"
      },
      "source": [
        "\n",
        "shas_to_download = []\n",
        "malware_APKs_path = '/home/Asim/Adverserial_ML/AndroZoo/Malware/AndroGuard+Predefined_Dictionary/Inter_Linear/11k_100_AEs_Testing/11k_100_APKs_AEs_Testing/'\n",
        "\n",
        "for line in open('/home/Asim/Adverserial_ML/AndroZoo/Malware/AndroGuard+Predefined_Dictionary/Inter_Linear/11k_100_AEs_Testing/test_apks_names', 'r'):\n",
        "    shas_to_download.append(line.rstrip())\n",
        "\n",
        "tmp = [sha[:-4] for sha in os.listdir(malware_APKs_path)]\n",
        "shas_to_download = list(set(shas_to_download) - set(tmp))\n",
        "print(len(shas_to_download))"
      ],
      "execution_count": null,
      "outputs": [
        {
          "output_type": "stream",
          "text": [
            "1\n"
          ],
          "name": "stdout"
        }
      ]
    },
    {
      "cell_type": "code",
      "metadata": {
        "id": "-FDll_5zwyNv"
      },
      "source": [
        "shas_to_download = ['BF5EE8CF8595EE188CB1D9A93FD6C96005D3F79880AE324A82859035D58E869B', 'C681D8D39817581A62CF50899C19C96C26A6ADD59C61A41DB6ED7939524F34FF', '8FD88F160DF8BBC5602223EF46A4BA49B396A1B4929E2674190C2F6671F34831', 'A0936ED59B8D667176A7963839A621A38AD57BACF43CAC55AF0922A67A4CE8E9']\n"
      ],
      "execution_count": null,
      "outputs": []
    },
    {
      "cell_type": "code",
      "metadata": {
        "id": "F8lkG9CFwyNw"
      },
      "source": [
        "#last_downloaded_sha256 = malware_apks_sha256[0]\n",
        "last_downloaded_sha256 = shas_to_download[0]\n",
        "count = 0"
      ],
      "execution_count": null,
      "outputs": []
    },
    {
      "cell_type": "markdown",
      "metadata": {
        "id": "R8PkjKKi1eHv"
      },
      "source": [
        "Install selenium to download APK via Google Chrome without focus. Instruction are given below"
      ]
    },
    {
      "cell_type": "code",
      "metadata": {
        "id": "99NNdpswwyNw",
        "outputId": "c9f0ed47-9fbf-4b59-b94b-5a5265466f13"
      },
      "source": [
        "#Downloading APKs\n",
        "from selenium import webdriver\n",
        "\n",
        "options = webdriver.ChromeOptions()\n",
        "options.add_experimental_option(\"prefs\", {\"safebrowsing.enabled\": True})\n",
        "driver = webdriver.Chrome(executable_path=\"/home/Asim/chromedriver_linux64/chromedriver\", options=options)\n",
        "\n",
        "for malware_sha in shas_to_download:\n",
        "    driver.get(api_key + malware_sha)\n",
        "    #if(count%10 == 0):\n",
        "    #    move_files('/home/mujeeb/Downloads/', '/home/mujeeb/Adverserial_ML/AndroZoo/Malware/AndroGuard+Predefined_Dictionary/Inter_Linear/11k_100_AEs_Testing/', '/home/mujeeb/Downloads/')\n",
        "    #last_downloaded_sha256 = malware_sha\n",
        "    #count+=1\n",
        "\n",
        "'''\n",
        "for benign_sha in benign_apks_sha256:\n",
        "    webbrowser.open(api_key + benign_sha)\n",
        "    if(count%10 == 0):\n",
        "        move_files('/home/Asim/Downloads/', '/home/Asim/Adverserial_ML/AndroZoo/Benign/Benign_APKs/', '/home/Asim/Downloads/')\n",
        "    last_downloaded_sha256 = benign_sha\n",
        "    count+=1'''"
      ],
      "execution_count": null,
      "outputs": [
        {
          "output_type": "execute_result",
          "data": {
            "text/plain": [
              "\"\\nfor benign_sha in benign_apks_sha256:\\n    webbrowser.open(api_key + benign_sha)\\n    if(count%10 == 0):\\n        move_files('/home/mujeeb/Downloads/', '/home/mujeeb/Adverserial_ML/AndroZoo/Benign/Benign_APKs/', '/home/mujeeb/Downloads/')\\n    last_downloaded_sha256 = benign_sha\\n    count+=1\""
            ]
          },
          "metadata": {
            "tags": []
          },
          "execution_count": 7
        }
      ]
    },
    {
      "cell_type": "markdown",
      "metadata": {
        "id": "eV8ANmFuwyNx"
      },
      "source": [
        "## Steps for Selenium installation and to download APKs without focus"
      ]
    },
    {
      "cell_type": "markdown",
      "metadata": {
        "id": "AlH85UaIwyNx"
      },
      "source": [
        "1. !pip3 install -U selenium\n",
        "2. to check chrome version move to 'chrome://settings/help'\n",
        "3. download corresponding version of driver from : https://sites.google.com/a/chromium.org/chromedriver/downloads\n",
        "4. unzip it.\n",
        "5. set path in executable_path argument.\n",
        "\n",
        "Hope it works\n",
        "\n",
        "6. #------add these lines before starting loop for downloads------\n",
        "\n",
        "from selenium import webdriver\n",
        "\n",
        "options = webdriver.ChromeOptions()\n",
        "options.add_experimental_option(\"prefs\", {\"safebrowsing.enabled\": True})\n",
        "driver = webdriver.Chrome(executable_path=\"/home/mujeeb/chromedriver_linux64/chromedriver\", options=options)\n",
        "\n",
        "7. replace  'webbrowser.open(api_key + benign_sha)' with 'driver.get(api_key + benign_sha)' below"
      ]
    },
    {
      "cell_type": "code",
      "metadata": {
        "id": "UFRq7kO6wyNx"
      },
      "source": [
        ""
      ],
      "execution_count": null,
      "outputs": []
    }
  ]
}