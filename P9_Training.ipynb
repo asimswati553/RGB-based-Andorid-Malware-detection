{
  "nbformat": 4,
  "nbformat_minor": 0,
  "metadata": {
    "colab": {
      "name": "P9_Training.ipynb",
      "provenance": [],
      "collapsed_sections": []
    },
    "kernelspec": {
      "name": "python3",
      "display_name": "Python 3"
    },
    "accelerator": "GPU"
  },
  "cells": [
    {
      "cell_type": "code",
      "metadata": {
        "id": "7VQ26Yg9IRaI"
      },
      "source": [
        "#Import different libraries\n",
        "from keras.models import Sequential\n",
        "from keras.optimizers import SGD\n",
        "from keras.layers import Conv2D, MaxPooling2D, ZeroPadding2D\n",
        "from keras.layers import Input, Activation, Dropout, Flatten, Dense, Reshape\n",
        "from keras.models import  Model\n",
        "from numpy import load\n",
        "import os\n",
        "import numpy as np\n",
        "from keras.preprocessing import image\n",
        "from sklearn.model_selection import train_test_split\n",
        "import matplotlib.pyplot as plt"
      ],
      "execution_count": null,
      "outputs": []
    },
    {
      "cell_type": "code",
      "metadata": {
        "id": "HzNPDozki3s7",
        "colab": {
          "base_uri": "https://localhost:8080/",
          "height": 34
        },
        "outputId": "7792e0eb-fc48-4c0d-e2bf-a9ffab7e85d2"
      },
      "source": [
        "#Mounting with Google drive\n",
        "from google.colab import drive\n",
        "drive.mount('/content/gdrive')"
      ],
      "execution_count": null,
      "outputs": [
        {
          "output_type": "stream",
          "text": [
            "Mounted at /content/gdrive\n"
          ],
          "name": "stdout"
        }
      ]
    },
    {
      "cell_type": "code",
      "metadata": {
        "id": "6Cb6ykETszB7",
        "colab": {
          "base_uri": "https://localhost:8080/",
          "height": 69
        },
        "outputId": "858c1143-d9f7-4241-d7b4-ff647a75bc72"
      },
      "source": [
        "#Loading benign and malware data. i.e matrix of shape, (5500,256x256)\n",
        "Xbenign = load('/content/gdrive/My Drive/Research-Adverserial_ML/P9:Malware_Detection_Based_on_CNN/Datasets/benign_matrix_updated.npy')[:5500]\n",
        "Xmalware = load('/content/gdrive/My Drive/Research-Adverserial_ML/P9:Malware_Detection_Based_on_CNN/Datasets/malware_matrix_updated.npy')[:5500]\n",
        "\n",
        "print(Xbenign.shape)\n",
        "print(Xmalware.shape)\n",
        "\n",
        "#combine both benign and malware in one mamtrix 'X'.\n",
        "X = np.vstack([Xbenign, Xmalware])\n",
        "X = X[..., np.newaxis]\n",
        "print(X.shape)"
      ],
      "execution_count": null,
      "outputs": [
        {
          "output_type": "stream",
          "text": [
            "(5500, 256, 256)\n",
            "(5500, 256, 256)\n",
            "(11000, 256, 256, 1)\n"
          ],
          "name": "stdout"
        }
      ]
    },
    {
      "cell_type": "code",
      "metadata": {
        "id": "2jKDz8yfehqQ",
        "colab": {
          "base_uri": "https://localhost:8080/",
          "height": 52
        },
        "outputId": "965b3aa0-66fd-48c1-a229-bcd5169d745e"
      },
      "source": [
        "# making of labels(Y)\n",
        "benign_Y = np.zeros(Xbenign.shape[0], dtype=np.int16)\n",
        "malware_Y = np.ones(Xmalware.shape[0], dtype=np.int16)\n",
        "Y = np.hstack((benign_Y, malware_Y))\n",
        "print(Y.shape)\n",
        "print(Y)"
      ],
      "execution_count": null,
      "outputs": [
        {
          "output_type": "stream",
          "text": [
            "(11000,)\n",
            "[0 0 0 ... 1 1 1]\n"
          ],
          "name": "stdout"
        }
      ]
    },
    {
      "cell_type": "code",
      "metadata": {
        "id": "MBnEQCc7eXkg"
      },
      "source": [
        "#Split the data to train set (75% + 10% of validation set) and test sets (15%0.\n",
        "trainX, testX, trainY, testY = train_test_split(X, Y, test_size=0.20)"
      ],
      "execution_count": null,
      "outputs": []
    },
    {
      "cell_type": "markdown",
      "metadata": {
        "id": "jxz3BMq8EULG"
      },
      "source": [
        "visible = Input(shape=(256,256,1))\n",
        "conv1 = Conv2D(filters=64, kernel_size=(8,256), activation='relu', data_format='channels_last')(visible)\n",
        "print(conv1.shape)\n",
        "conv1 = ZeroPadding2D(padding=[(0, 7), (0,0)])(conv1)\n",
        "conv1 = tf.reshape(conv1, [1,256,64,1])\n",
        "print(conv1.shape)\n",
        "\n",
        "conv2 = Conv2D(filters=64, kernel_size=(8,64) , activation='relu', data_format='channels_last')(conv1)\n",
        "print(conv2.shape)\n",
        "conv2 = ZeroPadding2D(padding=[(0,7), (0,0)])(conv2)\n",
        "conv2 = tf.reshape(conv2, [1,256,64,1])\n",
        "print(conv2.shape)\n",
        "\n",
        "\n",
        "pool1 = MaxPooling2D((256,1))(conv2) #the output shape must be 64x1\n",
        "print(pool1.shape)\n",
        "\n",
        "flat = Flatten()(pool1)\n",
        "hidden1 = Dense(16, activation='relu')(flat)\n",
        "output = Dense(2, activation='softmax')(hidden1)\n",
        "model = Model(inputs=visible, outputs=output)"
      ]
    },
    {
      "cell_type": "code",
      "metadata": {
        "id": "sPrG9YP1IYXR",
        "colab": {
          "base_uri": "https://localhost:8080/",
          "height": 503
        },
        "outputId": "79f74a35-99a7-44ab-c9de-50ac33f0eca4"
      },
      "source": [
        "#Building the model details are provided by authors.\n",
        "model = Sequential()\n",
        "model.add(Conv2D(filters=64, kernel_size=(8,256), activation='relu', data_format='channels_last', input_shape=(256,256,1)))\n",
        "model.add(ZeroPadding2D(padding=[(0, 7), (0,0)]))\n",
        "model.add(Reshape([256,64,1]))\n",
        "\n",
        "model.add(Conv2D(filters=64, kernel_size=(8,64) , activation='relu', data_format='channels_last'))\n",
        "model.add(ZeroPadding2D(padding=[(0, 7), (0,0)]))\n",
        "model.add(Reshape([256,64,1]))\n",
        "\n",
        "model.add(MaxPooling2D(pool_size=(256,1))) #the output shape must be 64x1\n",
        "model.add(Flatten())\n",
        "model.add(Dense(16, activation='relu'))\n",
        "model.add(Dense(1, activation='sigmoid'))\n",
        "\n",
        "model.summary()"
      ],
      "execution_count": null,
      "outputs": [
        {
          "output_type": "stream",
          "text": [
            "Model: \"sequential\"\n",
            "_________________________________________________________________\n",
            "Layer (type)                 Output Shape              Param #   \n",
            "=================================================================\n",
            "conv2d (Conv2D)              (None, 249, 1, 64)        131136    \n",
            "_________________________________________________________________\n",
            "zero_padding2d (ZeroPadding2 (None, 256, 1, 64)        0         \n",
            "_________________________________________________________________\n",
            "reshape (Reshape)            (None, 256, 64, 1)        0         \n",
            "_________________________________________________________________\n",
            "conv2d_1 (Conv2D)            (None, 249, 1, 64)        32832     \n",
            "_________________________________________________________________\n",
            "zero_padding2d_1 (ZeroPaddin (None, 256, 1, 64)        0         \n",
            "_________________________________________________________________\n",
            "reshape_1 (Reshape)          (None, 256, 64, 1)        0         \n",
            "_________________________________________________________________\n",
            "max_pooling2d (MaxPooling2D) (None, 1, 64, 1)          0         \n",
            "_________________________________________________________________\n",
            "flatten (Flatten)            (None, 64)                0         \n",
            "_________________________________________________________________\n",
            "dense (Dense)                (None, 16)                1040      \n",
            "_________________________________________________________________\n",
            "dense_1 (Dense)              (None, 1)                 17        \n",
            "=================================================================\n",
            "Total params: 165,025\n",
            "Trainable params: 165,025\n",
            "Non-trainable params: 0\n",
            "_________________________________________________________________\n"
          ],
          "name": "stdout"
        }
      ]
    },
    {
      "cell_type": "code",
      "metadata": {
        "id": "VHjVzLTGYhRq"
      },
      "source": [
        "#Compile the model\n",
        "model.compile(loss='binary_crossentropy', optimizer='adam', metrics=['accuracy'])"
      ],
      "execution_count": null,
      "outputs": []
    },
    {
      "cell_type": "code",
      "metadata": {
        "id": "JydA8IATYQyl",
        "colab": {
          "base_uri": "https://localhost:8080/",
          "height": 732
        },
        "outputId": "923c4f3a-1b26-425b-fff8-f56a03d93b80"
      },
      "source": [
        "#train the model.\n",
        "history = model.fit(trainX, trainY, validation_split=0.10, batch_size=64, epochs=20)"
      ],
      "execution_count": null,
      "outputs": [
        {
          "output_type": "stream",
          "text": [
            "Epoch 1/20\n",
            "124/124 [==============================] - 2s 17ms/step - loss: 0.3551 - accuracy: 0.8319 - val_loss: 0.1850 - val_accuracy: 0.9295\n",
            "Epoch 2/20\n",
            "124/124 [==============================] - 2s 14ms/step - loss: 0.1469 - accuracy: 0.9480 - val_loss: 0.1118 - val_accuracy: 0.9693\n",
            "Epoch 3/20\n",
            "124/124 [==============================] - 2s 14ms/step - loss: 0.1020 - accuracy: 0.9688 - val_loss: 0.0993 - val_accuracy: 0.9716\n",
            "Epoch 4/20\n",
            "124/124 [==============================] - 2s 14ms/step - loss: 0.0729 - accuracy: 0.9792 - val_loss: 0.0947 - val_accuracy: 0.9750\n",
            "Epoch 5/20\n",
            "124/124 [==============================] - 2s 14ms/step - loss: 0.0617 - accuracy: 0.9816 - val_loss: 0.0994 - val_accuracy: 0.9693\n",
            "Epoch 6/20\n",
            "124/124 [==============================] - 2s 14ms/step - loss: 0.0556 - accuracy: 0.9837 - val_loss: 0.0875 - val_accuracy: 0.9739\n",
            "Epoch 7/20\n",
            "124/124 [==============================] - 2s 14ms/step - loss: 0.0417 - accuracy: 0.9894 - val_loss: 0.0999 - val_accuracy: 0.9625\n",
            "Epoch 8/20\n",
            "124/124 [==============================] - 2s 14ms/step - loss: 0.0352 - accuracy: 0.9908 - val_loss: 0.1222 - val_accuracy: 0.9625\n",
            "Epoch 9/20\n",
            "124/124 [==============================] - 2s 14ms/step - loss: 0.0353 - accuracy: 0.9902 - val_loss: 0.1257 - val_accuracy: 0.9557\n",
            "Epoch 10/20\n",
            "124/124 [==============================] - 2s 14ms/step - loss: 0.0309 - accuracy: 0.9914 - val_loss: 0.0915 - val_accuracy: 0.9761\n",
            "Epoch 11/20\n",
            "124/124 [==============================] - 2s 14ms/step - loss: 0.0268 - accuracy: 0.9919 - val_loss: 0.1076 - val_accuracy: 0.9761\n",
            "Epoch 12/20\n",
            "124/124 [==============================] - 2s 14ms/step - loss: 0.0241 - accuracy: 0.9937 - val_loss: 0.0924 - val_accuracy: 0.9773\n",
            "Epoch 13/20\n",
            "124/124 [==============================] - 2s 14ms/step - loss: 0.0232 - accuracy: 0.9931 - val_loss: 0.0946 - val_accuracy: 0.9761\n",
            "Epoch 14/20\n",
            "124/124 [==============================] - 2s 14ms/step - loss: 0.0246 - accuracy: 0.9934 - val_loss: 0.0919 - val_accuracy: 0.9761\n",
            "Epoch 15/20\n",
            "124/124 [==============================] - 2s 14ms/step - loss: 0.0202 - accuracy: 0.9955 - val_loss: 0.0990 - val_accuracy: 0.9727\n",
            "Epoch 16/20\n",
            "124/124 [==============================] - 2s 14ms/step - loss: 0.0245 - accuracy: 0.9931 - val_loss: 0.1049 - val_accuracy: 0.9784\n",
            "Epoch 17/20\n",
            "124/124 [==============================] - 2s 13ms/step - loss: 0.0221 - accuracy: 0.9934 - val_loss: 0.1012 - val_accuracy: 0.9739\n",
            "Epoch 18/20\n",
            "124/124 [==============================] - 2s 14ms/step - loss: 0.0180 - accuracy: 0.9943 - val_loss: 0.1058 - val_accuracy: 0.9739\n",
            "Epoch 19/20\n",
            "124/124 [==============================] - 2s 14ms/step - loss: 0.0194 - accuracy: 0.9941 - val_loss: 0.1064 - val_accuracy: 0.9773\n",
            "Epoch 20/20\n",
            "124/124 [==============================] - 2s 13ms/step - loss: 0.0141 - accuracy: 0.9965 - val_loss: 0.1304 - val_accuracy: 0.9625\n"
          ],
          "name": "stdout"
        }
      ]
    },
    {
      "cell_type": "code",
      "metadata": {
        "id": "fKctJZnMgS5d",
        "colab": {
          "base_uri": "https://localhost:8080/",
          "height": 52
        },
        "outputId": "81d28a1e-291a-4c92-ec09-098c0a085cc0"
      },
      "source": [
        "#Accuracy on test set.\n",
        "model.evaluate(testX, testY)"
      ],
      "execution_count": null,
      "outputs": [
        {
          "output_type": "stream",
          "text": [
            "69/69 [==============================] - 0s 6ms/step - loss: 0.1028 - accuracy: 0.9741\n"
          ],
          "name": "stdout"
        },
        {
          "output_type": "execute_result",
          "data": {
            "text/plain": [
              "[0.10283979028463364, 0.9740909337997437]"
            ]
          },
          "metadata": {
            "tags": []
          },
          "execution_count": 9
        }
      ]
    },
    {
      "cell_type": "code",
      "metadata": {
        "id": "fCpjrbwPgp2F"
      },
      "source": [
        "predictions = model.predict(testX)\n",
        "y_predict = predictions.reshape((predictions.shape[0]))"
      ],
      "execution_count": null,
      "outputs": []
    },
    {
      "cell_type": "code",
      "metadata": {
        "id": "dfKWHZfbgsG6",
        "colab": {
          "base_uri": "https://localhost:8080/",
          "height": 351
        },
        "outputId": "9725b891-d43a-4ec5-b1fb-27fbfa6e54b3"
      },
      "source": [
        "from matplotlib import style\n",
        "from sklearn.metrics import precision_recall_curve\n",
        "from sklearn.metrics import f1_score\n",
        "from sklearn.metrics import auc\n",
        "from matplotlib import pyplot\n",
        "\n",
        "precision, recall, thresholds = precision_recall_curve(testY, y_predict)\n",
        "area_uc = auc(recall, precision)\n",
        "# summarize scores\n",
        "\n",
        "print('NN: auc=%.3f' % (area_uc))\n",
        "# plot the precision-recall curves\n",
        "#no_skill = len(y_test[y_test==1]) / len(y_test)\n",
        "style.use('ggplot')\n",
        "\n",
        "pyplot.plot(recall, precision, marker='.')\n",
        "pyplot.plot()\n",
        "# axis labels\n",
        "pyplot.text(0.01,0.65, 'area under curve =%.3f' % (area_uc))\n",
        "pyplot.title('Precision-Recall Curve')\n",
        "pyplot.xlabel('Recall')\n",
        "pyplot.ylabel('Precision')\n",
        "# show the legend\n",
        "pyplot.legend()\n",
        "# show the plot\n",
        "pyplot.show()\n",
        "prcsn = np.array(precision)\n",
        "recl = np.array(recall)\n",
        "f1_measure = 2*(prcsn*recl)/(prcsn+recl)\n",
        "threshold = thresholds[np.argmax(f1_measure)]\n",
        "print('Threshold for splitting benign and malware is : ',threshold)\n"
      ],
      "execution_count": null,
      "outputs": [
        {
          "output_type": "stream",
          "text": [
            "No handles with labels found to put in legend.\n"
          ],
          "name": "stderr"
        },
        {
          "output_type": "stream",
          "text": [
            "NN: auc=0.995\n"
          ],
          "name": "stdout"
        },
        {
          "output_type": "display_data",
          "data": {
            "image/png": "[encoded data removed]",
            "text/plain": [
              "<Figure size 432x288 with 1 Axes>"
            ]
          },
          "metadata": {
            "tags": []
          }
        },
        {
          "output_type": "stream",
          "text": [
            "Threshold for splitting benign and malware is :  0.83915263\n"
          ],
          "name": "stdout"
        }
      ]
    },
    {
      "cell_type": "code",
      "metadata": {
        "id": "y01mz6OxgsJd",
        "colab": {
          "base_uri": "https://localhost:8080/",
          "height": 106
        },
        "outputId": "4676f7ab-753d-4b90-bb5e-84a42647622d"
      },
      "source": [
        "from sklearn.metrics import confusion_matrix\n",
        "y_pred = np.zeros_like(y_predict)\n",
        "y_idx = [y_predict >= 0.5]\n",
        "y_pred[y_idx] = 1\n",
        "conf_mtrx = confusion_matrix(testY, y_pred)\n",
        "print(conf_mtrx)"
      ],
      "execution_count": null,
      "outputs": [
        {
          "output_type": "stream",
          "text": [
            "[[1032   28]\n",
            " [  29 1111]]\n"
          ],
          "name": "stdout"
        },
        {
          "output_type": "stream",
          "text": [
            "/usr/local/lib/python3.6/dist-packages/ipykernel_launcher.py:4: FutureWarning: Using a non-tuple sequence for multidimensional indexing is deprecated; use `arr[tuple(seq)]` instead of `arr[seq]`. In the future this will be interpreted as an array index, `arr[np.array(seq)]`, which will result either in an error or a different result.\n",
            "  after removing the cwd from sys.path.\n"
          ],
          "name": "stderr"
        }
      ]
    },
    {
      "cell_type": "code",
      "metadata": {
        "id": "lCjRCRfRhB9r"
      },
      "source": [
        "def different_evaluations(tn, fp, fn, tp, y_test, y_pred):\n",
        "  # FPr and RNr\n",
        "  FPr = fp/ (fp+tn)\n",
        "  FNr = fn/ (fn+tp)\n",
        "  print(\"False positive rate is : \", FPr)\n",
        "  print(\"False negative rate is : \", FNr)\n",
        "  # F1-score\n",
        "  print(\"The F1-score is : \", f1_score(y_test, y_pred))\n",
        "\n",
        "  # Recall\n",
        "  print(\"The Recall is : \", recall_score(y_test, y_pred))\n",
        "\n",
        "  # Precision\n",
        "  print(\"The Precision score is : \", precision_score(y_test, y_pred))"
      ],
      "execution_count": null,
      "outputs": []
    },
    {
      "cell_type": "code",
      "metadata": {
        "id": "u30bEYpShF1E",
        "colab": {
          "base_uri": "https://localhost:8080/",
          "height": 104
        },
        "outputId": "33c5e1fa-dd8c-4301-ddb3-02e627d3ee57"
      },
      "source": [
        "from sklearn.metrics import matthews_corrcoef\n",
        "from sklearn.metrics import f1_score\n",
        "from sklearn.metrics import recall_score\n",
        "from sklearn.metrics import precision_score\n",
        "\n",
        "tn, fp, fn, tp = conf_mtrx.ravel()\n",
        "\n",
        "different_evaluations(tn, fp, fn, tp, testY, y_pred)"
      ],
      "execution_count": null,
      "outputs": [
        {
          "output_type": "stream",
          "text": [
            "False positive rate is :  0.026415094339622643\n",
            "False negative rate is :  0.02543859649122807\n",
            "The F1-score is :  0.974989030276437\n",
            "The Recall is :  0.974561403508772\n",
            "The Precision score is :  0.9754170324846356\n"
          ],
          "name": "stdout"
        }
      ]
    },
    {
      "cell_type": "code",
      "metadata": {
        "id": "Cz8QN8wLeAdl",
        "colab": {
          "base_uri": "https://localhost:8080/",
          "height": 34
        },
        "outputId": "68653459-3351-44f6-f873-3eab1960c8aa"
      },
      "source": [
        "test_X = load('/content/gdrive/My Drive/Research-Adverserial_ML/P9:Malware_Detection_Based_on_CNN/Perturb_Examples/533_normal_diff.npy')\n",
        "test_X = test_X[..., np.newaxis]\n",
        "print(test_X.shape)"
      ],
      "execution_count": null,
      "outputs": [
        {
          "output_type": "stream",
          "text": [
            "(533, 256, 256, 1)\n"
          ],
          "name": "stdout"
        }
      ]
    },
    {
      "cell_type": "code",
      "metadata": {
        "id": "PU2e9rNNeT0Q"
      },
      "source": [
        "test_y = np.ones((533), dtype=np.int16)"
      ],
      "execution_count": null,
      "outputs": []
    },
    {
      "cell_type": "code",
      "metadata": {
        "id": "f6Qbd-AbeT2r",
        "colab": {
          "base_uri": "https://localhost:8080/",
          "height": 54
        },
        "outputId": "0bc251ac-444b-4beb-c1fe-a71cb01c5422"
      },
      "source": [
        "model.evaluate(test_X, test_y)"
      ],
      "execution_count": null,
      "outputs": [
        {
          "output_type": "stream",
          "text": [
            "17/17 [==============================] - 1s 56ms/step - loss: 0.1560 - accuracy: 0.9700\n"
          ],
          "name": "stdout"
        },
        {
          "output_type": "execute_result",
          "data": {
            "text/plain": [
              "[0.15600748360157013, 0.9699812531471252]"
            ]
          },
          "metadata": {
            "tags": []
          },
          "execution_count": 17
        }
      ]
    },
    {
      "cell_type": "code",
      "metadata": {
        "id": "wjd-va7ZhRsR",
        "colab": {
          "base_uri": "https://localhost:8080/",
          "height": 34
        },
        "outputId": "85379b42-2073-4f2d-8be7-d00e47fcab45"
      },
      "source": [
        "AEs_y = np.ones((100), dtype=np.int16)\n",
        "print(AEs_y.shape)"
      ],
      "execution_count": null,
      "outputs": [
        {
          "output_type": "stream",
          "text": [
            "(100,)\n"
          ],
          "name": "stdout"
        }
      ]
    },
    {
      "cell_type": "code",
      "metadata": {
        "id": "Djl31RdVbm0p"
      },
      "source": [
        "AEs_X = load('/content/gdrive/My Drive/Research-Adverserial_ML/AEs_Generations/AEs_with_GANs/Samples_Generated_DCGAN/AEs/Attack_On_P9:Malware_Detection_BasedOn_CNN/100AEs_PerturbByA2_0.1%.npy')\n",
        "AEs_X = AEs_X[..., np.newaxis]"
      ],
      "execution_count": null,
      "outputs": []
    },
    {
      "cell_type": "code",
      "metadata": {
        "id": "6wp_7SEjcBbp",
        "colab": {
          "base_uri": "https://localhost:8080/",
          "height": 52
        },
        "outputId": "399942f3-3661-4a72-dffa-ecffd6aa3ab6"
      },
      "source": [
        "model.evaluate(AEs_X, AEs_y)"
      ],
      "execution_count": null,
      "outputs": [
        {
          "output_type": "stream",
          "text": [
            "4/4 [==============================] - 0s 5ms/step - loss: 1.7058 - accuracy: 0.6400\n"
          ],
          "name": "stdout"
        },
        {
          "output_type": "execute_result",
          "data": {
            "text/plain": [
              "[1.7057549953460693, 0.6399999856948853]"
            ]
          },
          "metadata": {
            "tags": []
          },
          "execution_count": 34
        }
      ]
    },
    {
      "cell_type": "code",
      "metadata": {
        "id": "9hOD3tY9dqxN"
      },
      "source": [
        "0.63, 0.65, 0.57||0.5, 0.47, 0.46, 0.46, 0.40, 0.41"
      ],
      "execution_count": null,
      "outputs": []
    }
  ]
}