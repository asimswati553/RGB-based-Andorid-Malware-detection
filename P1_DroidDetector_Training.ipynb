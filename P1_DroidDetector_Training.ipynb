{
  "nbformat": 4,
  "nbformat_minor": 0,
  "metadata": {
    "colab": {
      "name": "P1:DroidDetector_Training",
      "provenance": [],
      "collapsed_sections": []
    },
    "kernelspec": {
      "name": "python3",
      "display_name": "Python 3"
    },
    "accelerator": "GPU"
  },
  "cells": [
    {
      "cell_type": "markdown",
      "metadata": {
        "id": "mqw9pg3bxELT"
      },
      "source": [
        "DroidDetector: Android Malware Characterization and Detection\n",
        "Using Deep Learning"
      ]
    },
    {
      "cell_type": "markdown",
      "metadata": {
        "id": "gJneHiC19OdC"
      },
      "source": [
        "**Implementation**"
      ]
    },
    {
      "cell_type": "code",
      "metadata": {
        "id": "lUo0M8SexE8F",
        "colab": {
          "base_uri": "https://localhost:8080/",
          "height": 55
        },
        "outputId": "b6f3034b-a582-4694-e631-09a8cd88e928"
      },
      "source": [
        "from google.colab import drive\n",
        "drive.mount('/content/gdrive')"
      ],
      "execution_count": null,
      "outputs": [
        {
          "output_type": "stream",
          "text": [
            "Drive already mounted at /content/gdrive; to attempt to forcibly remount, call drive.mount(\"/content/gdrive\", force_remount=True).\n"
          ],
          "name": "stdout"
        }
      ]
    },
    {
      "cell_type": "code",
      "metadata": {
        "id": "C1nh82x4xIFK"
      },
      "source": [
        "# import libraries\n",
        "import tensorflow as tf\n",
        "from keras.models import Sequential\n",
        "from keras.layers import Dense\n",
        "from sklearn.model_selection import train_test_split\n",
        "from scipy.sparse import csr_matrix\n",
        "import numpy as np\n",
        "import pandas as pd\n",
        "import glob\n",
        "import time\n",
        "import scipy\n",
        "import shutil # for moving files from ondirectory to other\n",
        "import ast\n",
        "import io\n",
        "import os"
      ],
      "execution_count": null,
      "outputs": []
    },
    {
      "cell_type": "markdown",
      "metadata": {
        "id": "P8y50N1NqGEW"
      },
      "source": [
        "Deep Blief Network"
      ]
    },
    {
      "cell_type": "code",
      "metadata": {
        "id": "-LM1FIzJq7nE",
        "colab": {
          "base_uri": "https://localhost:8080/",
          "height": 108
        },
        "outputId": "902b839e-6175-4d38-9e48-a359358e660b"
      },
      "source": [
        "#Cloning Deep belief network\n",
        "!git clone https://github.com/albertbup/deep-belief-network.git"
      ],
      "execution_count": null,
      "outputs": [
        {
          "output_type": "stream",
          "text": [
            "Cloning into 'deep-belief-network'...\n",
            "remote: Enumerating objects: 789, done.\u001b[K\n",
            "remote: Total 789 (delta 0), reused 0 (delta 0), pack-reused 789\u001b[K\n",
            "Receiving objects: 100% (789/789), 178.18 KiB | 333.00 KiB/s, done.\n",
            "Resolving deltas: 100% (457/457), done.\n"
          ],
          "name": "stdout"
        }
      ]
    },
    {
      "cell_type": "code",
      "metadata": {
        "id": "8WaPtjeyo5rD",
        "colab": {
          "base_uri": "https://localhost:8080/",
          "height": 35
        },
        "outputId": "1161ebd6-7520-44da-9f59-4fcebe9f3a78"
      },
      "source": [
        "import os\n",
        "os.chdir('deep-belief-network')\n",
        "!pwd"
      ],
      "execution_count": null,
      "outputs": [
        {
          "output_type": "stream",
          "text": [
            "/content/deep-belief-network\n"
          ],
          "name": "stdout"
        }
      ]
    },
    {
      "cell_type": "code",
      "metadata": {
        "id": "Hn6RIwjBpJq5",
        "colab": {
          "base_uri": "https://localhost:8080/",
          "height": 90
        },
        "outputId": "7d5cf7a7-c291-4344-8fac-374b0905bf91"
      },
      "source": [
        "!cat requirements.txt"
      ],
      "execution_count": null,
      "outputs": [
        {
          "output_type": "stream",
          "text": [
            "numpy>=1.12.0\n",
            "scipy>=0.18.1\n",
            "scikit-learn>=0.18.1\n",
            "tensorflow>=1.5.0\n"
          ],
          "name": "stdout"
        }
      ]
    },
    {
      "cell_type": "code",
      "metadata": {
        "id": "sh_g_Yz9piH7",
        "colab": {
          "base_uri": "https://localhost:8080/",
          "height": 746
        },
        "outputId": "0699627d-95e5-46f7-cd0c-b7a200027fe6"
      },
      "source": [
        "!sudo pip install -r requirements.txt"
      ],
      "execution_count": null,
      "outputs": [
        {
          "output_type": "stream",
          "text": [
            "Requirement already satisfied: numpy>=1.12.0 in /usr/local/lib/python3.6/dist-packages (from -r requirements.txt (line 1)) (1.18.5)\n",
            "Requirement already satisfied: scipy>=0.18.1 in /usr/local/lib/python3.6/dist-packages (from -r requirements.txt (line 2)) (1.4.1)\n",
            "Requirement already satisfied: scikit-learn>=0.18.1 in /usr/local/lib/python3.6/dist-packages (from -r requirements.txt (line 3)) (0.22.2.post1)\n",
            "Requirement already satisfied: tensorflow>=1.5.0 in /usr/local/lib/python3.6/dist-packages (from -r requirements.txt (line 4)) (2.3.0)\n",
            "Requirement already satisfied: joblib>=0.11 in /usr/local/lib/python3.6/dist-packages (from scikit-learn>=0.18.1->-r requirements.txt (line 3)) (0.16.0)\n",
            "Requirement already satisfied: keras-preprocessing<1.2,>=1.1.1 in /usr/local/lib/python3.6/dist-packages (from tensorflow>=1.5.0->-r requirements.txt (line 4)) (1.1.2)\n",
            "Requirement already satisfied: absl-py>=0.7.0 in /usr/local/lib/python3.6/dist-packages (from tensorflow>=1.5.0->-r requirements.txt (line 4)) (0.10.0)\n",
            "Requirement already satisfied: gast==0.3.3 in /usr/local/lib/python3.6/dist-packages (from tensorflow>=1.5.0->-r requirements.txt (line 4)) (0.3.3)\n",
            "Requirement already satisfied: google-pasta>=0.1.8 in /usr/local/lib/python3.6/dist-packages (from tensorflow>=1.5.0->-r requirements.txt (line 4)) (0.2.0)\n",
            "Requirement already satisfied: astunparse==1.6.3 in /usr/local/lib/python3.6/dist-packages (from tensorflow>=1.5.0->-r requirements.txt (line 4)) (1.6.3)\n",
            "Requirement already satisfied: protobuf>=3.9.2 in /usr/local/lib/python3.6/dist-packages (from tensorflow>=1.5.0->-r requirements.txt (line 4)) (3.12.4)\n",
            "Requirement already satisfied: tensorboard<3,>=2.3.0 in /usr/local/lib/python3.6/dist-packages (from tensorflow>=1.5.0->-r requirements.txt (line 4)) (2.3.0)\n",
            "Requirement already satisfied: tensorflow-estimator<2.4.0,>=2.3.0 in /usr/local/lib/python3.6/dist-packages (from tensorflow>=1.5.0->-r requirements.txt (line 4)) (2.3.0)\n",
            "Requirement already satisfied: wheel>=0.26 in /usr/local/lib/python3.6/dist-packages (from tensorflow>=1.5.0->-r requirements.txt (line 4)) (0.35.1)\n",
            "Requirement already satisfied: six>=1.12.0 in /usr/local/lib/python3.6/dist-packages (from tensorflow>=1.5.0->-r requirements.txt (line 4)) (1.15.0)\n",
            "Requirement already satisfied: grpcio>=1.8.6 in /usr/local/lib/python3.6/dist-packages (from tensorflow>=1.5.0->-r requirements.txt (line 4)) (1.32.0)\n",
            "Requirement already satisfied: h5py<2.11.0,>=2.10.0 in /usr/local/lib/python3.6/dist-packages (from tensorflow>=1.5.0->-r requirements.txt (line 4)) (2.10.0)\n",
            "Requirement already satisfied: wrapt>=1.11.1 in /usr/local/lib/python3.6/dist-packages (from tensorflow>=1.5.0->-r requirements.txt (line 4)) (1.12.1)\n",
            "Requirement already satisfied: opt-einsum>=2.3.2 in /usr/local/lib/python3.6/dist-packages (from tensorflow>=1.5.0->-r requirements.txt (line 4)) (3.3.0)\n",
            "Requirement already satisfied: termcolor>=1.1.0 in /usr/local/lib/python3.6/dist-packages (from tensorflow>=1.5.0->-r requirements.txt (line 4)) (1.1.0)\n",
            "Requirement already satisfied: setuptools in /usr/local/lib/python3.6/dist-packages (from protobuf>=3.9.2->tensorflow>=1.5.0->-r requirements.txt (line 4)) (50.3.0)\n",
            "Requirement already satisfied: markdown>=2.6.8 in /usr/local/lib/python3.6/dist-packages (from tensorboard<3,>=2.3.0->tensorflow>=1.5.0->-r requirements.txt (line 4)) (3.2.2)\n",
            "Requirement already satisfied: requests<3,>=2.21.0 in /usr/local/lib/python3.6/dist-packages (from tensorboard<3,>=2.3.0->tensorflow>=1.5.0->-r requirements.txt (line 4)) (2.23.0)\n",
            "Requirement already satisfied: werkzeug>=0.11.15 in /usr/local/lib/python3.6/dist-packages (from tensorboard<3,>=2.3.0->tensorflow>=1.5.0->-r requirements.txt (line 4)) (1.0.1)\n",
            "Requirement already satisfied: tensorboard-plugin-wit>=1.6.0 in /usr/local/lib/python3.6/dist-packages (from tensorboard<3,>=2.3.0->tensorflow>=1.5.0->-r requirements.txt (line 4)) (1.7.0)\n",
            "Requirement already satisfied: google-auth<2,>=1.6.3 in /usr/local/lib/python3.6/dist-packages (from tensorboard<3,>=2.3.0->tensorflow>=1.5.0->-r requirements.txt (line 4)) (1.17.2)\n",
            "Requirement already satisfied: google-auth-oauthlib<0.5,>=0.4.1 in /usr/local/lib/python3.6/dist-packages (from tensorboard<3,>=2.3.0->tensorflow>=1.5.0->-r requirements.txt (line 4)) (0.4.1)\n",
            "Requirement already satisfied: importlib-metadata; python_version < \"3.8\" in /usr/local/lib/python3.6/dist-packages (from markdown>=2.6.8->tensorboard<3,>=2.3.0->tensorflow>=1.5.0->-r requirements.txt (line 4)) (1.7.0)\n",
            "Requirement already satisfied: chardet<4,>=3.0.2 in /usr/local/lib/python3.6/dist-packages (from requests<3,>=2.21.0->tensorboard<3,>=2.3.0->tensorflow>=1.5.0->-r requirements.txt (line 4)) (3.0.4)\n",
            "Requirement already satisfied: certifi>=2017.4.17 in /usr/local/lib/python3.6/dist-packages (from requests<3,>=2.21.0->tensorboard<3,>=2.3.0->tensorflow>=1.5.0->-r requirements.txt (line 4)) (2020.6.20)\n",
            "Requirement already satisfied: idna<3,>=2.5 in /usr/local/lib/python3.6/dist-packages (from requests<3,>=2.21.0->tensorboard<3,>=2.3.0->tensorflow>=1.5.0->-r requirements.txt (line 4)) (2.10)\n",
            "Requirement already satisfied: urllib3!=1.25.0,!=1.25.1,<1.26,>=1.21.1 in /usr/local/lib/python3.6/dist-packages (from requests<3,>=2.21.0->tensorboard<3,>=2.3.0->tensorflow>=1.5.0->-r requirements.txt (line 4)) (1.24.3)\n",
            "Requirement already satisfied: pyasn1-modules>=0.2.1 in /usr/local/lib/python3.6/dist-packages (from google-auth<2,>=1.6.3->tensorboard<3,>=2.3.0->tensorflow>=1.5.0->-r requirements.txt (line 4)) (0.2.8)\n",
            "Requirement already satisfied: rsa<5,>=3.1.4; python_version >= \"3\" in /usr/local/lib/python3.6/dist-packages (from google-auth<2,>=1.6.3->tensorboard<3,>=2.3.0->tensorflow>=1.5.0->-r requirements.txt (line 4)) (4.6)\n",
            "Requirement already satisfied: cachetools<5.0,>=2.0.0 in /usr/local/lib/python3.6/dist-packages (from google-auth<2,>=1.6.3->tensorboard<3,>=2.3.0->tensorflow>=1.5.0->-r requirements.txt (line 4)) (4.1.1)\n",
            "Requirement already satisfied: requests-oauthlib>=0.7.0 in /usr/local/lib/python3.6/dist-packages (from google-auth-oauthlib<0.5,>=0.4.1->tensorboard<3,>=2.3.0->tensorflow>=1.5.0->-r requirements.txt (line 4)) (1.3.0)\n",
            "Requirement already satisfied: zipp>=0.5 in /usr/local/lib/python3.6/dist-packages (from importlib-metadata; python_version < \"3.8\"->markdown>=2.6.8->tensorboard<3,>=2.3.0->tensorflow>=1.5.0->-r requirements.txt (line 4)) (3.1.0)\n",
            "Requirement already satisfied: pyasn1<0.5.0,>=0.4.6 in /usr/local/lib/python3.6/dist-packages (from pyasn1-modules>=0.2.1->google-auth<2,>=1.6.3->tensorboard<3,>=2.3.0->tensorflow>=1.5.0->-r requirements.txt (line 4)) (0.4.8)\n",
            "Requirement already satisfied: oauthlib>=3.0.0 in /usr/local/lib/python3.6/dist-packages (from requests-oauthlib>=0.7.0->google-auth-oauthlib<0.5,>=0.4.1->tensorboard<3,>=2.3.0->tensorflow>=1.5.0->-r requirements.txt (line 4)) (3.1.0)\n"
          ],
          "name": "stdout"
        }
      ]
    },
    {
      "cell_type": "markdown",
      "metadata": {
        "id": "TS8Q7WgMulXI"
      },
      "source": [
        "Training"
      ]
    },
    {
      "cell_type": "code",
      "metadata": {
        "id": "8UNNSC2Zppgw",
        "colab": {
          "base_uri": "https://localhost:8080/",
          "height": 74
        },
        "outputId": "4d06605c-cc57-4382-dc23-b6650d39bcd1"
      },
      "source": [
        "import numpy as np\n",
        "from numpy import load\n",
        "\n",
        "from sklearn.model_selection import train_test_split\n",
        "from sklearn.metrics.classification import accuracy_score\n",
        "\n",
        "from dbn import SupervisedDBNClassification"
      ],
      "execution_count": null,
      "outputs": [
        {
          "output_type": "stream",
          "text": [
            "/usr/local/lib/python3.6/dist-packages/sklearn/utils/deprecation.py:144: FutureWarning: The sklearn.metrics.classification module is  deprecated in version 0.22 and will be removed in version 0.24. The corresponding classes / functions should instead be imported from sklearn.metrics. Anything that cannot be imported from sklearn.metrics is now part of the private API.\n",
            "  warnings.warn(message, FutureWarning)\n"
          ],
          "name": "stderr"
        }
      ]
    },
    {
      "cell_type": "code",
      "metadata": {
        "id": "OQTk_G9I7vH6",
        "colab": {
          "base_uri": "https://localhost:8080/",
          "height": 54
        },
        "outputId": "67527fdc-a2bd-4d48-b8a6-7119a8095873"
      },
      "source": [
        "#Loading benign and malware matrix\n",
        "Xbenign = load('/content/gdrive/My Drive/Research-Adverserial_ML/P1_DroidDetector/Data/Benign_Binary_Matrix.npy')#[:880]\n",
        "Xmalware = load('/content/gdrive/My Drive/Research-Adverserial_ML/P1_DroidDetector/Data/Malware_Binary_Matrix.npy')#[:880]\n",
        "\n",
        "print(Xbenign.shape)\n",
        "print(Xmalware.shape)"
      ],
      "execution_count": null,
      "outputs": [
        {
          "output_type": "stream",
          "text": [
            "(4000, 179)\n",
            "(4000, 179)\n"
          ],
          "name": "stdout"
        }
      ]
    },
    {
      "cell_type": "code",
      "metadata": {
        "id": "v6lYNbgk_EaG",
        "colab": {
          "base_uri": "https://localhost:8080/",
          "height": 35
        },
        "outputId": "24ae1b18-44f1-4374-ae42-b3320032c856"
      },
      "source": [
        "X = np.vstack([Xbenign, Xmalware])\n",
        "print(X.shape)"
      ],
      "execution_count": null,
      "outputs": [
        {
          "output_type": "stream",
          "text": [
            "(8000, 179)\n"
          ],
          "name": "stdout"
        }
      ]
    },
    {
      "cell_type": "code",
      "metadata": {
        "id": "izWzaMOf_NYW"
      },
      "source": [
        "# making of labels(Y)\n",
        "benign_Y = np.zeros(Xbenign.shape[0], dtype=np.int32)\n",
        "malware_Y = np.ones(Xmalware.shape[0], dtype=np.int32)\n",
        "Y = np.hstack((benign_Y, malware_Y))"
      ],
      "execution_count": null,
      "outputs": []
    },
    {
      "cell_type": "code",
      "metadata": {
        "id": "z-UmJjrR_P3E",
        "colab": {
          "base_uri": "https://localhost:8080/",
          "height": 54
        },
        "outputId": "a2c63f5a-27a1-413a-ced9-f5ca760a214e"
      },
      "source": [
        "print(Y.shape)\n",
        "print(Y)"
      ],
      "execution_count": null,
      "outputs": [
        {
          "output_type": "stream",
          "text": [
            "(8000,)\n",
            "[0 0 0 ... 1 1 1]\n"
          ],
          "name": "stdout"
        }
      ]
    },
    {
      "cell_type": "code",
      "metadata": {
        "id": "_AMAF9VZ7mH3"
      },
      "source": [
        "X_train, X_test, Y_train, Y_test = train_test_split(X, Y, test_size=0.25, random_state=0)"
      ],
      "execution_count": null,
      "outputs": []
    },
    {
      "cell_type": "code",
      "metadata": {
        "id": "JAF4iN9brBDE"
      },
      "source": [
        "# Training\n",
        "classifier = SupervisedDBNClassification(hidden_layers_structure=[150, 150],\n",
        "                                         learning_rate_rbm=0.05,\n",
        "                                         learning_rate=0.1,\n",
        "                                         n_epochs_rbm=10,\n",
        "                                         n_iter_backprop=100,\n",
        "                                         batch_size=32,\n",
        "                                         activation_function='relu',\n",
        "                                         dropout_p=0.2)"
      ],
      "execution_count": null,
      "outputs": []
    },
    {
      "cell_type": "code",
      "metadata": {
        "id": "FQLU9g0CrBF1",
        "colab": {
          "base_uri": "https://localhost:8080/",
          "height": 1000
        },
        "outputId": "a4486046-4821-42fc-a17c-bd84b6a6a2dd"
      },
      "source": [
        "classifier.fit(X_train, Y_train)"
      ],
      "execution_count": null,
      "outputs": [
        {
          "output_type": "stream",
          "text": [
            "[START] Pre-training step:\n",
            ">> Epoch 1 finished \tRBM Reconstruction error 4.295236\n",
            ">> Epoch 2 finished \tRBM Reconstruction error 2.756657\n",
            ">> Epoch 3 finished \tRBM Reconstruction error 2.157675\n",
            ">> Epoch 4 finished \tRBM Reconstruction error 1.693683\n",
            ">> Epoch 5 finished \tRBM Reconstruction error 1.446827\n",
            ">> Epoch 6 finished \tRBM Reconstruction error 1.353263\n",
            ">> Epoch 7 finished \tRBM Reconstruction error 1.217565\n",
            ">> Epoch 8 finished \tRBM Reconstruction error 1.302389\n",
            ">> Epoch 9 finished \tRBM Reconstruction error 1.229201\n",
            ">> Epoch 10 finished \tRBM Reconstruction error 1.192614\n",
            ">> Epoch 1 finished \tRBM Reconstruction error 3.476505\n",
            ">> Epoch 2 finished \tRBM Reconstruction error 2.175033\n",
            ">> Epoch 3 finished \tRBM Reconstruction error 1.689672\n",
            ">> Epoch 4 finished \tRBM Reconstruction error 1.502826\n",
            ">> Epoch 5 finished \tRBM Reconstruction error 1.185856\n",
            ">> Epoch 6 finished \tRBM Reconstruction error 1.218247\n",
            ">> Epoch 7 finished \tRBM Reconstruction error 1.123205\n",
            ">> Epoch 8 finished \tRBM Reconstruction error 1.083634\n",
            ">> Epoch 9 finished \tRBM Reconstruction error 1.053548\n",
            ">> Epoch 10 finished \tRBM Reconstruction error 0.984361\n",
            "[END] Pre-training step\n",
            "[START] Fine tuning step:\n",
            ">> Epoch 1 finished \tANN training loss 0.585399\n",
            ">> Epoch 2 finished \tANN training loss 0.478707\n",
            ">> Epoch 3 finished \tANN training loss 0.440151\n",
            ">> Epoch 4 finished \tANN training loss 0.436921\n",
            ">> Epoch 5 finished \tANN training loss 0.412914\n",
            ">> Epoch 6 finished \tANN training loss 0.404102\n",
            ">> Epoch 7 finished \tANN training loss 0.395510\n",
            ">> Epoch 8 finished \tANN training loss 0.400846\n",
            ">> Epoch 9 finished \tANN training loss 0.382724\n",
            ">> Epoch 10 finished \tANN training loss 0.385092\n",
            ">> Epoch 11 finished \tANN training loss 0.386808\n",
            ">> Epoch 12 finished \tANN training loss 0.386813\n",
            ">> Epoch 13 finished \tANN training loss 0.367869\n",
            ">> Epoch 14 finished \tANN training loss 0.376836\n",
            ">> Epoch 15 finished \tANN training loss 0.351438\n",
            ">> Epoch 16 finished \tANN training loss 0.364952\n",
            ">> Epoch 17 finished \tANN training loss 0.356696\n",
            ">> Epoch 18 finished \tANN training loss 0.348504\n",
            ">> Epoch 19 finished \tANN training loss 0.347493\n",
            ">> Epoch 20 finished \tANN training loss 0.339469\n",
            ">> Epoch 21 finished \tANN training loss 0.345258\n",
            ">> Epoch 22 finished \tANN training loss 0.331977\n",
            ">> Epoch 23 finished \tANN training loss 0.328530\n",
            ">> Epoch 24 finished \tANN training loss 0.326958\n",
            ">> Epoch 25 finished \tANN training loss 0.337380\n",
            ">> Epoch 26 finished \tANN training loss 0.328850\n",
            ">> Epoch 27 finished \tANN training loss 0.322090\n",
            ">> Epoch 28 finished \tANN training loss 0.319263\n",
            ">> Epoch 29 finished \tANN training loss 0.318294\n",
            ">> Epoch 30 finished \tANN training loss 0.315154\n",
            ">> Epoch 31 finished \tANN training loss 0.318593\n",
            ">> Epoch 32 finished \tANN training loss 0.306322\n",
            ">> Epoch 33 finished \tANN training loss 0.305248\n",
            ">> Epoch 34 finished \tANN training loss 0.304016\n",
            ">> Epoch 35 finished \tANN training loss 0.304956\n",
            ">> Epoch 36 finished \tANN training loss 0.305849\n",
            ">> Epoch 37 finished \tANN training loss 0.295674\n",
            ">> Epoch 38 finished \tANN training loss 0.287312\n",
            ">> Epoch 39 finished \tANN training loss 0.297113\n",
            ">> Epoch 40 finished \tANN training loss 0.300928\n",
            ">> Epoch 41 finished \tANN training loss 0.300725\n",
            ">> Epoch 42 finished \tANN training loss 0.291269\n",
            ">> Epoch 43 finished \tANN training loss 0.286100\n",
            ">> Epoch 44 finished \tANN training loss 0.282540\n",
            ">> Epoch 45 finished \tANN training loss 0.284629\n",
            ">> Epoch 46 finished \tANN training loss 0.277197\n",
            ">> Epoch 47 finished \tANN training loss 0.274193\n",
            ">> Epoch 48 finished \tANN training loss 0.288615\n",
            ">> Epoch 49 finished \tANN training loss 0.273606\n",
            ">> Epoch 50 finished \tANN training loss 0.288748\n",
            ">> Epoch 51 finished \tANN training loss 0.276460\n",
            ">> Epoch 52 finished \tANN training loss 0.291402\n",
            ">> Epoch 53 finished \tANN training loss 0.263741\n",
            ">> Epoch 54 finished \tANN training loss 0.278500\n",
            ">> Epoch 55 finished \tANN training loss 0.265933\n",
            ">> Epoch 56 finished \tANN training loss 0.267681\n",
            ">> Epoch 57 finished \tANN training loss 0.268265\n",
            ">> Epoch 58 finished \tANN training loss 0.272017\n",
            ">> Epoch 59 finished \tANN training loss 0.264685\n",
            ">> Epoch 60 finished \tANN training loss 0.265822\n",
            ">> Epoch 61 finished \tANN training loss 0.285204\n",
            ">> Epoch 62 finished \tANN training loss 0.273043\n",
            ">> Epoch 63 finished \tANN training loss 0.266374\n",
            ">> Epoch 64 finished \tANN training loss 0.260516\n",
            ">> Epoch 65 finished \tANN training loss 0.270580\n",
            ">> Epoch 66 finished \tANN training loss 0.258599\n",
            ">> Epoch 67 finished \tANN training loss 0.262647\n",
            ">> Epoch 68 finished \tANN training loss 0.254868\n",
            ">> Epoch 69 finished \tANN training loss 0.263182\n",
            ">> Epoch 70 finished \tANN training loss 0.250931\n",
            ">> Epoch 71 finished \tANN training loss 0.252255\n",
            ">> Epoch 72 finished \tANN training loss 0.258861\n",
            ">> Epoch 73 finished \tANN training loss 0.270236\n",
            ">> Epoch 74 finished \tANN training loss 0.245886\n",
            ">> Epoch 75 finished \tANN training loss 0.245097\n",
            ">> Epoch 76 finished \tANN training loss 0.259040\n",
            ">> Epoch 77 finished \tANN training loss 0.238902\n",
            ">> Epoch 78 finished \tANN training loss 0.258899\n",
            ">> Epoch 79 finished \tANN training loss 0.246924\n",
            ">> Epoch 80 finished \tANN training loss 0.241475\n",
            ">> Epoch 81 finished \tANN training loss 0.239498\n",
            ">> Epoch 82 finished \tANN training loss 0.238509\n",
            ">> Epoch 83 finished \tANN training loss 0.243122\n",
            ">> Epoch 84 finished \tANN training loss 0.241241\n",
            ">> Epoch 85 finished \tANN training loss 0.239321\n",
            ">> Epoch 86 finished \tANN training loss 0.234843\n",
            ">> Epoch 87 finished \tANN training loss 0.239530\n",
            ">> Epoch 88 finished \tANN training loss 0.236224\n",
            ">> Epoch 89 finished \tANN training loss 0.249509\n",
            ">> Epoch 90 finished \tANN training loss 0.240610\n",
            ">> Epoch 91 finished \tANN training loss 0.237840\n",
            ">> Epoch 92 finished \tANN training loss 0.238584\n",
            ">> Epoch 93 finished \tANN training loss 0.244449\n",
            ">> Epoch 94 finished \tANN training loss 0.235318\n",
            ">> Epoch 95 finished \tANN training loss 0.242154\n",
            ">> Epoch 96 finished \tANN training loss 0.242616\n",
            ">> Epoch 97 finished \tANN training loss 0.246973\n",
            ">> Epoch 98 finished \tANN training loss 0.247407\n",
            ">> Epoch 99 finished \tANN training loss 0.230124\n",
            ">> Epoch 100 finished \tANN training loss 0.232739\n",
            "[END] Fine tuning step\n"
          ],
          "name": "stdout"
        },
        {
          "output_type": "execute_result",
          "data": {
            "text/plain": [
              "SupervisedDBNClassification()"
            ]
          },
          "metadata": {
            "tags": []
          },
          "execution_count": 14
        }
      ]
    },
    {
      "cell_type": "code",
      "metadata": {
        "id": "wmEamQMzyYk_"
      },
      "source": [
        "from sklearn.metrics import accuracy_score\n",
        "from sklearn.metrics import matthews_corrcoef\n",
        "from sklearn.metrics import f1_score\n",
        "from sklearn.metrics import recall_score\n",
        "from sklearn.metrics import precision_score\n",
        "from sklearn.metrics import confusion_matrix\n"
      ],
      "execution_count": null,
      "outputs": []
    },
    {
      "cell_type": "code",
      "metadata": {
        "id": "9N4BUcH30kcW"
      },
      "source": [
        ""
      ],
      "execution_count": null,
      "outputs": []
    },
    {
      "cell_type": "code",
      "metadata": {
        "id": "neI4CChC0dtd"
      },
      "source": [
        "def different_evaluations(tn, fp, fn, tp, y_test, y_pred):\n",
        "  # FPr and RNr\n",
        "  FPr = fp/ (fp+tn)\n",
        "  FNr = fn/ (fn+tp)\n",
        "  print(\"False positive rate is : \", FPr)\n",
        "  print(\"False negative rate is : \", FNr)\n",
        "  # F1-score\n",
        "  print(\"The F1-score is : \", f1_score(y_test, y_pred))\n",
        "\n",
        "  # Recall\n",
        "  print(\"The Recall is : \", recall_score(y_test, y_pred))\n",
        "\n",
        "  # Precision\n",
        "  print(\"The Precision score is : \", precision_score(y_test, y_pred))"
      ],
      "execution_count": null,
      "outputs": []
    },
    {
      "cell_type": "code",
      "metadata": {
        "id": "HqHYcyBdmv5I"
      },
      "source": [
        "y_predict = classifier.predict(X_test)\n",
        "#y_predict = predictions.reshape((predictions.shape[0]))"
      ],
      "execution_count": null,
      "outputs": []
    },
    {
      "cell_type": "code",
      "metadata": {
        "id": "mPEMEiJ0yYtz",
        "colab": {
          "base_uri": "https://localhost:8080/",
          "height": 35
        },
        "outputId": "062f5d53-8b07-4316-e3bd-41f150754578"
      },
      "source": [
        "accuracy_score(Y_test, y_predict)"
      ],
      "execution_count": null,
      "outputs": [
        {
          "output_type": "execute_result",
          "data": {
            "text/plain": [
              "0.962"
            ]
          },
          "metadata": {
            "tags": []
          },
          "execution_count": 18
        }
      ]
    },
    {
      "cell_type": "code",
      "metadata": {
        "id": "P-IdhDHY0onc"
      },
      "source": [
        ""
      ],
      "execution_count": null,
      "outputs": []
    },
    {
      "cell_type": "code",
      "metadata": {
        "id": "hWBlwNVU1wT7",
        "colab": {
          "base_uri": "https://localhost:8080/",
          "height": 54
        },
        "outputId": "75016843-94be-417b-ad16-7ca3ed1662ab"
      },
      "source": [
        "conf_mtrx = confusion_matrix(Y_test, y_predict)\n",
        "print(conf_mtrx)"
      ],
      "execution_count": null,
      "outputs": [
        {
          "output_type": "stream",
          "text": [
            "[[981  21]\n",
            " [ 55 943]]\n"
          ],
          "name": "stdout"
        }
      ]
    },
    {
      "cell_type": "code",
      "metadata": {
        "id": "0mYW-xOC0rMz",
        "colab": {
          "base_uri": "https://localhost:8080/",
          "height": 108
        },
        "outputId": "cae5decd-c7e9-400d-d403-b97755314d1a"
      },
      "source": [
        "tn, fp, fn, tp = conf_mtrx.ravel()\n",
        "different_evaluations(tn, fp, fn, tp, Y_test, y_predict)"
      ],
      "execution_count": null,
      "outputs": [
        {
          "output_type": "stream",
          "text": [
            "False positive rate is :  0.020958083832335328\n",
            "False negative rate is :  0.05511022044088176\n",
            "The F1-score is :  0.9612640163098879\n",
            "The Recall is :  0.9448897795591182\n",
            "The Precision score is :  0.9782157676348547\n"
          ],
          "name": "stdout"
        }
      ]
    },
    {
      "cell_type": "markdown",
      "metadata": {
        "id": "GAhclP7n0QAi"
      },
      "source": [
        "**Performing Attack**"
      ]
    },
    {
      "cell_type": "code",
      "metadata": {
        "id": "81U63RK2I8QD"
      },
      "source": [
        "X_normal_malicious = '/content/gdrive/My Drive/Research-Adverserial_ML/P1_DroidDetector/Data/AEs_with_GANs_Attack2_top2bottom/Perturbation_RatioWise/*'"
      ],
      "execution_count": null,
      "outputs": []
    },
    {
      "cell_type": "code",
      "metadata": {
        "id": "pMvlZhEw_xY2",
        "colab": {
          "base_uri": "https://localhost:8080/",
          "height": 199
        },
        "outputId": "4fe29635-c8ff-42d3-94e8-2e4e058ce4ac"
      },
      "source": [
        "for npy in glob.glob(X_normal_malicious):\n",
        "  y_predict = classifier.predict(load(npy))\n",
        "  print(npy.split('/')[-1], accuracy_score(Y_normal_malicious, y_predict))\n",
        "\n",
        "#print(y_predict)\n",
        "#y_predict = predictions.reshape((predictions.shape[0]))"
      ],
      "execution_count": null,
      "outputs": [
        {
          "output_type": "stream",
          "text": [
            "AEs_12PerCent_ratioWiese.npy 0.82\n",
            "AEs_13PerCent_ratioWiese.npy 0.7666666666666667\n",
            "AEs_10PerCent_ratioWiese.npy 0.8866666666666667\n",
            "AEs_9PerCent_ratioWiese.npy 0.9133333333333333\n",
            "AEs_11PerCent_ratioWiese.npy 0.82\n",
            "AEs_8PerCent_ratioWiese.npy 0.9133333333333333\n",
            "AEs_7PerCent_ratioWiese.npy 0.94\n",
            "AEs_20PerCent_ratioWiese.npy 0.6066666666666667\n",
            "AEs_14PerCent_ratioWiese.npy 0.7666666666666667\n",
            "AEs_15PerCent_ratioWiese.npy 0.6733333333333333\n"
          ],
          "name": "stdout"
        }
      ]
    },
    {
      "cell_type": "code",
      "metadata": {
        "id": "HlUixcrRPppW",
        "colab": {
          "base_uri": "https://localhost:8080/",
          "height": 35
        },
        "outputId": "eba83812-e188-4ee8-fa1a-cee4502d9460"
      },
      "source": [
        "y_predict = classifier.predict(load(X_normal_malicious))\n",
        "zeros = []\n",
        "for i in range(len(y_predict)):\n",
        "  if(y_predict[i]==0):\n",
        "    zeros.append(i)\n",
        "print(zeros)"
      ],
      "execution_count": null,
      "outputs": [
        {
          "output_type": "stream",
          "text": [
            "[2, 16, 18, 21, 30, 37, 40, 44, 53, 73, 79, 129, 131, 140]\n"
          ],
          "name": "stdout"
        }
      ]
    },
    {
      "cell_type": "code",
      "metadata": {
        "id": "6fUJf_pmJM0t"
      },
      "source": [
        "Y_normal_malicious = np.ones(150, dtype=np.int32)\n",
        "Y_normal_malicious[np.array(zeros)]=0"
      ],
      "execution_count": null,
      "outputs": []
    },
    {
      "cell_type": "code",
      "metadata": {
        "id": "dmFxZz3aHpqa",
        "colab": {
          "base_uri": "https://localhost:8080/",
          "height": 35
        },
        "outputId": "bbc6c1bf-f248-495b-a56b-5599f59cb08c"
      },
      "source": [
        "accuracy_score(Y_normal_malicious, y_predict)"
      ],
      "execution_count": null,
      "outputs": [
        {
          "output_type": "execute_result",
          "data": {
            "text/plain": [
              "1.0"
            ]
          },
          "metadata": {
            "tags": []
          },
          "execution_count": 29
        }
      ]
    },
    {
      "cell_type": "code",
      "metadata": {
        "id": "deAzKPKnAMDp",
        "colab": {
          "base_uri": "https://localhost:8080/",
          "height": 54
        },
        "outputId": "40ef5636-dc02-4229-8553-de5d22d7c412"
      },
      "source": [
        "conf_mtrx = confusion_matrix(Y_normal_malicious, y_predict)\n",
        "print(conf_mtrx)"
      ],
      "execution_count": null,
      "outputs": [
        {
          "output_type": "stream",
          "text": [
            "[[ 10   0]\n",
            " [  0 140]]\n"
          ],
          "name": "stdout"
        }
      ]
    },
    {
      "cell_type": "code",
      "metadata": {
        "id": "m7sHO6fpANL8"
      },
      "source": [
        ""
      ],
      "execution_count": null,
      "outputs": []
    },
    {
      "cell_type": "code",
      "metadata": {
        "id": "Bau5UPK0APhx",
        "colab": {
          "base_uri": "https://localhost:8080/",
          "height": 108
        },
        "outputId": "30f5d537-23df-4b7b-d696-b6ec88bae30f"
      },
      "source": [
        "tn, fp, fn, tp = conf_mtrx.ravel()\n",
        "different_evaluations(tn, fp, fn, tp, Y_normal_malicious, y_predict)"
      ],
      "execution_count": null,
      "outputs": [
        {
          "output_type": "stream",
          "text": [
            "False positive rate is :  0.0\n",
            "False negative rate is :  0.0\n",
            "The F1-score is :  1.0\n",
            "The Recall is :  1.0\n",
            "The Precision score is :  1.0\n"
          ],
          "name": "stdout"
        }
      ]
    },
    {
      "cell_type": "code",
      "metadata": {
        "id": "cebWjxwR84D8"
      },
      "source": [
        ""
      ],
      "execution_count": null,
      "outputs": []
    }
  ]
}