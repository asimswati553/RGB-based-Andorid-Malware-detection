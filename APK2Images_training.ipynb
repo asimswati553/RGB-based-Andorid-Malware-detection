{
  "nbformat": 4,
  "nbformat_minor": 0,
  "metadata": {
    "colab": {
      "name": "APK2Images_training.ipynb",
      "provenance": [],
      "collapsed_sections": [],
      "machine_shape": "hm"
    },
    "kernelspec": {
      "name": "python3",
      "display_name": "Python 3"
    }
  },
  "cells": [
    {
      "cell_type": "code",
      "metadata": {
        "id": "-t3QTPvqfvag",
        "colab": {
          "base_uri": "https://localhost:8080/",
          "height": 34
        },
        "outputId": "7cd45947-d8e7-49f6-eb9b-27555c6f20e9"
      },
      "source": [
        "#Import libraries\n",
        "from keras.models import Sequential\n",
        "from keras.layers import Conv2D, MaxPooling2D\n",
        "from keras.layers import Activation, Dropout, Flatten, Dense\n",
        "from numpy import load\n",
        "\n",
        "import os\n",
        "import numpy as np\n",
        "from keras.preprocessing import image\n",
        "from sklearn.model_selection import train_test_split\n",
        "import matplotlib.pyplot as plt\n"
      ],
      "execution_count": null,
      "outputs": [
        {
          "output_type": "stream",
          "text": [
            "Using TensorFlow backend.\n"
          ],
          "name": "stderr"
        }
      ]
    },
    {
      "cell_type": "code",
      "metadata": {
        "id": "ofwOJYg7iG_7"
      },
      "source": [
        ""
      ],
      "execution_count": null,
      "outputs": []
    },
    {
      "cell_type": "code",
      "metadata": {
        "id": "3949aghJiHHo",
        "colab": {
          "base_uri": "https://localhost:8080/",
          "height": 34
        },
        "outputId": "dd56cd71-7a73-46b8-da30-1a984b0c9fde"
      },
      "source": [
        "\n",
        "import tensorflow as tf\n",
        "print(tf.__version__)"
      ],
      "execution_count": null,
      "outputs": [
        {
          "output_type": "stream",
          "text": [
            "2.1.0\n"
          ],
          "name": "stdout"
        }
      ]
    },
    {
      "cell_type": "code",
      "metadata": {
        "id": "schx2Pg_iHDg",
        "colab": {
          "base_uri": "https://localhost:8080/",
          "height": 632
        },
        "outputId": "c07ebaeb-70e1-4b59-ef2a-445dfd2cc26e"
      },
      "source": [
        "#Install tensorflow==2.1.0\n",
        "#!pip install tensorflow==2.1.0"
      ],
      "execution_count": null,
      "outputs": [
        {
          "output_type": "stream",
          "text": [
            "Requirement already satisfied: tensorflow==2.1.0 in /usr/local/lib/python3.6/dist-packages (2.1.0)\n",
            "Requirement already satisfied: gast==0.2.2 in /usr/local/lib/python3.6/dist-packages (from tensorflow==2.1.0) (0.2.2)\n",
            "Requirement already satisfied: termcolor>=1.1.0 in /usr/local/lib/python3.6/dist-packages (from tensorflow==2.1.0) (1.1.0)\n",
            "Requirement already satisfied: protobuf>=3.8.0 in /usr/local/lib/python3.6/dist-packages (from tensorflow==2.1.0) (3.10.0)\n",
            "Requirement already satisfied: scipy==1.4.1; python_version >= \"3\" in /usr/local/lib/python3.6/dist-packages (from tensorflow==2.1.0) (1.4.1)\n",
            "Requirement already satisfied: wheel>=0.26; python_version >= \"3\" in /usr/local/lib/python3.6/dist-packages (from tensorflow==2.1.0) (0.34.2)\n",
            "Requirement already satisfied: keras-preprocessing>=1.1.0 in /usr/local/lib/python3.6/dist-packages (from tensorflow==2.1.0) (1.1.0)\n",
            "Requirement already satisfied: wrapt>=1.11.1 in /usr/local/lib/python3.6/dist-packages (from tensorflow==2.1.0) (1.12.1)\n",
            "Requirement already satisfied: google-pasta>=0.1.6 in /usr/local/lib/python3.6/dist-packages (from tensorflow==2.1.0) (0.2.0)\n",
            "Requirement already satisfied: absl-py>=0.7.0 in /usr/local/lib/python3.6/dist-packages (from tensorflow==2.1.0) (0.9.0)\n",
            "Requirement already satisfied: six>=1.12.0 in /usr/local/lib/python3.6/dist-packages (from tensorflow==2.1.0) (1.12.0)\n",
            "Requirement already satisfied: opt-einsum>=2.3.2 in /usr/local/lib/python3.6/dist-packages (from tensorflow==2.1.0) (3.2.1)\n",
            "Requirement already satisfied: numpy<2.0,>=1.16.0 in /usr/local/lib/python3.6/dist-packages (from tensorflow==2.1.0) (1.18.4)\n",
            "Requirement already satisfied: grpcio>=1.8.6 in /usr/local/lib/python3.6/dist-packages (from tensorflow==2.1.0) (1.28.1)\n",
            "Requirement already satisfied: keras-applications>=1.0.8 in /usr/local/lib/python3.6/dist-packages (from tensorflow==2.1.0) (1.0.8)\n",
            "Requirement already satisfied: astor>=0.6.0 in /usr/local/lib/python3.6/dist-packages (from tensorflow==2.1.0) (0.8.1)\n",
            "Requirement already satisfied: tensorflow-estimator<2.2.0,>=2.1.0rc0 in /usr/local/lib/python3.6/dist-packages (from tensorflow==2.1.0) (2.1.0)\n",
            "Requirement already satisfied: tensorboard<2.2.0,>=2.1.0 in /usr/local/lib/python3.6/dist-packages (from tensorflow==2.1.0) (2.1.1)\n",
            "Requirement already satisfied: setuptools in /usr/local/lib/python3.6/dist-packages (from protobuf>=3.8.0->tensorflow==2.1.0) (46.1.3)\n",
            "Requirement already satisfied: h5py in /usr/local/lib/python3.6/dist-packages (from keras-applications>=1.0.8->tensorflow==2.1.0) (2.10.0)\n",
            "Requirement already satisfied: werkzeug>=0.11.15 in /usr/local/lib/python3.6/dist-packages (from tensorboard<2.2.0,>=2.1.0->tensorflow==2.1.0) (1.0.1)\n",
            "Requirement already satisfied: google-auth<2,>=1.6.3 in /usr/local/lib/python3.6/dist-packages (from tensorboard<2.2.0,>=2.1.0->tensorflow==2.1.0) (1.7.2)\n",
            "Requirement already satisfied: markdown>=2.6.8 in /usr/local/lib/python3.6/dist-packages (from tensorboard<2.2.0,>=2.1.0->tensorflow==2.1.0) (3.2.1)\n",
            "Requirement already satisfied: google-auth-oauthlib<0.5,>=0.4.1 in /usr/local/lib/python3.6/dist-packages (from tensorboard<2.2.0,>=2.1.0->tensorflow==2.1.0) (0.4.1)\n",
            "Requirement already satisfied: requests<3,>=2.21.0 in /usr/local/lib/python3.6/dist-packages (from tensorboard<2.2.0,>=2.1.0->tensorflow==2.1.0) (2.23.0)\n",
            "Requirement already satisfied: cachetools<3.2,>=2.0.0 in /usr/local/lib/python3.6/dist-packages (from google-auth<2,>=1.6.3->tensorboard<2.2.0,>=2.1.0->tensorflow==2.1.0) (3.1.1)\n",
            "Requirement already satisfied: pyasn1-modules>=0.2.1 in /usr/local/lib/python3.6/dist-packages (from google-auth<2,>=1.6.3->tensorboard<2.2.0,>=2.1.0->tensorflow==2.1.0) (0.2.8)\n",
            "Requirement already satisfied: rsa<4.1,>=3.1.4 in /usr/local/lib/python3.6/dist-packages (from google-auth<2,>=1.6.3->tensorboard<2.2.0,>=2.1.0->tensorflow==2.1.0) (4.0)\n",
            "Requirement already satisfied: requests-oauthlib>=0.7.0 in /usr/local/lib/python3.6/dist-packages (from google-auth-oauthlib<0.5,>=0.4.1->tensorboard<2.2.0,>=2.1.0->tensorflow==2.1.0) (1.3.0)\n",
            "Requirement already satisfied: chardet<4,>=3.0.2 in /usr/local/lib/python3.6/dist-packages (from requests<3,>=2.21.0->tensorboard<2.2.0,>=2.1.0->tensorflow==2.1.0) (3.0.4)\n",
            "Requirement already satisfied: urllib3!=1.25.0,!=1.25.1,<1.26,>=1.21.1 in /usr/local/lib/python3.6/dist-packages (from requests<3,>=2.21.0->tensorboard<2.2.0,>=2.1.0->tensorflow==2.1.0) (1.24.3)\n",
            "Requirement already satisfied: certifi>=2017.4.17 in /usr/local/lib/python3.6/dist-packages (from requests<3,>=2.21.0->tensorboard<2.2.0,>=2.1.0->tensorflow==2.1.0) (2020.4.5.1)\n",
            "Requirement already satisfied: idna<3,>=2.5 in /usr/local/lib/python3.6/dist-packages (from requests<3,>=2.21.0->tensorboard<2.2.0,>=2.1.0->tensorflow==2.1.0) (2.9)\n",
            "Requirement already satisfied: pyasn1<0.5.0,>=0.4.6 in /usr/local/lib/python3.6/dist-packages (from pyasn1-modules>=0.2.1->google-auth<2,>=1.6.3->tensorboard<2.2.0,>=2.1.0->tensorflow==2.1.0) (0.4.8)\n",
            "Requirement already satisfied: oauthlib>=3.0.0 in /usr/local/lib/python3.6/dist-packages (from requests-oauthlib>=0.7.0->google-auth-oauthlib<0.5,>=0.4.1->tensorboard<2.2.0,>=2.1.0->tensorflow==2.1.0) (3.1.0)\n"
          ],
          "name": "stdout"
        }
      ]
    },
    {
      "cell_type": "code",
      "metadata": {
        "id": "WIusql4CiGFg"
      },
      "source": [
        "#!python -c 'import tensorflow as tf; print(tf.__version__)'"
      ],
      "execution_count": null,
      "outputs": []
    },
    {
      "cell_type": "code",
      "metadata": {
        "id": "0lh9XaaLLaW4",
        "colab": {
          "base_uri": "https://localhost:8080/",
          "height": 34
        },
        "outputId": "1cd13355-b2b1-4c59-83a7-3fc390f352c7"
      },
      "source": [
        "#Mounting with Google drive to reterive the data\n",
        "from google.colab import drive\n",
        "drive.mount('/content/gdrive')"
      ],
      "execution_count": null,
      "outputs": [
        {
          "output_type": "stream",
          "text": [
            "Drive already mounted at /content/gdrive; to attempt to forcibly remount, call drive.mount(\"/content/gdrive\", force_remount=True).\n"
          ],
          "name": "stdout"
        }
      ]
    },
    {
      "cell_type": "markdown",
      "metadata": {
        "id": "WKKa8yUaFZyl"
      },
      "source": [
        "## **Making .npy file**"
      ]
    },
    {
      "cell_type": "code",
      "metadata": {
        "id": "hzN6QxY4P25X"
      },
      "source": [
        "'''print('INFO: reading benign images')\n",
        "benign_path = '/content/gdrive/My Drive/Adverserial_ML/AndroZoo/APKs_and_Images/Benign_Images/Androguard_and_PreDefined_Values/Benign_Images_16K_Onwards/'\n",
        "print(len(os.listdir(benign_path)))\n",
        "benign_imgs = []\n",
        "images_data = []\n",
        "count=0\n",
        "for img in os.listdir(benign_path):\n",
        "  benign_imgs.append(plt.imread(benign_path + img))\n",
        "  count+=1\n",
        "  if(count%500==0):\n",
        "    print(count)\n",
        "benign_imgs = np.array(benign_imgs)\n",
        "#benign_imgs = benign_imgs[:4200]\n",
        "'''\n",
        "print('INFO: reading malware images')\n",
        "malware_path = '/content/gdrive/My Drive/Adverserial_ML/AndroZoo/APKs_and_Images/Malware_Images/Androguard_and_PreDefined_Values/Malware_Images_geq15l35/'\n",
        "print(len(os.listdir(malware_path)))\n",
        "malware_imgs = []\n",
        "count = 0\n",
        "for img in os.listdir(malware_path):\n",
        "  malware_imgs.append(plt.imread((malware_path + img)))\n",
        "  count+=1\n",
        "  if(count%500==0):\n",
        "    print(count)\n",
        "malware_imgs = np.array(malware_imgs)\n",
        "#malware_imgs = malware_imgs[:4200]'''"
      ],
      "execution_count": null,
      "outputs": []
    },
    {
      "cell_type": "code",
      "metadata": {
        "id": "DGhDMFPeZQd3"
      },
      "source": [
        "np.save('/content/gdrive/My Drive/Adverserial_ML/AndroZoo/APKs_and_Images/Malware_Images/Androguard_and_PreDefined_Values/XMalware_geq15l35.npy', malware_imgs)"
      ],
      "execution_count": null,
      "outputs": []
    },
    {
      "cell_type": "code",
      "metadata": {
        "id": "Zb0zk-ouIK4P",
        "colab": {
          "base_uri": "https://localhost:8080/",
          "height": 68
        },
        "outputId": "2f6c321c-a976-4f03-b3b6-97f9b8b82362"
      },
      "source": [
        "# load numpy array from npy file\n",
        "\n",
        "benign_imgs_4K = load('/content/gdrive/My Drive/Adverserial_ML/AndroZoo/APKs_and_Images/Benign_Images/Androguard_and_PreDefined_Values/XBenign_4K.npy')\n",
        "print(benign_imgs_4K.shape)\n",
        "benign_4k_16K = load('/content/gdrive/My Drive/Adverserial_ML/AndroZoo/APKs_and_Images/Benign_Images/Androguard_and_PreDefined_Values/XBenign_4k_16K.npy')\n",
        "print(benign_4k_16K.shape)\n",
        "benign_16k_onward = load('/content/gdrive/My Drive/Adverserial_ML/AndroZoo/APKs_and_Images/Benign_Images/Androguard_and_PreDefined_Values/XBenign_16K_Onwards.npy')\n",
        "print(benign_16k_onward.shape)"
      ],
      "execution_count": null,
      "outputs": [
        {
          "output_type": "stream",
          "text": [
            "(4003, 64, 64, 3)\n",
            "(11788, 64, 64, 3)\n",
            "(13382, 64, 64, 3)\n"
          ],
          "name": "stdout"
        }
      ]
    },
    {
      "cell_type": "markdown",
      "metadata": {
        "id": "fonkZWa-GEaB"
      },
      "source": [
        "Reaading different bening and malware images"
      ]
    },
    {
      "cell_type": "code",
      "metadata": {
        "id": "Nt6CgNa1r1fG",
        "colab": {
          "base_uri": "https://localhost:8080/",
          "height": 34
        },
        "outputId": "484e6397-11b1-4574-914a-495ab80901bd"
      },
      "source": [
        "#benign_18k = load('/content/gdrive/My Drive/Adverserial_ML/AndroZoo/APKs_and_Images/Benign_Images/Androguard_and_PreDefined_Values/Inter_Linear/Ben_imgs_12K_16K_+_16K_onwards_interLinear.npy')\n",
        "#print(benign_18k.shape)"
      ],
      "execution_count": null,
      "outputs": [
        {
          "output_type": "stream",
          "text": [
            "(17337, 64, 64, 3)\n"
          ],
          "name": "stdout"
        }
      ]
    },
    {
      "cell_type": "code",
      "metadata": {
        "id": "1u1RcKbB1GBH",
        "colab": {
          "base_uri": "https://localhost:8080/",
          "height": 51
        },
        "outputId": "c5567b63-22da-4b7b-fef3-99b2f1588592"
      },
      "source": [
        "#malware_imgs_31K = load('/content/gdrive/My Drive/Adverserial_ML/AndroZoo/APKs_and_Images/Malware_Images/Androguard_and_PreDefined_Values/XMalware_geq15l35.npy')\n",
        "#print(malware_imgs_31K.shape)\n",
        "#malware_imgs_4K_22K = load('/content/gdrive/My Drive/Adverserial_ML/AndroZoo/APKs_and_Images/Malware_Images/Androguard_and_PreDefined_Values/XMalware_4k_22K_geq35.npy')\n",
        "#print(malware_imgs_4K_22K.shape)"
      ],
      "execution_count": null,
      "outputs": [
        {
          "output_type": "stream",
          "text": [
            "(31299, 64, 64, 3)\n",
            "(17962, 64, 64, 3)\n"
          ],
          "name": "stdout"
        }
      ]
    },
    {
      "cell_type": "code",
      "metadata": {
        "id": "Ti0KpIBisOYb",
        "colab": {
          "base_uri": "https://localhost:8080/",
          "height": 34
        },
        "outputId": "6c48a427-a177-4693-d895-c66a6d107b8b"
      },
      "source": [
        "#malware_18k = load('/content/gdrive/My Drive/Adverserial_ML/AndroZoo/APKs_and_Images/Malware_Images/Androguard_and_PreDefined_Values/Inter_Linear/18K/Malware_images_2016_2012_18K_geq15_InterLinear.npy')\n",
        "#print(malware_18k.shape)"
      ],
      "execution_count": null,
      "outputs": [
        {
          "output_type": "stream",
          "text": [
            "(18109, 64, 64, 3)\n"
          ],
          "name": "stdout"
        }
      ]
    },
    {
      "cell_type": "code",
      "metadata": {
        "id": "WLyZ48bVoi7H",
        "colab": {
          "base_uri": "https://localhost:8080/",
          "height": 51
        },
        "outputId": "6d9332d8-c027-48e1-9de6-77a5bf21b3b2"
      },
      "source": [
        "#Xbenign = np.concatenate((benign_imgs_4K[:4000], benign_4k_16K[:11700], benign_16k_onward[:13300]), axis=0)\n",
        "#Xmalware = np.concatenate((malware_imgs_4K_22K[:12000], malware_imgs_31K[:17000]), axis=0)\n",
        "#Xmalware = np.concatenate((malware_imgs, malware_imgs_4K), axis=0)\n",
        "#print(Xbenign.shape)\n",
        "#print(Xmalware.shape)"
      ],
      "execution_count": null,
      "outputs": [
        {
          "output_type": "stream",
          "text": [
            "(29000, 64, 64, 3)\n",
            "(29000, 64, 64, 3)\n"
          ],
          "name": "stdout"
        }
      ]
    },
    {
      "cell_type": "code",
      "metadata": {
        "id": "5xmQkWjStHuY"
      },
      "source": [
        "#only using 17300 images for model training\n",
        "Xbenign = benign_18k[:17300]\n",
        "Xmalware = malware_18k[:17300]"
      ],
      "execution_count": null,
      "outputs": []
    },
    {
      "cell_type": "code",
      "metadata": {
        "id": "VrXl_8kUg46Q",
        "colab": {
          "base_uri": "https://localhost:8080/",
          "height": 68
        },
        "outputId": "3e1b136f-0a9b-444e-e2d8-695e7d183a48"
      },
      "source": [
        "#Rough work\n",
        "'''img1 = m_img[0]\n",
        "print(img1.shape[2])\n",
        "img2 = malware_imgs[0]\n",
        "print(img2.shape)\n",
        "count = 0\n",
        "for c in range(img1.shape[2]):\n",
        "  for i in range(img1.shape[1]):\n",
        "    for j in range(img1.shape[0]):\n",
        "      if(img1[i,j,c] == img2[i,j,c]):\n",
        "        count+=1\n",
        "\n",
        "print(count)'''"
      ],
      "execution_count": null,
      "outputs": [
        {
          "output_type": "stream",
          "text": [
            "3\n",
            "(64, 64, 3)\n",
            "12288\n"
          ],
          "name": "stdout"
        }
      ]
    },
    {
      "cell_type": "code",
      "metadata": {
        "id": "GizKTMt2ylMx",
        "colab": {
          "base_uri": "https://localhost:8080/",
          "height": 34
        },
        "outputId": "c38bb2e3-892d-4a57-fff7-87d01c322ba1"
      },
      "source": [
        "#stacking both bening and malware images in one array\n",
        "images_data = np.vstack([Xbenign, Xmalware])\n",
        "print(images_data.shape)"
      ],
      "execution_count": null,
      "outputs": [
        {
          "output_type": "stream",
          "text": [
            "(34600, 64, 64, 3)\n"
          ],
          "name": "stdout"
        }
      ]
    },
    {
      "cell_type": "code",
      "metadata": {
        "id": "bIzlh8-rdbWn"
      },
      "source": [
        ""
      ],
      "execution_count": null,
      "outputs": []
    },
    {
      "cell_type": "code",
      "metadata": {
        "id": "f7f28q6EZ0VA"
      },
      "source": [
        "\n",
        "# making of labels(Y)\n",
        "benign_Y = np.zeros(Xbenign.shape[0], dtype=np.int32)\n",
        "malware_Y = np.ones(Xmalware.shape[0], dtype=np.int32)\n",
        "Y = np.hstack((benign_Y, malware_Y))"
      ],
      "execution_count": null,
      "outputs": []
    },
    {
      "cell_type": "code",
      "metadata": {
        "id": "nhsd-3X3O0zM",
        "colab": {
          "base_uri": "https://localhost:8080/",
          "height": 51
        },
        "outputId": "dca68c52-2c49-4664-ccfb-f8ef15162ba3"
      },
      "source": [
        "print(Y.shape)acc\n",
        "print(Y)"
      ],
      "execution_count": null,
      "outputs": [
        {
          "output_type": "stream",
          "text": [
            "(34600,)\n",
            "[0 0 0 ... 1 1 1]\n"
          ],
          "name": "stdout"
        }
      ]
    },
    {
      "cell_type": "markdown",
      "metadata": {
        "id": "SU2zvh7haFGn"
      },
      "source": [
        "**Normalization**"
      ]
    },
    {
      "cell_type": "code",
      "metadata": {
        "id": "0Hob_92geTcp"
      },
      "source": [
        "images_data = images_data/255.0"
      ],
      "execution_count": null,
      "outputs": []
    },
    {
      "cell_type": "code",
      "metadata": {
        "id": "aTAwWjWA4PXN"
      },
      "source": [
        "#rough work\n",
        "#history = model.fit_generator(aument.flow(X_train, Y_train, batch_size=64),\n",
        "#                              steps_per_epoch=len(X_train))//64, epochs=20"
      ],
      "execution_count": null,
      "outputs": []
    },
    {
      "cell_type": "code",
      "metadata": {
        "id": "ARsIT6x6ZsPf"
      },
      "source": [
        "#splitting data into training, test and validation sets\n",
        "trainX, testX, trainY, testY = train_test_split(images_data, Y, test_size=0.20)\n",
        "trainX, valX, trainY, valY = train_test_split(trainX, trainY, test_size=0.20)\n",
        "#trainX, trainY, testX, testY"
      ],
      "execution_count": null,
      "outputs": []
    },
    {
      "cell_type": "code",
      "metadata": {
        "id": "U039NT49f46b"
      },
      "source": [
        "#rough work\n",
        "'''trainX, testX, trainY, testY = train_test_split(images_data, Y, test_size=0.20)\n",
        "trainX, valX, trainY, valY = train_test_split(trainX, trainY, test_size=0.20)\n",
        "\n",
        "np.save('/content/gdrive/My Drive/Adverserial_ML/AndroZoo/APKs_and_Images/Malware_Images/Androguard_and_PreDefined_Values/Inter_Linear/11K_2020_19_18_17/Simple_model/trainX.npy', trainX)\n",
        "np.save('/content/gdrive/My Drive/Adverserial_ML/AndroZoo/APKs_and_Images/Malware_Images/Androguard_and_PreDefined_Values/Inter_Linear/11K_2020_19_18_17/Simple_model/testX.npy', testX)\n",
        "np.save('/content/gdrive/My Drive/Adverserial_ML/AndroZoo/APKs_and_Images/Malware_Images/Androguard_and_PreDefined_Values/Inter_Linear/11K_2020_19_18_17/Simple_model/trainY.npy', trainY)\n",
        "np.save('/content/gdrive/My Drive/Adverserial_ML/AndroZoo/APKs_and_Images/Malware_Images/Androguard_and_PreDefined_Values/Inter_Linear/11K_2020_19_18_17/Simple_model/testY.npy', testY)\n",
        "np.save('/content/gdrive/My Drive/Adverserial_ML/AndroZoo/APKs_and_Images/Malware_Images/Androguard_and_PreDefined_Values/Inter_Linear/11K_2020_19_18_17/Simple_model/valX.npy', valX)\n",
        "np.save('/content/gdrive/My Drive/Adverserial_ML/AndroZoo/APKs_and_Images/Malware_Images/Androguard_and_PreDefined_Values/Inter_Linear/11K_2020_19_18_17/Simple_model/valY.npy', valY)\n",
        "'''"
      ],
      "execution_count": null,
      "outputs": []
    },
    {
      "cell_type": "code",
      "metadata": {
        "id": "1B1WXTx8h6ub"
      },
      "source": [
        "#building the model\n",
        "model = Sequential()\n",
        "model.add(Conv2D(filters=32, kernel_size=(3, 3), strides=(1, 1), padding='valid', data_format='channels_last', dilation_rate=(1, 1), activation='relu', use_bias=True, kernel_initializer='glorot_uniform', bias_initializer='Zeros', kernel_regularizer=None, bias_regularizer=None, activity_regularizer=None, kernel_constraint=None, bias_constraint=None))\n",
        "model.add(Conv2D(filters=64, kernel_size=(3, 3), strides=(1, 1), padding='valid', data_format='channels_last', dilation_rate=(1, 1), activation='relu', use_bias=True, kernel_initializer='glorot_uniform', bias_initializer='Zeros', kernel_regularizer=None, bias_regularizer=None, activity_regularizer=None, kernel_constraint=None, bias_constraint=None))\n",
        "model.add(MaxPooling2D(pool_size=(2, 2), padding='valid', strides=(2, 2), data_format='channels_last'))\n",
        "model.add(Dropout(rate=0.25, noise_shape=None, seed=None))\n",
        "model.add(Flatten(data_format='channels_last'))\n",
        "model.add(Dropout(rate=0.50, noise_shape=None, seed=None))\n",
        "model.add(Dense(units=1, activation='linear', use_bias=True, kernel_initializer='glorot_uniform', bias_initializer='Zeros', kernel_regularizer=None, bias_regularizer=None, activity_regularizer=None, kernel_constraint=None, bias_constraint=None))\n",
        "model.add(Dense(units=1, activation='sigmoid'))"
      ],
      "execution_count": null,
      "outputs": []
    },
    {
      "cell_type": "code",
      "metadata": {
        "id": "Vjp11tMbCdIB"
      },
      "source": [
        "#compile the model\n",
        "from keras.optimizers import SGD, adam\n",
        "opti = adam(lr=0.0001)\n",
        "model.compile(loss='binary_crossentropy', optimizer='adam', metrics=['accuracy'])"
      ],
      "execution_count": null,
      "outputs": []
    },
    {
      "cell_type": "code",
      "metadata": {
        "id": "l8wpq9VnHeEn",
        "colab": {
          "base_uri": "https://localhost:8080/",
          "height": 1000
        },
        "outputId": "4bb69dda-72a8-4132-87cc-bf28f1a65fc6"
      },
      "source": [
        "#train the model\n",
        "#history = model.fit_generator(augmnt.flow(X_train, Y_train, batch_size=64),\n",
        "#                              steps_per_epoch=len(X_train)//64, epochs=20)\n",
        "history_11k = model.fit(trainX, trainY, validation_data=(valX, valY), batch_size=64, epochs=100)"
      ],
      "execution_count": null,
      "outputs": [
        {
          "output_type": "stream",
          "text": [
            "Train on 14336 samples, validate on 3584 samples\n",
            "Epoch 1/100\n",
            "14336/14336 [==============================] - 129s 9ms/step - loss: 0.3992 - accuracy: 0.8103 - val_loss: 0.2818 - val_accuracy: 0.8887\n",
            "Epoch 2/100\n",
            "14336/14336 [==============================] - 130s 9ms/step - loss: 0.2378 - accuracy: 0.9051 - val_loss: 0.1744 - val_accuracy: 0.9336\n",
            "Epoch 3/100\n",
            "14336/14336 [==============================] - 117s 8ms/step - loss: 0.1513 - accuracy: 0.9410 - val_loss: 0.1434 - val_accuracy: 0.9445\n",
            "Epoch 4/100\n",
            "14336/14336 [==============================] - 118s 8ms/step - loss: 0.1163 - accuracy: 0.9551 - val_loss: 0.1142 - val_accuracy: 0.9584\n",
            "Epoch 5/100\n",
            "14336/14336 [==============================] - 114s 8ms/step - loss: 0.0957 - accuracy: 0.9639 - val_loss: 0.0882 - val_accuracy: 0.9646\n",
            "Epoch 6/100\n",
            "14336/14336 [==============================] - 116s 8ms/step - loss: 0.0847 - accuracy: 0.9674 - val_loss: 0.0845 - val_accuracy: 0.9654\n",
            "Epoch 7/100\n",
            "14336/14336 [==============================] - 116s 8ms/step - loss: 0.0771 - accuracy: 0.9694 - val_loss: 0.0852 - val_accuracy: 0.9651\n",
            "Epoch 8/100\n",
            "14336/14336 [==============================] - 114s 8ms/step - loss: 0.0660 - accuracy: 0.9757 - val_loss: 0.0912 - val_accuracy: 0.9634\n",
            "Epoch 9/100\n",
            "14336/14336 [==============================] - 116s 8ms/step - loss: 0.0560 - accuracy: 0.9796 - val_loss: 0.0648 - val_accuracy: 0.9741\n",
            "Epoch 10/100\n",
            "14336/14336 [==============================] - 116s 8ms/step - loss: 0.0509 - accuracy: 0.9807 - val_loss: 0.0613 - val_accuracy: 0.9768\n",
            "Epoch 11/100\n",
            "14336/14336 [==============================] - 113s 8ms/step - loss: 0.0432 - accuracy: 0.9841 - val_loss: 0.0635 - val_accuracy: 0.9754\n",
            "Epoch 12/100\n",
            "14336/14336 [==============================] - 115s 8ms/step - loss: 0.0382 - accuracy: 0.9861 - val_loss: 0.0597 - val_accuracy: 0.9771\n",
            "Epoch 13/100\n",
            "14336/14336 [==============================] - 115s 8ms/step - loss: 0.0412 - accuracy: 0.9852 - val_loss: 0.0559 - val_accuracy: 0.9802\n",
            "Epoch 14/100\n",
            "14336/14336 [==============================] - 112s 8ms/step - loss: 0.0323 - accuracy: 0.9888 - val_loss: 0.0717 - val_accuracy: 0.9743\n",
            "Epoch 15/100\n",
            "14336/14336 [==============================] - 115s 8ms/step - loss: 0.0345 - accuracy: 0.9883 - val_loss: 0.0574 - val_accuracy: 0.9794\n",
            "Epoch 16/100\n",
            "14336/14336 [==============================] - 115s 8ms/step - loss: 0.0291 - accuracy: 0.9890 - val_loss: 0.0512 - val_accuracy: 0.9813\n",
            "Epoch 17/100\n",
            "14336/14336 [==============================] - 113s 8ms/step - loss: 0.0247 - accuracy: 0.9915 - val_loss: 0.0474 - val_accuracy: 0.9824\n",
            "Epoch 18/100\n",
            "14336/14336 [==============================] - 122s 9ms/step - loss: 0.0226 - accuracy: 0.9919 - val_loss: 0.0630 - val_accuracy: 0.9782\n",
            "Epoch 19/100\n",
            "14336/14336 [==============================] - 115s 8ms/step - loss: 0.0284 - accuracy: 0.9895 - val_loss: 0.0627 - val_accuracy: 0.9782\n",
            "Epoch 20/100\n",
            "14336/14336 [==============================] - 112s 8ms/step - loss: 0.0238 - accuracy: 0.9918 - val_loss: 0.0513 - val_accuracy: 0.9816\n",
            "Epoch 21/100\n",
            "14336/14336 [==============================] - 115s 8ms/step - loss: 0.0253 - accuracy: 0.9912 - val_loss: 0.0515 - val_accuracy: 0.9849\n",
            "Epoch 22/100\n",
            "14336/14336 [==============================] - 114s 8ms/step - loss: 0.0302 - accuracy: 0.9902 - val_loss: 0.0434 - val_accuracy: 0.9860\n",
            "Epoch 23/100\n",
            "14336/14336 [==============================] - 113s 8ms/step - loss: 0.0176 - accuracy: 0.9925 - val_loss: 0.0422 - val_accuracy: 0.9874\n",
            "Epoch 24/100\n",
            "14336/14336 [==============================] - 115s 8ms/step - loss: 0.0214 - accuracy: 0.9924 - val_loss: 0.0489 - val_accuracy: 0.9847\n",
            "Epoch 25/100\n",
            "14336/14336 [==============================] - 114s 8ms/step - loss: 0.0161 - accuracy: 0.9943 - val_loss: 0.0472 - val_accuracy: 0.9838\n",
            "Epoch 26/100\n",
            "14336/14336 [==============================] - 114s 8ms/step - loss: 0.0241 - accuracy: 0.9914 - val_loss: 0.0437 - val_accuracy: 0.9891\n",
            "Epoch 27/100\n",
            "14336/14336 [==============================] - 115s 8ms/step - loss: 0.0141 - accuracy: 0.9944 - val_loss: 0.0401 - val_accuracy: 0.9858\n",
            "Epoch 28/100\n",
            "14336/14336 [==============================] - 115s 8ms/step - loss: 0.0162 - accuracy: 0.9946 - val_loss: 0.0446 - val_accuracy: 0.9869\n",
            "Epoch 29/100\n",
            "14336/14336 [==============================] - 114s 8ms/step - loss: 0.0150 - accuracy: 0.9944 - val_loss: 0.0519 - val_accuracy: 0.9847\n",
            "Epoch 30/100\n",
            "14336/14336 [==============================] - 116s 8ms/step - loss: 0.0159 - accuracy: 0.9941 - val_loss: 0.0632 - val_accuracy: 0.9835\n",
            "Epoch 31/100\n",
            "14336/14336 [==============================] - 113s 8ms/step - loss: 0.0154 - accuracy: 0.9943 - val_loss: 0.0678 - val_accuracy: 0.9785\n",
            "Epoch 32/100\n",
            "14336/14336 [==============================] - 116s 8ms/step - loss: 0.0165 - accuracy: 0.9940 - val_loss: 0.0545 - val_accuracy: 0.9858\n",
            "Epoch 33/100\n",
            "14336/14336 [==============================] - 116s 8ms/step - loss: 0.0144 - accuracy: 0.9951 - val_loss: 0.0514 - val_accuracy: 0.9855\n",
            "Epoch 34/100\n",
            "14336/14336 [==============================] - 114s 8ms/step - loss: 0.0131 - accuracy: 0.9950 - val_loss: 0.0439 - val_accuracy: 0.9869\n",
            "Epoch 35/100\n",
            "14336/14336 [==============================] - 115s 8ms/step - loss: 0.0144 - accuracy: 0.9945 - val_loss: 0.0519 - val_accuracy: 0.9866\n",
            "Epoch 36/100\n",
            "14336/14336 [==============================] - 116s 8ms/step - loss: 0.0122 - accuracy: 0.9950 - val_loss: 0.0499 - val_accuracy: 0.9883\n",
            "Epoch 37/100\n",
            "14336/14336 [==============================] - 115s 8ms/step - loss: 0.0102 - accuracy: 0.9966 - val_loss: 0.0487 - val_accuracy: 0.9874\n",
            "Epoch 38/100\n",
            "14336/14336 [==============================] - 115s 8ms/step - loss: 0.0183 - accuracy: 0.9939 - val_loss: 0.0483 - val_accuracy: 0.9872\n",
            "Epoch 39/100\n",
            "14336/14336 [==============================] - 116s 8ms/step - loss: 0.0118 - accuracy: 0.9957 - val_loss: 0.0480 - val_accuracy: 0.9869\n",
            "Epoch 40/100\n",
            "14336/14336 [==============================] - 113s 8ms/step - loss: 0.0077 - accuracy: 0.9976 - val_loss: 0.0572 - val_accuracy: 0.9835\n",
            "Epoch 41/100\n",
            "14336/14336 [==============================] - 115s 8ms/step - loss: 0.0118 - accuracy: 0.9960 - val_loss: 0.0457 - val_accuracy: 0.9860\n",
            "Epoch 42/100\n",
            "14336/14336 [==============================] - 116s 8ms/step - loss: 0.0120 - accuracy: 0.9963 - val_loss: 0.0410 - val_accuracy: 0.9886\n",
            "Epoch 43/100\n",
            "14336/14336 [==============================] - 113s 8ms/step - loss: 0.0084 - accuracy: 0.9973 - val_loss: 0.0494 - val_accuracy: 0.9844\n",
            "Epoch 44/100\n",
            "14336/14336 [==============================] - 113s 8ms/step - loss: 0.0109 - accuracy: 0.9960 - val_loss: 0.0485 - val_accuracy: 0.9860\n",
            "Epoch 45/100\n",
            "14336/14336 [==============================] - 115s 8ms/step - loss: 0.0173 - accuracy: 0.9937 - val_loss: 0.0500 - val_accuracy: 0.9827\n",
            "Epoch 46/100\n",
            "14336/14336 [==============================] - 113s 8ms/step - loss: 0.0086 - accuracy: 0.9972 - val_loss: 0.0515 - val_accuracy: 0.9874\n",
            "Epoch 47/100\n",
            "14336/14336 [==============================] - 116s 8ms/step - loss: 0.0118 - accuracy: 0.9961 - val_loss: 0.0539 - val_accuracy: 0.9860\n",
            "Epoch 48/100\n",
            "14336/14336 [==============================] - 116s 8ms/step - loss: 0.0062 - accuracy: 0.9974 - val_loss: 0.0514 - val_accuracy: 0.9855\n",
            "Epoch 49/100\n",
            "14336/14336 [==============================] - 113s 8ms/step - loss: 0.0128 - accuracy: 0.9952 - val_loss: 0.0765 - val_accuracy: 0.9807\n",
            "Epoch 50/100\n",
            "14336/14336 [==============================] - 116s 8ms/step - loss: 0.0100 - accuracy: 0.9971 - val_loss: 0.0541 - val_accuracy: 0.9841\n",
            "Epoch 51/100\n",
            "14336/14336 [==============================] - 116s 8ms/step - loss: 0.0111 - accuracy: 0.9957 - val_loss: 0.0699 - val_accuracy: 0.9805\n",
            "Epoch 52/100\n",
            "14336/14336 [==============================] - 113s 8ms/step - loss: 0.0121 - accuracy: 0.9952 - val_loss: 0.0713 - val_accuracy: 0.9827\n",
            "Epoch 53/100\n",
            "14336/14336 [==============================] - 115s 8ms/step - loss: 0.0121 - accuracy: 0.9961 - val_loss: 0.0436 - val_accuracy: 0.9877\n",
            "Epoch 54/100\n",
            "14336/14336 [==============================] - 116s 8ms/step - loss: 0.0084 - accuracy: 0.9969 - val_loss: 0.0659 - val_accuracy: 0.9833\n",
            "Epoch 55/100\n",
            "14336/14336 [==============================] - 113s 8ms/step - loss: 0.0125 - accuracy: 0.9960 - val_loss: 0.0485 - val_accuracy: 0.9872\n",
            "Epoch 56/100\n",
            "14336/14336 [==============================] - 115s 8ms/step - loss: 0.0059 - accuracy: 0.9979 - val_loss: 0.0518 - val_accuracy: 0.9849\n",
            "Epoch 57/100\n",
            "14336/14336 [==============================] - 116s 8ms/step - loss: 0.0092 - accuracy: 0.9969 - val_loss: 0.0523 - val_accuracy: 0.9874\n",
            "Epoch 58/100\n",
            "14336/14336 [==============================] - 114s 8ms/step - loss: 0.0090 - accuracy: 0.9967 - val_loss: 0.0469 - val_accuracy: 0.9869\n",
            "Epoch 59/100\n",
            "14336/14336 [==============================] - 116s 8ms/step - loss: 0.0072 - accuracy: 0.9978 - val_loss: 0.0528 - val_accuracy: 0.9880\n",
            "Epoch 60/100\n",
            "14336/14336 [==============================] - 115s 8ms/step - loss: 0.0072 - accuracy: 0.9970 - val_loss: 0.0464 - val_accuracy: 0.9877\n",
            "Epoch 61/100\n",
            "14336/14336 [==============================] - 113s 8ms/step - loss: 0.0047 - accuracy: 0.9985 - val_loss: 0.0492 - val_accuracy: 0.9891\n",
            "Epoch 62/100\n",
            "14336/14336 [==============================] - 115s 8ms/step - loss: 0.0097 - accuracy: 0.9967 - val_loss: 0.0530 - val_accuracy: 0.9858\n",
            "Epoch 63/100\n",
            "14336/14336 [==============================] - 116s 8ms/step - loss: 0.0098 - accuracy: 0.9958 - val_loss: 0.0635 - val_accuracy: 0.9816\n",
            "Epoch 64/100\n",
            "14336/14336 [==============================] - 114s 8ms/step - loss: 0.0059 - accuracy: 0.9978 - val_loss: 0.0655 - val_accuracy: 0.9833\n",
            "Epoch 65/100\n",
            "14336/14336 [==============================] - 116s 8ms/step - loss: 0.0076 - accuracy: 0.9976 - val_loss: 0.0731 - val_accuracy: 0.9807\n",
            "Epoch 66/100\n",
            "14336/14336 [==============================] - 116s 8ms/step - loss: 0.0072 - accuracy: 0.9976 - val_loss: 0.0660 - val_accuracy: 0.9869\n",
            "Epoch 67/100\n",
            "14336/14336 [==============================] - 114s 8ms/step - loss: 0.0060 - accuracy: 0.9977 - val_loss: 0.0467 - val_accuracy: 0.9860\n",
            "Epoch 68/100\n",
            "14336/14336 [==============================] - 115s 8ms/step - loss: 0.0075 - accuracy: 0.9975 - val_loss: 0.0518 - val_accuracy: 0.9886\n",
            "Epoch 69/100\n",
            "14336/14336 [==============================] - 116s 8ms/step - loss: 0.0027 - accuracy: 0.9993 - val_loss: 0.0761 - val_accuracy: 0.9833\n",
            "Epoch 70/100\n",
            "14336/14336 [==============================] - 113s 8ms/step - loss: 0.0062 - accuracy: 0.9983 - val_loss: 0.0579 - val_accuracy: 0.9847\n",
            "Epoch 71/100\n",
            "14336/14336 [==============================] - 115s 8ms/step - loss: 0.0072 - accuracy: 0.9973 - val_loss: 0.0421 - val_accuracy: 0.9860\n",
            "Epoch 72/100\n",
            "14336/14336 [==============================] - 115s 8ms/step - loss: 0.0101 - accuracy: 0.9965 - val_loss: 0.0574 - val_accuracy: 0.9869\n",
            "Epoch 73/100\n",
            "14336/14336 [==============================] - 113s 8ms/step - loss: 0.0055 - accuracy: 0.9981 - val_loss: 0.0747 - val_accuracy: 0.9869\n",
            "Epoch 74/100\n",
            "14336/14336 [==============================] - 116s 8ms/step - loss: 0.0078 - accuracy: 0.9973 - val_loss: 0.0428 - val_accuracy: 0.9858\n",
            "Epoch 75/100\n",
            "14336/14336 [==============================] - 117s 8ms/step - loss: 0.0092 - accuracy: 0.9972 - val_loss: 0.0536 - val_accuracy: 0.9874\n",
            "Epoch 76/100\n",
            "14336/14336 [==============================] - 113s 8ms/step - loss: 0.0025 - accuracy: 0.9992 - val_loss: 0.0495 - val_accuracy: 0.9880\n",
            "Epoch 77/100\n",
            "14336/14336 [==============================] - 115s 8ms/step - loss: 0.0113 - accuracy: 0.9964 - val_loss: 0.0554 - val_accuracy: 0.9852\n",
            "Epoch 78/100\n",
            "14336/14336 [==============================] - 115s 8ms/step - loss: 0.0037 - accuracy: 0.9986 - val_loss: 0.0538 - val_accuracy: 0.9888\n",
            "Epoch 79/100\n",
            "14336/14336 [==============================] - 112s 8ms/step - loss: 0.0073 - accuracy: 0.9976 - val_loss: 0.0511 - val_accuracy: 0.9883\n",
            "Epoch 80/100\n",
            "14336/14336 [==============================] - 115s 8ms/step - loss: 0.0069 - accuracy: 0.9976 - val_loss: 0.0494 - val_accuracy: 0.9874\n",
            "Epoch 81/100\n",
            "14336/14336 [==============================] - 115s 8ms/step - loss: 0.0056 - accuracy: 0.9983 - val_loss: 0.0787 - val_accuracy: 0.9841\n",
            "Epoch 82/100\n",
            "14336/14336 [==============================] - 114s 8ms/step - loss: 0.0123 - accuracy: 0.9955 - val_loss: 0.0511 - val_accuracy: 0.9841\n",
            "Epoch 83/100\n",
            "14336/14336 [==============================] - 115s 8ms/step - loss: 0.0076 - accuracy: 0.9971 - val_loss: 0.0478 - val_accuracy: 0.9866\n",
            "Epoch 84/100\n",
            "14336/14336 [==============================] - 114s 8ms/step - loss: 0.0070 - accuracy: 0.9976 - val_loss: 0.0625 - val_accuracy: 0.9874\n",
            "Epoch 85/100\n",
            "14336/14336 [==============================] - 112s 8ms/step - loss: 0.0085 - accuracy: 0.9971 - val_loss: 0.0649 - val_accuracy: 0.9872\n",
            "Epoch 86/100\n",
            "14336/14336 [==============================] - 115s 8ms/step - loss: 0.0075 - accuracy: 0.9977 - val_loss: 0.0446 - val_accuracy: 0.9891\n",
            "Epoch 87/100\n",
            "14336/14336 [==============================] - 115s 8ms/step - loss: 0.0043 - accuracy: 0.9980 - val_loss: 0.0498 - val_accuracy: 0.9897\n",
            "Epoch 88/100\n",
            "14336/14336 [==============================] - 117s 8ms/step - loss: 0.0024 - accuracy: 0.9993 - val_loss: 0.0468 - val_accuracy: 0.9900\n",
            "Epoch 89/100\n",
            "14336/14336 [==============================] - 118s 8ms/step - loss: 0.0038 - accuracy: 0.9987 - val_loss: 0.0514 - val_accuracy: 0.9902\n",
            "Epoch 90/100\n",
            "14336/14336 [==============================] - 117s 8ms/step - loss: 0.0047 - accuracy: 0.9982 - val_loss: 0.0692 - val_accuracy: 0.9866\n",
            "Epoch 91/100\n",
            "14336/14336 [==============================] - 118s 8ms/step - loss: 0.0071 - accuracy: 0.9979 - val_loss: 0.0513 - val_accuracy: 0.9869\n",
            "Epoch 92/100\n",
            "14336/14336 [==============================] - 120s 8ms/step - loss: 0.0078 - accuracy: 0.9969 - val_loss: 0.0429 - val_accuracy: 0.9883\n",
            "Epoch 93/100\n",
            "14336/14336 [==============================] - 117s 8ms/step - loss: 0.0059 - accuracy: 0.9983 - val_loss: 0.0468 - val_accuracy: 0.9908\n",
            "Epoch 94/100\n",
            "14336/14336 [==============================] - 115s 8ms/step - loss: 0.0038 - accuracy: 0.9987 - val_loss: 0.0657 - val_accuracy: 0.9886\n",
            "Epoch 95/100\n",
            "14336/14336 [==============================] - 118s 8ms/step - loss: 0.0030 - accuracy: 0.9987 - val_loss: 0.0437 - val_accuracy: 0.9888\n",
            "Epoch 96/100\n",
            "14336/14336 [==============================] - 115s 8ms/step - loss: 0.0041 - accuracy: 0.9985 - val_loss: 0.0598 - val_accuracy: 0.9883\n",
            "Epoch 97/100\n",
            "14336/14336 [==============================] - 117s 8ms/step - loss: 0.0020 - accuracy: 0.9993 - val_loss: 0.0572 - val_accuracy: 0.9880\n",
            "Epoch 98/100\n",
            "14336/14336 [==============================] - 117s 8ms/step - loss: 0.0105 - accuracy: 0.9961 - val_loss: 0.0496 - val_accuracy: 0.9874\n",
            "Epoch 99/100\n",
            "14336/14336 [==============================] - 115s 8ms/step - loss: 0.0048 - accuracy: 0.9983 - val_loss: 0.0523 - val_accuracy: 0.9847\n",
            "Epoch 100/100\n",
            "14336/14336 [==============================] - 119s 8ms/step - loss: 0.0030 - accuracy: 0.9992 - val_loss: 0.0445 - val_accuracy: 0.9900\n"
          ],
          "name": "stdout"
        }
      ]
    },
    {
      "cell_type": "code",
      "metadata": {
        "id": "oYEG-QZvKSQV",
        "colab": {
          "base_uri": "https://localhost:8080/",
          "height": 54
        },
        "outputId": "24229ed7-4d45-4d6c-f5fb-ce04d0260162"
      },
      "source": [
        "print(history.history)\n",
        "# history_12K interLinear"
      ],
      "execution_count": null,
      "outputs": [
        {
          "output_type": "stream",
          "text": [
            "{'val_loss': [0.212986234202981, 0.14355701220532258, 0.1181374603882432, 0.09846986023088296, 0.0899189512245357, 0.09186464698674777, 0.1199509606231004, 0.08018935507473847, 0.07836131209818026, 0.07284023845568299, 0.09994354778900742, 0.07108994520579776, 0.07179145238672693, 0.08423279517640671, 0.06997729713718097, 0.06690448706503957, 0.07760306277001898, 0.06518421329868336, 0.06764974896019946, 0.06907714530049512, 0.0677864138308602, 0.06357362796067416, 0.07406613153871149, 0.05679147106905778, 0.05860564043008101, 0.060797627782449126, 0.07445385327252249, 0.07954043458254698, 0.06668155106793468, 0.06768561601832819, 0.08675081522475618, 0.06787417333689519, 0.06754757520393469, 0.06442864005803131, 0.07399272451802971, 0.06089192124879143, 0.06132746050134301, 0.08021699411813946, 0.07678973386549236, 0.08032502145700467, 0.07800669293307388, 0.08097963825906239, 0.07847526004479732, 0.09168146530573722, 0.0660386582982028, 0.0851808040162723, 0.06800197594760296, 0.07877858616375306, 0.09817370796275403, 0.07253103264508051, 0.07826086029672297, 0.08399503732822874, 0.07627500689389612, 0.07292887071804822, 0.06370107944918951, 0.09843621503484125, 0.08397579481897992, 0.0916059806208068, 0.0763714398536346, 0.07950634552689735, 0.07163086579045436, 0.06918023074637555, 0.07798773284860848, 0.09635969224327709, 0.10026768523142285, 0.07393517357146871, 0.07085150877337583, 0.0687532203225904, 0.08455175779008642, 0.09106668856620673, 0.0656925597373629, 0.07797397671238286, 0.08813162161823129, 0.11361305045478123, 0.07609185364174967, 0.0861921805774197, 0.08524813719622368, 0.07901892777348014, 0.1046002809984202, 0.07352645286900952, 0.0842671549017723, 0.07101282519761298, 0.08072688188797959, 0.07830358723373744, 0.0796223582916961, 0.08017077350232285, 0.07720454733898804, 0.0875156180580234, 0.08032531508937003, 0.08201682236588871, 0.07986448926773543, 0.0695417292639225, 0.07780250900129128, 0.09587264085530478, 0.07711752760887976, 0.08355859767630136, 0.07723216349004361, 0.10582962399103053, 0.07762155594734092, 0.07687296256534258], 'val_accuracy': [0.9205729365348816, 0.953125, 0.9583333134651184, 0.9671875238418579, 0.9684895873069763, 0.9666666388511658, 0.95703125, 0.9697916507720947, 0.97265625, 0.9778645634651184, 0.9664062261581421, 0.977343738079071, 0.977343738079071, 0.9729166626930237, 0.9770833253860474, 0.9768229126930237, 0.975781261920929, 0.9786458611488342, 0.9768229126930237, 0.9786458611488342, 0.9794270992279053, 0.981249988079071, 0.975781261920929, 0.9820312261581421, 0.9807291626930237, 0.9789062738418579, 0.9778645634651184, 0.9742187261581421, 0.977343738079071, 0.9789062738418579, 0.9723958373069763, 0.9817708134651184, 0.9783853888511658, 0.9802083373069763, 0.9781249761581421, 0.9802083373069763, 0.9786458611488342, 0.9770833253860474, 0.9783853888511658, 0.9778645634651184, 0.9765625, 0.9799479246139526, 0.9783853888511658, 0.9776041507720947, 0.9817708134651184, 0.979687511920929, 0.9791666865348816, 0.9815104007720947, 0.9765625, 0.9802083373069763, 0.9817708134651184, 0.9799479246139526, 0.9799479246139526, 0.979687511920929, 0.9838541746139526, 0.9781249761581421, 0.98046875, 0.9794270992279053, 0.9828125238418579, 0.9799479246139526, 0.9822916388511658, 0.9820312261581421, 0.9828125238418579, 0.9789062738418579, 0.9815104007720947, 0.9820312261581421, 0.9833333492279053, 0.9838541746139526, 0.9799479246139526, 0.98046875, 0.9825521111488342, 0.9817708134651184, 0.9807291626930237, 0.9783853888511658, 0.9807291626930237, 0.9809895753860474, 0.9820312261581421, 0.9825521111488342, 0.9783853888511658, 0.984375, 0.983593761920929, 0.9838541746139526, 0.9841145873069763, 0.9815104007720947, 0.9817708134651184, 0.981249988079071, 0.984375, 0.9799479246139526, 0.9817708134651184, 0.9828125238418579, 0.9838541746139526, 0.9828125238418579, 0.9817708134651184, 0.9809895753860474, 0.9838541746139526, 0.98046875, 0.9820312261581421, 0.981249988079071, 0.9817708134651184, 0.9809895753860474], 'loss': [0.34347798038894933, 0.201476034677277, 0.15246222742522755, 0.12189309370393554, 0.11046481766582777, 0.09399764305756737, 0.08428147979623948, 0.08114373990877842, 0.07546030573236445, 0.06429121492741009, 0.059272672049701214, 0.05674194778354528, 0.060721288076213874, 0.053105392972550666, 0.05392117625063596, 0.04886276424707224, 0.046015997914946635, 0.041561689312220554, 0.04157728566109047, 0.03845414988269719, 0.03955568625436475, 0.035764373579877426, 0.0316699725430226, 0.03511831653110373, 0.031293392262402145, 0.030058105858430887, 0.032531448276131414, 0.02982380916607023, 0.030181725748116152, 0.025506526447619155, 0.02565816689211715, 0.024643885989644333, 0.025812330136432138, 0.022660265655455685, 0.020685041112058874, 0.021950564565668174, 0.024830671149478196, 0.01927216238970383, 0.02479712430431391, 0.022070614346982136, 0.017540899370396802, 0.01655717855301191, 0.018056345569433082, 0.018620685768170612, 0.018037816862427766, 0.016007192911789994, 0.01994065767291128, 0.01659623245993013, 0.013772795822046647, 0.024613245465449532, 0.015743869947952287, 0.012998781924701082, 0.015149415879750449, 0.015183557557262854, 0.01669299147805153, 0.011198964252586544, 0.013305035328115385, 0.017554821220998443, 0.013630820525637926, 0.014920823937397168, 0.01508025133893322, 0.010040745099892471, 0.00951452155862474, 0.01232538189895725, 0.015751008314896352, 0.009069508184582749, 0.012757096887753505, 0.012548548123015734, 0.015022922942065028, 0.009688245671380475, 0.011041040434777945, 0.012420547506856868, 0.011799380454264489, 0.012269067882652963, 0.013126500490356345, 0.007874132548284745, 0.014230856975977228, 0.00933201758789816, 0.007581894449913307, 0.012633835990436637, 0.005725893123082907, 0.00773600379952768, 0.00886013877086119, 0.012572065996289438, 0.008480897166979655, 0.012830137051698642, 0.009959942915132084, 0.008725643556793254, 0.007468898410590441, 0.010127203956862256, 0.008619365694043306, 0.012793428759194588, 0.008651080784913272, 0.008168423084263547, 0.008304860226610344, 0.009402409601764342, 0.01085884945015702, 0.008293533019107712, 0.008452697612936315, 0.009185894900908428], 'accuracy': [0.8548177, 0.9280599, 0.946224, 0.9585937, 0.96022135, 0.96744794, 0.9701823, 0.97122395, 0.9733073, 0.97701824, 0.9802734, 0.9799479, 0.9783203, 0.980013, 0.9806641, 0.9827474, 0.9841797, 0.9860026, 0.9852865, 0.9852865, 0.985612, 0.98652345, 0.9886719, 0.9863281, 0.9886719, 0.9884766, 0.98828125, 0.9899089, 0.98834634, 0.99088544, 0.9902344, 0.9895182, 0.9904297, 0.9927083, 0.9922526, 0.9923828, 0.9907552, 0.9930338, 0.9913412, 0.9922526, 0.99348956, 0.99348956, 0.99375, 0.9924479, 0.9938802, 0.9945313, 0.99348956, 0.9938802, 0.9951172, 0.99121094, 0.99427086, 0.99466145, 0.99440104, 0.99459636, 0.99440104, 0.996224, 0.99498695, 0.99316406, 0.9951172, 0.99492186, 0.9939453, 0.99583334, 0.9964844, 0.9957031, 0.99472654, 0.99635416, 0.9951823, 0.9955729, 0.9947917, 0.9964844, 0.99583334, 0.9951172, 0.9951172, 0.99550784, 0.99492186, 0.99746096, 0.9954427, 0.9966146, 0.99759114, 0.9950521, 0.99752605, 0.99746096, 0.99667966, 0.9955729, 0.9964844, 0.99602866, 0.9966146, 0.996875, 0.9973958, 0.9965495, 0.99759114, 0.9954427, 0.9970052, 0.99726564, 0.996875, 0.996875, 0.99609375, 0.9967448, 0.99720055, 0.9968099]}\n"
          ],
          "name": "stdout"
        }
      ]
    },
    {
      "cell_type": "code",
      "metadata": {
        "id": "iutnCvD5IF6w",
        "colab": {
          "base_uri": "https://localhost:8080/",
          "height": 51
        },
        "outputId": "75a5a33f-be59-471e-90d0-86fb94de0b81"
      },
      "source": [
        "#evaluate the model\n",
        "model.evaluate(testX, testY)"
      ],
      "execution_count": null,
      "outputs": [
        {
          "output_type": "stream",
          "text": [
            "4480/4480 [==============================] - 10s 2ms/step\n"
          ],
          "name": "stdout"
        },
        {
          "output_type": "execute_result",
          "data": {
            "text/plain": [
              "[0.05752936021438005, 0.9877232313156128]"
            ]
          },
          "metadata": {
            "tags": []
          },
          "execution_count": 20
        }
      ]
    },
    {
      "cell_type": "code",
      "metadata": {
        "id": "gzwQ5bQHREaK"
      },
      "source": [
        "#Pridictions for testX\n",
        "predictions = model.predict(testX)"
      ],
      "execution_count": null,
      "outputs": []
    },
    {
      "cell_type": "code",
      "metadata": {
        "id": "a7aoqMU7-0cf",
        "colab": {
          "base_uri": "https://localhost:8080/",
          "height": 170
        },
        "outputId": "586870ca-bd69-4711-eb7f-9f14ef801a7e"
      },
      "source": [
        "#print(predictions.shape)\n",
        "#print(np.count_nonzero(predictions))\n",
        "#print(predictions)"
      ],
      "execution_count": null,
      "outputs": [
        {
          "output_type": "stream",
          "text": [
            "(1680, 1)\n",
            "1680\n",
            "[[0.04864392]\n",
            " [0.9569856 ]\n",
            " [0.981392  ]\n",
            " ...\n",
            " [0.83342457]\n",
            " [0.676535  ]\n",
            " [0.27230024]]\n"
          ],
          "name": "stdout"
        }
      ]
    },
    {
      "cell_type": "code",
      "metadata": {
        "id": "RZEnfgaIRJbm",
        "colab": {
          "base_uri": "https://localhost:8080/",
          "height": 51
        },
        "outputId": "982ed6f0-7868-46ec-9377-ca434a0290bb"
      },
      "source": [
        "#model.evaluate(testX, testY)\n",
        "#model.evaluate_generator(X_test, steps=X_test.shape[0])\n",
        "\n",
        "#from sklearn.metrics import classification_report\n",
        "#print(classification_report(Y_test, predictions))"
      ],
      "execution_count": null,
      "outputs": [
        {
          "output_type": "stream",
          "text": [
            "7070/7070 [==============================] - 16s 2ms/step\n"
          ],
          "name": "stdout"
        },
        {
          "output_type": "execute_result",
          "data": {
            "text/plain": [
              "[0.19449003752336813, 0.9356435537338257]"
            ]
          },
          "metadata": {
            "tags": []
          },
          "execution_count": 59
        }
      ]
    },
    {
      "cell_type": "markdown",
      "metadata": {
        "id": "rZgFHeSEUGAr"
      },
      "source": [
        "**Auto-Keras:**\n",
        "To check performace on differnt arhitecture"
      ]
    },
    {
      "cell_type": "code",
      "metadata": {
        "id": "PxyucKINdD9N",
        "colab": {
          "base_uri": "https://localhost:8080/",
          "height": 411
        },
        "outputId": "a5f6b22d-3e9a-47b7-fc40-5034e04fd402"
      },
      "source": [
        "!pip install autokeras"
      ],
      "execution_count": null,
      "outputs": [
        {
          "output_type": "stream",
          "text": [
            "Requirement already satisfied: autokeras in /usr/local/lib/python3.6/dist-packages (1.0.2)\n",
            "Requirement already satisfied: keras-tuner>=1.0.1 in /usr/local/lib/python3.6/dist-packages (from autokeras) (1.0.1)\n",
            "Requirement already satisfied: scikit-learn in /usr/local/lib/python3.6/dist-packages (from autokeras) (0.22.2.post1)\n",
            "Requirement already satisfied: packaging in /usr/local/lib/python3.6/dist-packages (from autokeras) (20.3)\n",
            "Requirement already satisfied: numpy in /usr/local/lib/python3.6/dist-packages (from autokeras) (1.18.4)\n",
            "Requirement already satisfied: pandas in /usr/local/lib/python3.6/dist-packages (from autokeras) (1.0.3)\n",
            "Requirement already satisfied: terminaltables in /usr/local/lib/python3.6/dist-packages (from keras-tuner>=1.0.1->autokeras) (3.1.0)\n",
            "Requirement already satisfied: colorama in /usr/local/lib/python3.6/dist-packages (from keras-tuner>=1.0.1->autokeras) (0.4.3)\n",
            "Requirement already satisfied: tqdm in /usr/local/lib/python3.6/dist-packages (from keras-tuner>=1.0.1->autokeras) (4.41.1)\n",
            "Requirement already satisfied: tabulate in /usr/local/lib/python3.6/dist-packages (from keras-tuner>=1.0.1->autokeras) (0.8.7)\n",
            "Requirement already satisfied: requests in /usr/local/lib/python3.6/dist-packages (from keras-tuner>=1.0.1->autokeras) (2.23.0)\n",
            "Requirement already satisfied: scipy in /usr/local/lib/python3.6/dist-packages (from keras-tuner>=1.0.1->autokeras) (1.4.1)\n",
            "Requirement already satisfied: future in /usr/local/lib/python3.6/dist-packages (from keras-tuner>=1.0.1->autokeras) (0.16.0)\n",
            "Requirement already satisfied: joblib>=0.11 in /usr/local/lib/python3.6/dist-packages (from scikit-learn->autokeras) (0.14.1)\n",
            "Requirement already satisfied: pyparsing>=2.0.2 in /usr/local/lib/python3.6/dist-packages (from packaging->autokeras) (2.4.7)\n",
            "Requirement already satisfied: six in /usr/local/lib/python3.6/dist-packages (from packaging->autokeras) (1.12.0)\n",
            "Requirement already satisfied: python-dateutil>=2.6.1 in /usr/local/lib/python3.6/dist-packages (from pandas->autokeras) (2.8.1)\n",
            "Requirement already satisfied: pytz>=2017.2 in /usr/local/lib/python3.6/dist-packages (from pandas->autokeras) (2018.9)\n",
            "Requirement already satisfied: urllib3!=1.25.0,!=1.25.1,<1.26,>=1.21.1 in /usr/local/lib/python3.6/dist-packages (from requests->keras-tuner>=1.0.1->autokeras) (1.24.3)\n",
            "Requirement already satisfied: chardet<4,>=3.0.2 in /usr/local/lib/python3.6/dist-packages (from requests->keras-tuner>=1.0.1->autokeras) (3.0.4)\n",
            "Requirement already satisfied: idna<3,>=2.5 in /usr/local/lib/python3.6/dist-packages (from requests->keras-tuner>=1.0.1->autokeras) (2.9)\n",
            "Requirement already satisfied: certifi>=2017.4.17 in /usr/local/lib/python3.6/dist-packages (from requests->keras-tuner>=1.0.1->autokeras) (2020.4.5.1)\n"
          ],
          "name": "stdout"
        }
      ]
    },
    {
      "cell_type": "code",
      "metadata": {
        "id": "YrqGSvhQc_yx"
      },
      "source": [
        "# import the necessary packages\n",
        "from sklearn.metrics import classification_report\n",
        "import autokeras as ak\n",
        "import os"
      ],
      "execution_count": null,
      "outputs": []
    },
    {
      "cell_type": "code",
      "metadata": {
        "id": "1N9YHK3tflhZ",
        "colab": {
          "base_uri": "https://localhost:8080/",
          "height": 54
        },
        "outputId": "e6c24a5b-02c2-4255-a266-b7e22a42b362"
      },
      "source": [
        "#rough work\n",
        "#trainX, testX, trainY, testY = train_test_split(images_data, Y, test_size=0.20)\n",
        "#trainX, valX, trainY, valY = train_test_split(trainX, trainY, test_size=0.20)\n",
        "'''\n",
        "np.save('/content/gdrive/My Drive/Adverserial_ML/AndroZoo/APKs_and_Images/Malware_Images/Androguard_and_PreDefined_Values/Inter_Linear/11K_2020_19_18_17/Simple_model/trainX.npy', trainX)\n",
        "np.save('/content/gdrive/My Drive/Adverserial_ML/AndroZoo/APKs_and_Images/Malware_Images/Androguard_and_PreDefined_Values/Inter_Linear/11K_2020_19_18_17/Simple_model/testX.npy', testX)\n",
        "np.save('/content/gdrive/My Drive/Adverserial_ML/AndroZoo/APKs_and_Images/Malware_Images/Androguard_and_PreDefined_Values/Inter_Linear/11K_2020_19_18_17/Simple_model/trainY.npy', trainY)\n",
        "np.save('/content/gdrive/My Drive/Adverserial_ML/AndroZoo/APKs_and_Images/Malware_Images/Androguard_and_PreDefined_Values/Inter_Linear/11K_2020_19_18_17/Simple_model/testY.npy', testY)\n",
        "np.save('/content/gdrive/My Drive/Adverserial_ML/AndroZoo/APKs_and_Images/Malware_Images/Androguard_and_PreDefined_Values/Inter_Linear/11K_2020_19_18_17/Simple_model/valX.npy', valX)\n",
        "np.save('/content/gdrive/My Drive/Adverserial_ML/AndroZoo/APKs_and_Images/Malware_Images/Androguard_and_PreDefined_Values/Inter_Linear/11K_2020_19_18_17/Simple_model/valY.npy', valY)\n",
        "#'''"
      ],
      "execution_count": null,
      "outputs": [
        {
          "output_type": "execute_result",
          "data": {
            "text/plain": [
              "\"\\nnp.save('/content/gdrive/My Drive/Adverserial_ML/AndroZoo/APKs_and_Images/Malware_Images/Androguard_and_PreDefined_Values/Inter_Linear/11K_2020_19_18_17/Simple_model/trainX.npy', trainX)\\nnp.save('/content/gdrive/My Drive/Adverserial_ML/AndroZoo/APKs_and_Images/Malware_Images/Androguard_and_PreDefined_Values/Inter_Linear/11K_2020_19_18_17/Simple_model/testX.npy', testX)\\nnp.save('/content/gdrive/My Drive/Adverserial_ML/AndroZoo/APKs_and_Images/Malware_Images/Androguard_and_PreDefined_Values/Inter_Linear/11K_2020_19_18_17/Simple_model/trainY.npy', trainY)\\nnp.save('/content/gdrive/My Drive/Adverserial_ML/AndroZoo/APKs_and_Images/Malware_Images/Androguard_and_PreDefined_Values/Inter_Linear/11K_2020_19_18_17/Simple_model/testY.npy', testY)\\nnp.save('/content/gdrive/My Drive/Adverserial_ML/AndroZoo/APKs_and_Images/Malware_Images/Androguard_and_PreDefined_Values/Inter_Linear/11K_2020_19_18_17/Simple_model/valX.npy', valX)\\nnp.save('/content/gdrive/My Drive/Adverserial_ML/AndroZoo/APKs_and_Images/Malware_Images/Androguard_and_PreDefined_Values/Inter_Linear/11K_2020_19_18_17/Simple_model/valY.npy', valY)\\n#\""
            ]
          },
          "metadata": {
            "tags": []
          },
          "execution_count": 14
        }
      ]
    },
    {
      "cell_type": "code",
      "metadata": {
        "id": "hBbnH-0pUJuH",
        "colab": {
          "base_uri": "https://localhost:8080/",
          "height": 1000
        },
        "outputId": "5feab1b4-0ae3-481f-aa69-b253c9ac2833"
      },
      "source": [
        "#Defining differnet parameters to auto-keras\n",
        "model = ak.ImageClassifier(max_trials=10)\n",
        "model.fit(trainX, trainY, validation_data=(valX, valY), epochs=5)"
      ],
      "execution_count": null,
      "outputs": [
        {
          "output_type": "stream",
          "text": [
            "Train for 692 steps, validate for 173 steps\n",
            "Epoch 1/5\n",
            "692/692 [==============================] - 190s 275ms/step - loss: 0.2831 - accuracy: 0.8811 - val_loss: 0.2144 - val_accuracy: 0.9194\n",
            "Epoch 2/5\n",
            "692/692 [==============================] - 195s 281ms/step - loss: 0.1981 - accuracy: 0.9237 - val_loss: 0.1958 - val_accuracy: 0.9249\n",
            "Epoch 3/5\n",
            "692/692 [==============================] - 191s 277ms/step - loss: 0.1674 - accuracy: 0.9358 - val_loss: 0.1952 - val_accuracy: 0.9238\n",
            "Epoch 4/5\n",
            "692/692 [==============================] - 192s 277ms/step - loss: 0.1528 - accuracy: 0.9414 - val_loss: 0.1728 - val_accuracy: 0.9364\n",
            "Epoch 5/5\n",
            "692/692 [==============================] - 194s 280ms/step - loss: 0.1342 - accuracy: 0.9484 - val_loss: 0.1640 - val_accuracy: 0.9391\n"
          ],
          "name": "stdout"
        },
        {
          "output_type": "display_data",
          "data": {
            "text/html": [
              "<span style=\"color:#4527A0\"><h1 style=\"font-size:18px\">Trial complete</h1></span>"
            ],
            "text/plain": [
              "<IPython.core.display.HTML object>"
            ]
          },
          "metadata": {
            "tags": []
          }
        },
        {
          "output_type": "display_data",
          "data": {
            "text/html": [
              "<span style=\"color:#4527A0\"><h1 style=\"font-size:18px\">Trial summary</h1></span>"
            ],
            "text/plain": [
              "<IPython.core.display.HTML object>"
            ]
          },
          "metadata": {
            "tags": []
          }
        },
        {
          "output_type": "display_data",
          "data": {
            "text/html": [
              "<span style=\"color:cyan\"> |-Trial ID: c2fc6850f52af2b179f632290625a327</span>"
            ],
            "text/plain": [
              "<IPython.core.display.HTML object>"
            ]
          },
          "metadata": {
            "tags": []
          }
        },
        {
          "output_type": "display_data",
          "data": {
            "text/html": [
              "<span style=\"color:cyan\"> |-Score: 0.16403726538955476</span>"
            ],
            "text/plain": [
              "<IPython.core.display.HTML object>"
            ]
          },
          "metadata": {
            "tags": []
          }
        },
        {
          "output_type": "display_data",
          "data": {
            "text/html": [
              "<span style=\"color:cyan\"> |-Best step: 0</span>"
            ],
            "text/plain": [
              "<IPython.core.display.HTML object>"
            ]
          },
          "metadata": {
            "tags": []
          }
        },
        {
          "output_type": "display_data",
          "data": {
            "text/html": [
              "<span style=\"color:#7E57C2\"><h2 style=\"font-size:16px\">Hyperparameters:</h2></span>"
            ],
            "text/plain": [
              "<IPython.core.display.HTML object>"
            ]
          },
          "metadata": {
            "tags": []
          }
        },
        {
          "output_type": "display_data",
          "data": {
            "text/html": [
              "<span style=\"color:cyan\"> |-classification_head_1/dropout_rate: 0.5</span>"
            ],
            "text/plain": [
              "<IPython.core.display.HTML object>"
            ]
          },
          "metadata": {
            "tags": []
          }
        },
        {
          "output_type": "display_data",
          "data": {
            "text/html": [
              "<span style=\"color:blue\"> |-classification_head_1/spatial_reduction_1/reduction_type: flatten</span>"
            ],
            "text/plain": [
              "<IPython.core.display.HTML object>"
            ]
          },
          "metadata": {
            "tags": []
          }
        },
        {
          "output_type": "display_data",
          "data": {
            "text/html": [
              "<span style=\"color:cyan\"> |-dense_block_1/dropout_rate: 0</span>"
            ],
            "text/plain": [
              "<IPython.core.display.HTML object>"
            ]
          },
          "metadata": {
            "tags": []
          }
        },
        {
          "output_type": "display_data",
          "data": {
            "text/html": [
              "<span style=\"color:blue\"> |-dense_block_1/num_layers: 1</span>"
            ],
            "text/plain": [
              "<IPython.core.display.HTML object>"
            ]
          },
          "metadata": {
            "tags": []
          }
        },
        {
          "output_type": "display_data",
          "data": {
            "text/html": [
              "<span style=\"color:cyan\"> |-dense_block_1/units_0: 128</span>"
            ],
            "text/plain": [
              "<IPython.core.display.HTML object>"
            ]
          },
          "metadata": {
            "tags": []
          }
        },
        {
          "output_type": "display_data",
          "data": {
            "text/html": [
              "<span style=\"color:blue\"> |-dense_block_1/use_batchnorm: False</span>"
            ],
            "text/plain": [
              "<IPython.core.display.HTML object>"
            ]
          },
          "metadata": {
            "tags": []
          }
        },
        {
          "output_type": "display_data",
          "data": {
            "text/html": [
              "<span style=\"color:cyan\"> |-image_block_1/augment: False</span>"
            ],
            "text/plain": [
              "<IPython.core.display.HTML object>"
            ]
          },
          "metadata": {
            "tags": []
          }
        },
        {
          "output_type": "display_data",
          "data": {
            "text/html": [
              "<span style=\"color:blue\"> |-image_block_1/block_type: vanilla</span>"
            ],
            "text/plain": [
              "<IPython.core.display.HTML object>"
            ]
          },
          "metadata": {
            "tags": []
          }
        },
        {
          "output_type": "display_data",
          "data": {
            "text/html": [
              "<span style=\"color:cyan\"> |-image_block_1/conv_block_1/dropout_rate: 0.25</span>"
            ],
            "text/plain": [
              "<IPython.core.display.HTML object>"
            ]
          },
          "metadata": {
            "tags": []
          }
        },
        {
          "output_type": "display_data",
          "data": {
            "text/html": [
              "<span style=\"color:blue\"> |-image_block_1/conv_block_1/filters_0_0: 32</span>"
            ],
            "text/plain": [
              "<IPython.core.display.HTML object>"
            ]
          },
          "metadata": {
            "tags": []
          }
        },
        {
          "output_type": "display_data",
          "data": {
            "text/html": [
              "<span style=\"color:cyan\"> |-image_block_1/conv_block_1/filters_0_1: 64</span>"
            ],
            "text/plain": [
              "<IPython.core.display.HTML object>"
            ]
          },
          "metadata": {
            "tags": []
          }
        },
        {
          "output_type": "display_data",
          "data": {
            "text/html": [
              "<span style=\"color:blue\"> |-image_block_1/conv_block_1/kernel_size: 3</span>"
            ],
            "text/plain": [
              "<IPython.core.display.HTML object>"
            ]
          },
          "metadata": {
            "tags": []
          }
        },
        {
          "output_type": "display_data",
          "data": {
            "text/html": [
              "<span style=\"color:cyan\"> |-image_block_1/conv_block_1/max_pooling: True</span>"
            ],
            "text/plain": [
              "<IPython.core.display.HTML object>"
            ]
          },
          "metadata": {
            "tags": []
          }
        },
        {
          "output_type": "display_data",
          "data": {
            "text/html": [
              "<span style=\"color:blue\"> |-image_block_1/conv_block_1/num_blocks: 1</span>"
            ],
            "text/plain": [
              "<IPython.core.display.HTML object>"
            ]
          },
          "metadata": {
            "tags": []
          }
        },
        {
          "output_type": "display_data",
          "data": {
            "text/html": [
              "<span style=\"color:cyan\"> |-image_block_1/conv_block_1/num_layers: 2</span>"
            ],
            "text/plain": [
              "<IPython.core.display.HTML object>"
            ]
          },
          "metadata": {
            "tags": []
          }
        },
        {
          "output_type": "display_data",
          "data": {
            "text/html": [
              "<span style=\"color:blue\"> |-image_block_1/conv_block_1/separable: False</span>"
            ],
            "text/plain": [
              "<IPython.core.display.HTML object>"
            ]
          },
          "metadata": {
            "tags": []
          }
        },
        {
          "output_type": "display_data",
          "data": {
            "text/html": [
              "<span style=\"color:cyan\"> |-image_block_1/normalize: True</span>"
            ],
            "text/plain": [
              "<IPython.core.display.HTML object>"
            ]
          },
          "metadata": {
            "tags": []
          }
        },
        {
          "output_type": "display_data",
          "data": {
            "text/html": [
              "<span style=\"color:blue\"> |-optimizer: adam</span>"
            ],
            "text/plain": [
              "<IPython.core.display.HTML object>"
            ]
          },
          "metadata": {
            "tags": []
          }
        },
        {
          "output_type": "stream",
          "text": [
            "Train for 692 steps, validate for 173 steps\n",
            "Epoch 1/5\n",
            "692/692 [==============================] - 1524s 2s/step - loss: 0.2434 - accuracy: 0.9057 - val_loss: 0.2241 - val_accuracy: 0.9277\n",
            "Epoch 2/5\n",
            "692/692 [==============================] - 1545s 2s/step - loss: 0.1545 - accuracy: 0.9430 - val_loss: 0.2168 - val_accuracy: 0.9277\n",
            "Epoch 3/5\n",
            "692/692 [==============================] - 1541s 2s/step - loss: 0.1181 - accuracy: 0.9572 - val_loss: 0.1475 - val_accuracy: 0.9476\n",
            "Epoch 4/5\n",
            "692/692 [==============================] - 1579s 2s/step - loss: 0.1008 - accuracy: 0.9652 - val_loss: 0.1854 - val_accuracy: 0.9333\n",
            "Epoch 5/5\n",
            "692/692 [==============================] - 1547s 2s/step - loss: 0.0841 - accuracy: 0.9702 - val_loss: 0.1208 - val_accuracy: 0.9606\n"
          ],
          "name": "stdout"
        },
        {
          "output_type": "display_data",
          "data": {
            "text/html": [
              "<span style=\"color:#4527A0\"><h1 style=\"font-size:18px\">Trial complete</h1></span>"
            ],
            "text/plain": [
              "<IPython.core.display.HTML object>"
            ]
          },
          "metadata": {
            "tags": []
          }
        },
        {
          "output_type": "display_data",
          "data": {
            "text/html": [
              "<span style=\"color:#4527A0\"><h1 style=\"font-size:18px\">Trial summary</h1></span>"
            ],
            "text/plain": [
              "<IPython.core.display.HTML object>"
            ]
          },
          "metadata": {
            "tags": []
          }
        },
        {
          "output_type": "display_data",
          "data": {
            "text/html": [
              "<span style=\"color:cyan\"> |-Trial ID: 26569134c48853659d8197f0a72f9027</span>"
            ],
            "text/plain": [
              "<IPython.core.display.HTML object>"
            ]
          },
          "metadata": {
            "tags": []
          }
        },
        {
          "output_type": "display_data",
          "data": {
            "text/html": [
              "<span style=\"color:cyan\"> |-Score: 0.12079448315430691</span>"
            ],
            "text/plain": [
              "<IPython.core.display.HTML object>"
            ]
          },
          "metadata": {
            "tags": []
          }
        },
        {
          "output_type": "display_data",
          "data": {
            "text/html": [
              "<span style=\"color:cyan\"> |-Best step: 0</span>"
            ],
            "text/plain": [
              "<IPython.core.display.HTML object>"
            ]
          },
          "metadata": {
            "tags": []
          }
        },
        {
          "output_type": "display_data",
          "data": {
            "text/html": [
              "<span style=\"color:#7E57C2\"><h2 style=\"font-size:16px\">Hyperparameters:</h2></span>"
            ],
            "text/plain": [
              "<IPython.core.display.HTML object>"
            ]
          },
          "metadata": {
            "tags": []
          }
        },
        {
          "output_type": "display_data",
          "data": {
            "text/html": [
              "<span style=\"color:cyan\"> |-classification_head_1/dropout_rate: 0</span>"
            ],
            "text/plain": [
              "<IPython.core.display.HTML object>"
            ]
          },
          "metadata": {
            "tags": []
          }
        },
        {
          "output_type": "display_data",
          "data": {
            "text/html": [
              "<span style=\"color:blue\"> |-dense_block_1/dropout_rate: 0</span>"
            ],
            "text/plain": [
              "<IPython.core.display.HTML object>"
            ]
          },
          "metadata": {
            "tags": []
          }
        },
        {
          "output_type": "display_data",
          "data": {
            "text/html": [
              "<span style=\"color:cyan\"> |-dense_block_1/num_layers: 2</span>"
            ],
            "text/plain": [
              "<IPython.core.display.HTML object>"
            ]
          },
          "metadata": {
            "tags": []
          }
        },
        {
          "output_type": "display_data",
          "data": {
            "text/html": [
              "<span style=\"color:blue\"> |-dense_block_1/units_0: 32</span>"
            ],
            "text/plain": [
              "<IPython.core.display.HTML object>"
            ]
          },
          "metadata": {
            "tags": []
          }
        },
        {
          "output_type": "display_data",
          "data": {
            "text/html": [
              "<span style=\"color:cyan\"> |-dense_block_1/units_1: 32</span>"
            ],
            "text/plain": [
              "<IPython.core.display.HTML object>"
            ]
          },
          "metadata": {
            "tags": []
          }
        },
        {
          "output_type": "display_data",
          "data": {
            "text/html": [
              "<span style=\"color:blue\"> |-dense_block_1/use_batchnorm: False</span>"
            ],
            "text/plain": [
              "<IPython.core.display.HTML object>"
            ]
          },
          "metadata": {
            "tags": []
          }
        },
        {
          "output_type": "display_data",
          "data": {
            "text/html": [
              "<span style=\"color:cyan\"> |-image_block_1/augment: True</span>"
            ],
            "text/plain": [
              "<IPython.core.display.HTML object>"
            ]
          },
          "metadata": {
            "tags": []
          }
        },
        {
          "output_type": "display_data",
          "data": {
            "text/html": [
              "<span style=\"color:blue\"> |-image_block_1/block_type: resnet</span>"
            ],
            "text/plain": [
              "<IPython.core.display.HTML object>"
            ]
          },
          "metadata": {
            "tags": []
          }
        },
        {
          "output_type": "display_data",
          "data": {
            "text/html": [
              "<span style=\"color:cyan\"> |-image_block_1/normalize: True</span>"
            ],
            "text/plain": [
              "<IPython.core.display.HTML object>"
            ]
          },
          "metadata": {
            "tags": []
          }
        },
        {
          "output_type": "display_data",
          "data": {
            "text/html": [
              "<span style=\"color:blue\"> |-image_block_1/res_net_block_1/conv3_depth: 4</span>"
            ],
            "text/plain": [
              "<IPython.core.display.HTML object>"
            ]
          },
          "metadata": {
            "tags": []
          }
        },
        {
          "output_type": "display_data",
          "data": {
            "text/html": [
              "<span style=\"color:cyan\"> |-image_block_1/res_net_block_1/conv4_depth: 6</span>"
            ],
            "text/plain": [
              "<IPython.core.display.HTML object>"
            ]
          },
          "metadata": {
            "tags": []
          }
        },
        {
          "output_type": "display_data",
          "data": {
            "text/html": [
              "<span style=\"color:blue\"> |-image_block_1/res_net_block_1/pooling: avg</span>"
            ],
            "text/plain": [
              "<IPython.core.display.HTML object>"
            ]
          },
          "metadata": {
            "tags": []
          }
        },
        {
          "output_type": "display_data",
          "data": {
            "text/html": [
              "<span style=\"color:cyan\"> |-image_block_1/res_net_block_1/version: v2</span>"
            ],
            "text/plain": [
              "<IPython.core.display.HTML object>"
            ]
          },
          "metadata": {
            "tags": []
          }
        },
        {
          "output_type": "display_data",
          "data": {
            "text/html": [
              "<span style=\"color:blue\"> |-optimizer: adam</span>"
            ],
            "text/plain": [
              "<IPython.core.display.HTML object>"
            ]
          },
          "metadata": {
            "tags": []
          }
        },
        {
          "output_type": "stream",
          "text": [
            "Train for 692 steps, validate for 173 steps\n",
            "Epoch 1/5\n",
            "692/692 [==============================] - 1555s 2s/step - loss: 0.2360 - accuracy: 0.9105 - val_loss: 0.1837 - val_accuracy: 0.9323\n",
            "Epoch 2/5\n",
            "692/692 [==============================] - 1664s 2s/step - loss: 0.1410 - accuracy: 0.9488 - val_loss: 0.1825 - val_accuracy: 0.9413\n",
            "Epoch 3/5\n",
            "692/692 [==============================] - 1700s 2s/step - loss: 0.1108 - accuracy: 0.9608 - val_loss: 0.1997 - val_accuracy: 0.9341\n",
            "Epoch 4/5\n",
            "152/692 [=====>........................] - ETA: 20:10 - loss: 0.0991 - accuracy: 0.9620\b\b\b\b\b\b\b\b\b\b\b\b\b\b\b\b\b\b\b\b\b\b\b\b\b\b\b\b\b\b\b\b\b\b\b\b\b\b\b\b\b\b\b\b\b\b\b\b\b\b\b\b\b\b\b\b\b\b\b\b\b\b\b\b\b\b\b\b\b\b\b\b\b\b\b\b\b\b\b\b\b\b\b\b\b\b\b"
          ],
          "name": "stdout"
        }
      ]
    },
    {
      "cell_type": "code",
      "metadata": {
        "id": "tFlJ2qzFIksR",
        "colab": {
          "base_uri": "https://localhost:8080/",
          "height": 163
        },
        "outputId": "ee828a79-eb04-4115-9e1b-fe77b1a511a4"
      },
      "source": [
        "#select the final best trained model\n",
        "trained_model = model.export_model()"
      ],
      "execution_count": null,
      "outputs": [
        {
          "output_type": "error",
          "ename": "NameError",
          "evalue": "ignored",
          "traceback": [
            "\u001b[0;31m---------------------------------------------------------------------------\u001b[0m",
            "\u001b[0;31mNameError\u001b[0m                                 Traceback (most recent call last)",
            "\u001b[0;32m<ipython-input-1-9272adceaceb>\u001b[0m in \u001b[0;36m<module>\u001b[0;34m()\u001b[0m\n\u001b[0;32m----> 1\u001b[0;31m \u001b[0mtrained_model\u001b[0m \u001b[0;34m=\u001b[0m \u001b[0mmodel\u001b[0m\u001b[0;34m.\u001b[0m\u001b[0mexport_model\u001b[0m\u001b[0;34m(\u001b[0m\u001b[0;34m)\u001b[0m\u001b[0;34m\u001b[0m\u001b[0;34m\u001b[0m\u001b[0m\n\u001b[0m",
            "\u001b[0;31mNameError\u001b[0m: name 'model' is not defined"
          ]
        }
      ]
    },
    {
      "cell_type": "code",
      "metadata": {
        "id": "ZZEiEjNhXYTF"
      },
      "source": [
        "#evaluate the auto-keras best model\n",
        "trained_model.evaluate(testX,testY)"
      ],
      "execution_count": null,
      "outputs": []
    },
    {
      "cell_type": "code",
      "metadata": {
        "id": "PSE9iUf-sEKv"
      },
      "source": [
        "#Diplaying summary of the auto-keras best model\n",
        "trained_model.summary()"
      ],
      "execution_count": null,
      "outputs": []
    },
    {
      "cell_type": "markdown",
      "metadata": {
        "id": "A2bzxm12N7jh"
      },
      "source": [
        "**Saving and Laoding a trained Model**"
      ]
    },
    {
      "cell_type": "code",
      "metadata": {
        "id": "ZMz0ScHhMB73"
      },
      "source": [
        "path_to_save_model = '/content/gdrive/My Drive/Adverserial_ML/AndroZoo/APKs_and_Images/Malware_Images/Androguard_and_PreDefined_Values/Inter_Linear/11K_2020_19_18_17/Simple_model'"
      ],
      "execution_count": null,
      "outputs": []
    },
    {
      "cell_type": "code",
      "metadata": {
        "id": "R86DIwPGMCMe"
      },
      "source": [
        "from __future__ import absolute_import, division, print_function, unicode_literals\n",
        "\n",
        "#try:\n",
        "#  # %tensorflow_version only exists in Colab.\n",
        "#  !pip install tf-nightly\n",
        "#except Exception:\n",
        "#  pass\n",
        "import tensorflow_datasets as tfds\n",
        "\n",
        "import tensorflow as tf\n",
        "tfds.disable_progress_bar()"
      ],
      "execution_count": null,
      "outputs": []
    },
    {
      "cell_type": "code",
      "metadata": {
        "id": "p303qkmnMCKa",
        "colab": {
          "base_uri": "https://localhost:8080/",
          "height": 428
        },
        "outputId": "0d611f7f-5684-4d6d-8157-a664649debee"
      },
      "source": [
        "#save the model to directory\n",
        "#keras_model_path = \"/content/drive/My Drive/Adverserial_ML/AndroZoo/APKs_Images/Auto_Keras_Report\n",
        "model.save(path_to_save_model)  # save() should be called out of strategy scope"
      ],
      "execution_count": null,
      "outputs": [
        {
          "output_type": "error",
          "ename": "OSError",
          "evalue": "ignored",
          "traceback": [
            "\u001b[0;31m---------------------------------------------------------------------------\u001b[0m",
            "\u001b[0;31mOSError\u001b[0m                                   Traceback (most recent call last)",
            "\u001b[0;32m<ipython-input-35-e24ae78d27b3>\u001b[0m in \u001b[0;36m<module>\u001b[0;34m()\u001b[0m\n\u001b[0;32m----> 1\u001b[0;31m \u001b[0mmodel\u001b[0m\u001b[0;34m.\u001b[0m\u001b[0msave\u001b[0m\u001b[0;34m(\u001b[0m\u001b[0mpath_to_save_model\u001b[0m\u001b[0;34m)\u001b[0m  \u001b[0;31m# save() should be called out of strategy scope\u001b[0m\u001b[0;34m\u001b[0m\u001b[0;34m\u001b[0m\u001b[0m\n\u001b[0m",
            "\u001b[0;32m/usr/local/lib/python3.6/dist-packages/keras/engine/network.py\u001b[0m in \u001b[0;36msave\u001b[0;34m(self, filepath, overwrite, include_optimizer)\u001b[0m\n\u001b[1;32m   1150\u001b[0m             \u001b[0;32mraise\u001b[0m \u001b[0mNotImplementedError\u001b[0m\u001b[0;34m\u001b[0m\u001b[0;34m\u001b[0m\u001b[0m\n\u001b[1;32m   1151\u001b[0m         \u001b[0;32mfrom\u001b[0m \u001b[0;34m.\u001b[0m\u001b[0;34m.\u001b[0m\u001b[0mmodels\u001b[0m \u001b[0;32mimport\u001b[0m \u001b[0msave_model\u001b[0m\u001b[0;34m\u001b[0m\u001b[0;34m\u001b[0m\u001b[0m\n\u001b[0;32m-> 1152\u001b[0;31m         \u001b[0msave_model\u001b[0m\u001b[0;34m(\u001b[0m\u001b[0mself\u001b[0m\u001b[0;34m,\u001b[0m \u001b[0mfilepath\u001b[0m\u001b[0;34m,\u001b[0m \u001b[0moverwrite\u001b[0m\u001b[0;34m,\u001b[0m \u001b[0minclude_optimizer\u001b[0m\u001b[0;34m)\u001b[0m\u001b[0;34m\u001b[0m\u001b[0;34m\u001b[0m\u001b[0m\n\u001b[0m\u001b[1;32m   1153\u001b[0m \u001b[0;34m\u001b[0m\u001b[0m\n\u001b[1;32m   1154\u001b[0m     \u001b[0;34m@\u001b[0m\u001b[0msaving\u001b[0m\u001b[0;34m.\u001b[0m\u001b[0mallow_write_to_gcs\u001b[0m\u001b[0;34m\u001b[0m\u001b[0;34m\u001b[0m\u001b[0m\n",
            "\u001b[0;32m/usr/local/lib/python3.6/dist-packages/keras/engine/saving.py\u001b[0m in \u001b[0;36msave_wrapper\u001b[0;34m(obj, filepath, overwrite, *args, **kwargs)\u001b[0m\n\u001b[1;32m    447\u001b[0m                 \u001b[0mos\u001b[0m\u001b[0;34m.\u001b[0m\u001b[0mremove\u001b[0m\u001b[0;34m(\u001b[0m\u001b[0mtmp_filepath\u001b[0m\u001b[0;34m)\u001b[0m\u001b[0;34m\u001b[0m\u001b[0;34m\u001b[0m\u001b[0m\n\u001b[1;32m    448\u001b[0m         \u001b[0;32melse\u001b[0m\u001b[0;34m:\u001b[0m\u001b[0;34m\u001b[0m\u001b[0;34m\u001b[0m\u001b[0m\n\u001b[0;32m--> 449\u001b[0;31m             \u001b[0msave_function\u001b[0m\u001b[0;34m(\u001b[0m\u001b[0mobj\u001b[0m\u001b[0;34m,\u001b[0m \u001b[0mfilepath\u001b[0m\u001b[0;34m,\u001b[0m \u001b[0moverwrite\u001b[0m\u001b[0;34m,\u001b[0m \u001b[0;34m*\u001b[0m\u001b[0margs\u001b[0m\u001b[0;34m,\u001b[0m \u001b[0;34m**\u001b[0m\u001b[0mkwargs\u001b[0m\u001b[0;34m)\u001b[0m\u001b[0;34m\u001b[0m\u001b[0;34m\u001b[0m\u001b[0m\n\u001b[0m\u001b[1;32m    450\u001b[0m \u001b[0;34m\u001b[0m\u001b[0m\n\u001b[1;32m    451\u001b[0m     \u001b[0;32mreturn\u001b[0m \u001b[0msave_wrapper\u001b[0m\u001b[0;34m\u001b[0m\u001b[0;34m\u001b[0m\u001b[0m\n",
            "\u001b[0;32m/usr/local/lib/python3.6/dist-packages/keras/engine/saving.py\u001b[0m in \u001b[0;36msave_model\u001b[0;34m(model, filepath, overwrite, include_optimizer)\u001b[0m\n\u001b[1;32m    538\u001b[0m             \u001b[0;32mif\u001b[0m \u001b[0;32mnot\u001b[0m \u001b[0mproceed\u001b[0m\u001b[0;34m:\u001b[0m\u001b[0;34m\u001b[0m\u001b[0;34m\u001b[0m\u001b[0m\n\u001b[1;32m    539\u001b[0m                 \u001b[0;32mreturn\u001b[0m\u001b[0;34m\u001b[0m\u001b[0;34m\u001b[0m\u001b[0m\n\u001b[0;32m--> 540\u001b[0;31m         \u001b[0;32mwith\u001b[0m \u001b[0mH5Dict\u001b[0m\u001b[0;34m(\u001b[0m\u001b[0mfilepath\u001b[0m\u001b[0;34m,\u001b[0m \u001b[0mmode\u001b[0m\u001b[0;34m=\u001b[0m\u001b[0;34m'w'\u001b[0m\u001b[0;34m)\u001b[0m \u001b[0;32mas\u001b[0m \u001b[0mh5dict\u001b[0m\u001b[0;34m:\u001b[0m\u001b[0;34m\u001b[0m\u001b[0;34m\u001b[0m\u001b[0m\n\u001b[0m\u001b[1;32m    541\u001b[0m             \u001b[0m_serialize_model\u001b[0m\u001b[0;34m(\u001b[0m\u001b[0mmodel\u001b[0m\u001b[0;34m,\u001b[0m \u001b[0mh5dict\u001b[0m\u001b[0;34m,\u001b[0m \u001b[0minclude_optimizer\u001b[0m\u001b[0;34m)\u001b[0m\u001b[0;34m\u001b[0m\u001b[0;34m\u001b[0m\u001b[0m\n\u001b[1;32m    542\u001b[0m     \u001b[0;32melif\u001b[0m \u001b[0mhasattr\u001b[0m\u001b[0;34m(\u001b[0m\u001b[0mfilepath\u001b[0m\u001b[0;34m,\u001b[0m \u001b[0;34m'write'\u001b[0m\u001b[0;34m)\u001b[0m \u001b[0;32mand\u001b[0m \u001b[0mcallable\u001b[0m\u001b[0;34m(\u001b[0m\u001b[0mfilepath\u001b[0m\u001b[0;34m.\u001b[0m\u001b[0mwrite\u001b[0m\u001b[0;34m)\u001b[0m\u001b[0;34m:\u001b[0m\u001b[0;34m\u001b[0m\u001b[0;34m\u001b[0m\u001b[0m\n",
            "\u001b[0;32m/usr/local/lib/python3.6/dist-packages/keras/utils/io_utils.py\u001b[0m in \u001b[0;36m__init__\u001b[0;34m(self, path, mode)\u001b[0m\n\u001b[1;32m    189\u001b[0m             \u001b[0mself\u001b[0m\u001b[0;34m.\u001b[0m\u001b[0m_is_file\u001b[0m \u001b[0;34m=\u001b[0m \u001b[0;32mFalse\u001b[0m\u001b[0;34m\u001b[0m\u001b[0;34m\u001b[0m\u001b[0m\n\u001b[1;32m    190\u001b[0m         \u001b[0;32melif\u001b[0m \u001b[0misinstance\u001b[0m\u001b[0;34m(\u001b[0m\u001b[0mpath\u001b[0m\u001b[0;34m,\u001b[0m \u001b[0msix\u001b[0m\u001b[0;34m.\u001b[0m\u001b[0mstring_types\u001b[0m\u001b[0;34m)\u001b[0m \u001b[0;32mor\u001b[0m \u001b[0m_is_path_instance\u001b[0m\u001b[0;34m(\u001b[0m\u001b[0mpath\u001b[0m\u001b[0;34m)\u001b[0m\u001b[0;34m:\u001b[0m\u001b[0;34m\u001b[0m\u001b[0;34m\u001b[0m\u001b[0m\n\u001b[0;32m--> 191\u001b[0;31m             \u001b[0mself\u001b[0m\u001b[0;34m.\u001b[0m\u001b[0mdata\u001b[0m \u001b[0;34m=\u001b[0m \u001b[0mh5py\u001b[0m\u001b[0;34m.\u001b[0m\u001b[0mFile\u001b[0m\u001b[0;34m(\u001b[0m\u001b[0mpath\u001b[0m\u001b[0;34m,\u001b[0m \u001b[0mmode\u001b[0m\u001b[0;34m=\u001b[0m\u001b[0mmode\u001b[0m\u001b[0;34m)\u001b[0m\u001b[0;34m\u001b[0m\u001b[0;34m\u001b[0m\u001b[0m\n\u001b[0m\u001b[1;32m    192\u001b[0m             \u001b[0mself\u001b[0m\u001b[0;34m.\u001b[0m\u001b[0m_is_file\u001b[0m \u001b[0;34m=\u001b[0m \u001b[0;32mTrue\u001b[0m\u001b[0;34m\u001b[0m\u001b[0;34m\u001b[0m\u001b[0m\n\u001b[1;32m    193\u001b[0m         \u001b[0;32melif\u001b[0m \u001b[0misinstance\u001b[0m\u001b[0;34m(\u001b[0m\u001b[0mpath\u001b[0m\u001b[0;34m,\u001b[0m \u001b[0mdict\u001b[0m\u001b[0;34m)\u001b[0m\u001b[0;34m:\u001b[0m\u001b[0;34m\u001b[0m\u001b[0;34m\u001b[0m\u001b[0m\n",
            "\u001b[0;32m/usr/local/lib/python3.6/dist-packages/h5py/_hl/files.py\u001b[0m in \u001b[0;36m__init__\u001b[0;34m(self, name, mode, driver, libver, userblock_size, swmr, rdcc_nslots, rdcc_nbytes, rdcc_w0, track_order, **kwds)\u001b[0m\n\u001b[1;32m    406\u001b[0m                 fid = make_fid(name, mode, userblock_size,\n\u001b[1;32m    407\u001b[0m                                \u001b[0mfapl\u001b[0m\u001b[0;34m,\u001b[0m \u001b[0mfcpl\u001b[0m\u001b[0;34m=\u001b[0m\u001b[0mmake_fcpl\u001b[0m\u001b[0;34m(\u001b[0m\u001b[0mtrack_order\u001b[0m\u001b[0;34m=\u001b[0m\u001b[0mtrack_order\u001b[0m\u001b[0;34m)\u001b[0m\u001b[0;34m,\u001b[0m\u001b[0;34m\u001b[0m\u001b[0;34m\u001b[0m\u001b[0m\n\u001b[0;32m--> 408\u001b[0;31m                                swmr=swmr)\n\u001b[0m\u001b[1;32m    409\u001b[0m \u001b[0;34m\u001b[0m\u001b[0m\n\u001b[1;32m    410\u001b[0m             \u001b[0;32mif\u001b[0m \u001b[0misinstance\u001b[0m\u001b[0;34m(\u001b[0m\u001b[0mlibver\u001b[0m\u001b[0;34m,\u001b[0m \u001b[0mtuple\u001b[0m\u001b[0;34m)\u001b[0m\u001b[0;34m:\u001b[0m\u001b[0;34m\u001b[0m\u001b[0;34m\u001b[0m\u001b[0m\n",
            "\u001b[0;32m/usr/local/lib/python3.6/dist-packages/h5py/_hl/files.py\u001b[0m in \u001b[0;36mmake_fid\u001b[0;34m(name, mode, userblock_size, fapl, fcpl, swmr)\u001b[0m\n\u001b[1;32m    177\u001b[0m         \u001b[0mfid\u001b[0m \u001b[0;34m=\u001b[0m \u001b[0mh5f\u001b[0m\u001b[0;34m.\u001b[0m\u001b[0mcreate\u001b[0m\u001b[0;34m(\u001b[0m\u001b[0mname\u001b[0m\u001b[0;34m,\u001b[0m \u001b[0mh5f\u001b[0m\u001b[0;34m.\u001b[0m\u001b[0mACC_EXCL\u001b[0m\u001b[0;34m,\u001b[0m \u001b[0mfapl\u001b[0m\u001b[0;34m=\u001b[0m\u001b[0mfapl\u001b[0m\u001b[0;34m,\u001b[0m \u001b[0mfcpl\u001b[0m\u001b[0;34m=\u001b[0m\u001b[0mfcpl\u001b[0m\u001b[0;34m)\u001b[0m\u001b[0;34m\u001b[0m\u001b[0;34m\u001b[0m\u001b[0m\n\u001b[1;32m    178\u001b[0m     \u001b[0;32melif\u001b[0m \u001b[0mmode\u001b[0m \u001b[0;34m==\u001b[0m \u001b[0;34m'w'\u001b[0m\u001b[0;34m:\u001b[0m\u001b[0;34m\u001b[0m\u001b[0;34m\u001b[0m\u001b[0m\n\u001b[0;32m--> 179\u001b[0;31m         \u001b[0mfid\u001b[0m \u001b[0;34m=\u001b[0m \u001b[0mh5f\u001b[0m\u001b[0;34m.\u001b[0m\u001b[0mcreate\u001b[0m\u001b[0;34m(\u001b[0m\u001b[0mname\u001b[0m\u001b[0;34m,\u001b[0m \u001b[0mh5f\u001b[0m\u001b[0;34m.\u001b[0m\u001b[0mACC_TRUNC\u001b[0m\u001b[0;34m,\u001b[0m \u001b[0mfapl\u001b[0m\u001b[0;34m=\u001b[0m\u001b[0mfapl\u001b[0m\u001b[0;34m,\u001b[0m \u001b[0mfcpl\u001b[0m\u001b[0;34m=\u001b[0m\u001b[0mfcpl\u001b[0m\u001b[0;34m)\u001b[0m\u001b[0;34m\u001b[0m\u001b[0;34m\u001b[0m\u001b[0m\n\u001b[0m\u001b[1;32m    180\u001b[0m     \u001b[0;32melif\u001b[0m \u001b[0mmode\u001b[0m \u001b[0;34m==\u001b[0m \u001b[0;34m'a'\u001b[0m\u001b[0;34m:\u001b[0m\u001b[0;34m\u001b[0m\u001b[0;34m\u001b[0m\u001b[0m\n\u001b[1;32m    181\u001b[0m         \u001b[0;31m# Open in append mode (read/write).\u001b[0m\u001b[0;34m\u001b[0m\u001b[0;34m\u001b[0m\u001b[0;34m\u001b[0m\u001b[0m\n",
            "\u001b[0;32mh5py/_objects.pyx\u001b[0m in \u001b[0;36mh5py._objects.with_phil.wrapper\u001b[0;34m()\u001b[0m\n",
            "\u001b[0;32mh5py/_objects.pyx\u001b[0m in \u001b[0;36mh5py._objects.with_phil.wrapper\u001b[0;34m()\u001b[0m\n",
            "\u001b[0;32mh5py/h5f.pyx\u001b[0m in \u001b[0;36mh5py.h5f.create\u001b[0;34m()\u001b[0m\n",
            "\u001b[0;31mOSError\u001b[0m: Unable to create file (unable to open file: name = '/content/gdrive/My Drive/Adverserial_ML/AndroZoo/APKs_and_Images/Malware_Images/Androguard_and_PreDefined_Values/Inter_Linear/11K_2020_19_18_17/Simple_model', errno = 21, error message = 'Is a directory', flags = 13, o_flags = 242)"
          ]
        }
      ]
    },
    {
      "cell_type": "code",
      "metadata": {
        "id": "M15u_EZzMCHl"
      },
      "source": [
        "#load the saved model\n",
        "restored_model = tf.keras.models.load_model(path_to_save_model)\n",
        "#restored_keras_model.fit(train_dataset, epochs=2)"
      ],
      "execution_count": null,
      "outputs": []
    },
    {
      "cell_type": "code",
      "metadata": {
        "id": "nPM031U7MCFd",
        "colab": {
          "base_uri": "https://localhost:8080/",
          "height": 493
        },
        "outputId": "77b28efa-01a2-42e8-8b83-19328694bc99"
      },
      "source": [
        "#showing loaded model summary\n",
        "#restored_model.summary()"
      ],
      "execution_count": null,
      "outputs": [
        {
          "output_type": "stream",
          "text": [
            "Model: \"model\"\n",
            "_________________________________________________________________\n",
            "Layer (type)                 Output Shape              Param #   \n",
            "=================================================================\n",
            "input_1 (InputLayer)         [(None, 64, 64, 3)]       0         \n",
            "_________________________________________________________________\n",
            "normalization (Normalization (None, 64, 64, 3)         7         \n",
            "_________________________________________________________________\n",
            "conv2d (Conv2D)              (None, 62, 62, 32)        896       \n",
            "_________________________________________________________________\n",
            "conv2d_1 (Conv2D)            (None, 60, 60, 64)        18496     \n",
            "_________________________________________________________________\n",
            "max_pooling2d (MaxPooling2D) (None, 30, 30, 64)        0         \n",
            "_________________________________________________________________\n",
            "dropout (Dropout)            (None, 30, 30, 64)        0         \n",
            "_________________________________________________________________\n",
            "flatten (Flatten)            (None, 57600)             0         \n",
            "_________________________________________________________________\n",
            "dropout_1 (Dropout)          (None, 57600)             0         \n",
            "_________________________________________________________________\n",
            "dense (Dense)                (None, 1)                 57601     \n",
            "_________________________________________________________________\n",
            "classification_head_1 (Sigmo (None, 1)                 0         \n",
            "=================================================================\n",
            "Total params: 77,000\n",
            "Trainable params: 76,993\n",
            "Non-trainable params: 7\n",
            "_________________________________________________________________\n"
          ],
          "name": "stdout"
        }
      ]
    },
    {
      "cell_type": "code",
      "metadata": {
        "id": "7OalJj5IKRSS",
        "colab": {
          "base_uri": "https://localhost:8080/",
          "height": 51
        },
        "outputId": "3791cf18-84fe-4fce-9bd6-4957ea518bb7"
      },
      "source": [
        "print(images_data.shape)\n",
        "print(Y.shape)"
      ],
      "execution_count": null,
      "outputs": [
        {
          "output_type": "stream",
          "text": [
            "(34770, 64, 64, 3)\n",
            "(34770,)\n"
          ],
          "name": "stdout"
        }
      ]
    },
    {
      "cell_type": "code",
      "metadata": {
        "id": "CUFyECk8Ka_l"
      },
      "source": [
        "#splitting dataset to train, test sets\n",
        "trainX, testX, trainY, testY = train_test_split(images_data, Y, test_size=0.2)\n"
      ],
      "execution_count": null,
      "outputs": []
    },
    {
      "cell_type": "code",
      "metadata": {
        "id": "-RRLBrvKKcei",
        "colab": {
          "base_uri": "https://localhost:8080/",
          "height": 1000
        },
        "outputId": "e3b1251f-2b5e-4829-c062-502eca5c9c47"
      },
      "source": [
        "#Training the stored model on more data\n",
        "history = restored_model.fit(trainX, trainY, validation_split=0.1, batch_size=64, epochs=50)"
      ],
      "execution_count": null,
      "outputs": [
        {
          "output_type": "stream",
          "text": [
            "Train on 25034 samples, validate on 2782 samples\n",
            "Epoch 1/50\n",
            "25034/25034 [==============================] - 347s 14ms/sample - loss: 0.3842 - accuracy: 0.8365 - val_loss: 0.3056 - val_accuracy: 0.8760\n",
            "Epoch 2/50\n",
            "25034/25034 [==============================] - 346s 14ms/sample - loss: 0.2989 - accuracy: 0.8732 - val_loss: 0.3028 - val_accuracy: 0.8746\n",
            "Epoch 3/50\n",
            "25034/25034 [==============================] - 349s 14ms/sample - loss: 0.2576 - accuracy: 0.8939 - val_loss: 0.2733 - val_accuracy: 0.8900\n",
            "Epoch 4/50\n",
            "25034/25034 [==============================] - 348s 14ms/sample - loss: 0.2274 - accuracy: 0.9073 - val_loss: 0.2627 - val_accuracy: 0.8950\n",
            "Epoch 5/50\n",
            "25034/25034 [==============================] - 346s 14ms/sample - loss: 0.2006 - accuracy: 0.9174 - val_loss: 0.2566 - val_accuracy: 0.9012\n",
            "Epoch 6/50\n",
            "25034/25034 [==============================] - 347s 14ms/sample - loss: 0.1776 - accuracy: 0.9291 - val_loss: 0.2747 - val_accuracy: 0.8879\n",
            "Epoch 7/50\n",
            "25034/25034 [==============================] - 349s 14ms/sample - loss: 0.1591 - accuracy: 0.9372 - val_loss: 0.2628 - val_accuracy: 0.9029\n",
            "Epoch 8/50\n",
            "25034/25034 [==============================] - 349s 14ms/sample - loss: 0.1414 - accuracy: 0.9441 - val_loss: 0.2850 - val_accuracy: 0.8972\n",
            "Epoch 9/50\n",
            "25034/25034 [==============================] - 349s 14ms/sample - loss: 0.1316 - accuracy: 0.9474 - val_loss: 0.3074 - val_accuracy: 0.8871\n",
            "Epoch 10/50\n",
            "25034/25034 [==============================] - 344s 14ms/sample - loss: 0.1217 - accuracy: 0.9541 - val_loss: 0.2833 - val_accuracy: 0.8990\n",
            "Epoch 11/50\n",
            "25034/25034 [==============================] - 344s 14ms/sample - loss: 0.1201 - accuracy: 0.9536 - val_loss: 0.2864 - val_accuracy: 0.8979\n",
            "Epoch 12/50\n",
            "25034/25034 [==============================] - 344s 14ms/sample - loss: 0.1140 - accuracy: 0.9553 - val_loss: 0.2965 - val_accuracy: 0.9026\n",
            "Epoch 13/50\n",
            "25034/25034 [==============================] - 346s 14ms/sample - loss: 0.1087 - accuracy: 0.9584 - val_loss: 0.3005 - val_accuracy: 0.9044\n",
            "Epoch 14/50\n",
            "25034/25034 [==============================] - 348s 14ms/sample - loss: 0.1081 - accuracy: 0.9587 - val_loss: 0.3143 - val_accuracy: 0.9019\n",
            "Epoch 15/50\n",
            "25034/25034 [==============================] - 349s 14ms/sample - loss: 0.0938 - accuracy: 0.9637 - val_loss: 0.3021 - val_accuracy: 0.8986\n",
            "Epoch 16/50\n",
            "25034/25034 [==============================] - 347s 14ms/sample - loss: 0.0980 - accuracy: 0.9623 - val_loss: 0.3106 - val_accuracy: 0.8943\n",
            "Epoch 17/50\n",
            "25034/25034 [==============================] - 348s 14ms/sample - loss: 0.0913 - accuracy: 0.9641 - val_loss: 0.3240 - val_accuracy: 0.9019\n",
            "Epoch 18/50\n",
            "25034/25034 [==============================] - 348s 14ms/sample - loss: 0.0888 - accuracy: 0.9654 - val_loss: 0.3166 - val_accuracy: 0.9026\n",
            "Epoch 19/50\n",
            "25034/25034 [==============================] - 348s 14ms/sample - loss: 0.0850 - accuracy: 0.9668 - val_loss: 0.3354 - val_accuracy: 0.8986\n",
            "Epoch 20/50\n",
            "25034/25034 [==============================] - 347s 14ms/sample - loss: 0.0813 - accuracy: 0.9686 - val_loss: 0.3514 - val_accuracy: 0.8986\n",
            "Epoch 21/50\n",
            "25034/25034 [==============================] - 347s 14ms/sample - loss: 0.0841 - accuracy: 0.9682 - val_loss: 0.3463 - val_accuracy: 0.9008\n",
            "Epoch 22/50\n",
            "25034/25034 [==============================] - 347s 14ms/sample - loss: 0.0816 - accuracy: 0.9687 - val_loss: 0.3410 - val_accuracy: 0.9055\n",
            "Epoch 23/50\n",
            "25034/25034 [==============================] - 348s 14ms/sample - loss: 0.0778 - accuracy: 0.9699 - val_loss: 0.3871 - val_accuracy: 0.8990\n",
            "Epoch 24/50\n",
            "25034/25034 [==============================] - 349s 14ms/sample - loss: 0.0836 - accuracy: 0.9673 - val_loss: 0.3249 - val_accuracy: 0.9062\n",
            "Epoch 25/50\n",
            "25034/25034 [==============================] - 348s 14ms/sample - loss: 0.0738 - accuracy: 0.9721 - val_loss: 0.3636 - val_accuracy: 0.9033\n",
            "Epoch 26/50\n",
            "25034/25034 [==============================] - 348s 14ms/sample - loss: 0.0743 - accuracy: 0.9718 - val_loss: 0.3637 - val_accuracy: 0.9055\n",
            "Epoch 27/50\n",
            "25034/25034 [==============================] - 349s 14ms/sample - loss: 0.0770 - accuracy: 0.9705 - val_loss: 0.3660 - val_accuracy: 0.9047\n",
            "Epoch 28/50\n",
            "25034/25034 [==============================] - 349s 14ms/sample - loss: 0.0819 - accuracy: 0.9678 - val_loss: 0.3503 - val_accuracy: 0.9008\n",
            "Epoch 29/50\n",
            "25034/25034 [==============================] - 349s 14ms/sample - loss: 0.0728 - accuracy: 0.9730 - val_loss: 0.3636 - val_accuracy: 0.9047\n",
            "Epoch 30/50\n",
            "25034/25034 [==============================] - 349s 14ms/sample - loss: 0.0716 - accuracy: 0.9730 - val_loss: 0.3549 - val_accuracy: 0.9026\n",
            "Epoch 31/50\n",
            "25034/25034 [==============================] - 349s 14ms/sample - loss: 0.0691 - accuracy: 0.9724 - val_loss: 0.3659 - val_accuracy: 0.9076\n",
            "Epoch 32/50\n",
            "25034/25034 [==============================] - 348s 14ms/sample - loss: 0.0676 - accuracy: 0.9748 - val_loss: 0.3840 - val_accuracy: 0.9029\n",
            "Epoch 33/50\n",
            "25034/25034 [==============================] - 348s 14ms/sample - loss: 0.0721 - accuracy: 0.9740 - val_loss: 0.3789 - val_accuracy: 0.9037\n",
            "Epoch 34/50\n",
            "25034/25034 [==============================] - 347s 14ms/sample - loss: 0.0689 - accuracy: 0.9749 - val_loss: 0.3524 - val_accuracy: 0.9012\n",
            "Epoch 35/50\n",
            "25034/25034 [==============================] - 349s 14ms/sample - loss: 0.0665 - accuracy: 0.9753 - val_loss: 0.3846 - val_accuracy: 0.9015\n",
            "Epoch 36/50\n",
            "25034/25034 [==============================] - 349s 14ms/sample - loss: 0.0711 - accuracy: 0.9739 - val_loss: 0.3902 - val_accuracy: 0.8976\n",
            "Epoch 37/50\n",
            "25034/25034 [==============================] - 349s 14ms/sample - loss: 0.0698 - accuracy: 0.9744 - val_loss: 0.4049 - val_accuracy: 0.9001\n",
            "Epoch 38/50\n",
            "25034/25034 [==============================] - 349s 14ms/sample - loss: 0.0682 - accuracy: 0.9753 - val_loss: 0.3979 - val_accuracy: 0.9069\n",
            "Epoch 39/50\n",
            "25034/25034 [==============================] - 349s 14ms/sample - loss: 0.0674 - accuracy: 0.9750 - val_loss: 0.3939 - val_accuracy: 0.9055\n",
            "Epoch 40/50\n",
            "25034/25034 [==============================] - 350s 14ms/sample - loss: 0.0639 - accuracy: 0.9756 - val_loss: 0.3987 - val_accuracy: 0.8994\n",
            "Epoch 41/50\n",
            "25034/25034 [==============================] - 349s 14ms/sample - loss: 0.0684 - accuracy: 0.9748 - val_loss: 0.4190 - val_accuracy: 0.9065\n",
            "Epoch 42/50\n",
            "25034/25034 [==============================] - 349s 14ms/sample - loss: 0.0682 - accuracy: 0.9732 - val_loss: 0.3885 - val_accuracy: 0.9026\n",
            "Epoch 43/50\n",
            "25034/25034 [==============================] - 350s 14ms/sample - loss: 0.0640 - accuracy: 0.9766 - val_loss: 0.4275 - val_accuracy: 0.9001\n",
            "Epoch 44/50\n",
            "25034/25034 [==============================] - 349s 14ms/sample - loss: 0.0671 - accuracy: 0.9748 - val_loss: 0.4081 - val_accuracy: 0.8997\n",
            "Epoch 45/50\n",
            "25034/25034 [==============================] - 349s 14ms/sample - loss: 0.0631 - accuracy: 0.9772 - val_loss: 0.4110 - val_accuracy: 0.9019\n",
            "Epoch 46/50\n",
            "25034/25034 [==============================] - 350s 14ms/sample - loss: 0.0659 - accuracy: 0.9764 - val_loss: 0.4248 - val_accuracy: 0.8914\n",
            "Epoch 47/50\n",
            "25034/25034 [==============================] - 350s 14ms/sample - loss: 0.0589 - accuracy: 0.9789 - val_loss: 0.4265 - val_accuracy: 0.9012\n",
            "Epoch 48/50\n",
            "25034/25034 [==============================] - 351s 14ms/sample - loss: 0.0637 - accuracy: 0.9758 - val_loss: 0.4017 - val_accuracy: 0.9069\n",
            "Epoch 49/50\n",
            "25034/25034 [==============================] - 351s 14ms/sample - loss: 0.0628 - accuracy: 0.9769 - val_loss: 0.4561 - val_accuracy: 0.8950\n",
            "Epoch 50/50\n",
            "25034/25034 [==============================] - 352s 14ms/sample - loss: 0.0654 - accuracy: 0.9763 - val_loss: 0.4117 - val_accuracy: 0.9076\n"
          ],
          "name": "stdout"
        }
      ]
    },
    {
      "cell_type": "code",
      "metadata": {
        "id": "ikvNXs4gLdp1",
        "colab": {
          "base_uri": "https://localhost:8080/",
          "height": 105
        },
        "outputId": "24145ff5-9637-4831-b041-5881a338af7f"
      },
      "source": [
        "#save the updated model\n",
        "path_to_save_model = '/content/gdrive/My Drive/Adverserial_ML/AndroZoo/APKs_and_Images/Auto_keras_new/Binary_model_12Plus18'\n",
        "restored_model.save(path_to_save_model)"
      ],
      "execution_count": null,
      "outputs": [
        {
          "output_type": "stream",
          "text": [
            "WARNING:tensorflow:From /usr/local/lib/python3.6/dist-packages/tensorflow_core/python/ops/resource_variable_ops.py:1786: calling BaseResourceVariable.__init__ (from tensorflow.python.ops.resource_variable_ops) with constraint is deprecated and will be removed in a future version.\n",
            "Instructions for updating:\n",
            "If using Keras pass *_constraint arguments to layers.\n",
            "INFO:tensorflow:Assets written to: /content/gdrive/My Drive/Adverserial_ML/AndroZoo/APKs_and_Images/Auto_keras_new/Binary_model_12Plus18/assets\n"
          ],
          "name": "stdout"
        }
      ]
    },
    {
      "cell_type": "code",
      "metadata": {
        "id": "TEwOiG3KMB3M",
        "colab": {
          "base_uri": "https://localhost:8080/",
          "height": 51
        },
        "outputId": "bae1f9c7-0cf0-4e69-b0e7-3d623ee6e95a"
      },
      "source": [
        "#evaluating the updated model\n",
        "model.evaluate(testX,testY)"
      ],
      "execution_count": null,
      "outputs": [
        {
          "output_type": "stream",
          "text": [
            "4800/4800 [==============================] - 9s 2ms/step\n"
          ],
          "name": "stdout"
        },
        {
          "output_type": "execute_result",
          "data": {
            "text/plain": [
              "[0.06991374753011542, 0.9839583039283752]"
            ]
          },
          "metadata": {
            "tags": []
          },
          "execution_count": 38
        }
      ]
    },
    {
      "cell_type": "code",
      "metadata": {
        "id": "h2gKwO0mmAYW"
      },
      "source": [
        "#Prediction on updated model for textX\n",
        "predictions = model.predict(testX)\n",
        "y_predict = predictions.reshape((predictions.shape[0]))"
      ],
      "execution_count": null,
      "outputs": []
    },
    {
      "cell_type": "code",
      "metadata": {
        "id": "n_5ylv_4er-1",
        "colab": {
          "base_uri": "https://localhost:8080/",
          "height": 350
        },
        "outputId": "ea2439ec-3239-4113-c772-fb80431ebb97"
      },
      "source": [
        "#Plotting Precision-Recall Curve\n",
        "from matplotlib import style\n",
        "from sklearn.metrics import precision_recall_curve\n",
        "from sklearn.metrics import f1_score\n",
        "from sklearn.metrics import auc\n",
        "from matplotlib import pyplot\n",
        "\n",
        "precision, recall, thresholds = precision_recall_curve(testY, y_predict)\n",
        "area_uc = auc(recall, precision)\n",
        "# summarize scores\n",
        "\n",
        "print('NN: auc=%.3f' % (area_uc))\n",
        "# plot the precision-recall curves\n",
        "#no_skill = len(y_test[y_test==1]) / len(y_test)\n",
        "style.use('ggplot')\n",
        "\n",
        "pyplot.plot(recall, precision, marker='.')\n",
        "pyplot.plot()\n",
        "# axis labels\n",
        "pyplot.text(0.01,0.65, 'area under curve =%.3f' % (area_uc))\n",
        "pyplot.title('Precision-Recall Curve')\n",
        "pyplot.xlabel('Recall')\n",
        "pyplot.ylabel('Precision')\n",
        "# show the legend\n",
        "pyplot.legend()\n",
        "# show the plot\n",
        "pyplot.show()\n",
        "\n",
        "\n",
        "prcsn = np.array(precision)\n",
        "recl = np.array(recall)\n",
        "f1_measure = 2*(prcsn*recl)/(prcsn+recl)\n",
        "threshold = thresholds[np.argmax(f1_measure)]\n",
        "print('Threshold for splitting benign and malware is : ',threshold)\n"
      ],
      "execution_count": null,
      "outputs": [
        {
          "output_type": "stream",
          "text": [
            "No handles with labels found to put in legend.\n"
          ],
          "name": "stderr"
        },
        {
          "output_type": "stream",
          "text": [
            "NN: auc=0.988\n"
          ],
          "name": "stdout"
        },
        {
          "output_type": "display_data",
          "data": {
            "image/png": "[encoded data removed]",
            "text/plain": [
              "<Figure size 432x288 with 1 Axes>"
            ]
          },
          "metadata": {
            "tags": []
          }
        },
        {
          "output_type": "stream",
          "text": [
            "Threshold for splitting benign and malware is :  0.3387651\n"
          ],
          "name": "stdout"
        }
      ]
    },
    {
      "cell_type": "code",
      "metadata": {
        "id": "6br6kZPpNAbv",
        "colab": {
          "base_uri": "https://localhost:8080/",
          "height": 105
        },
        "outputId": "c790fa1f-9f96-4349-cb91-393bee58f073"
      },
      "source": [
        "#Generating confusion matrix\n",
        "from sklearn.metrics import confusion_matrix\n",
        "y_pred = np.zeros_like(y_predict)\n",
        "y_idx = [y_predict >= 0.3387651]\n",
        "y_pred[y_idx] = 1\n",
        "conf_mtrx = confusion_matrix(testY, y_pred)\n",
        "print(conf_mtrx)"
      ],
      "execution_count": null,
      "outputs": [
        {
          "output_type": "stream",
          "text": [
            "[[3195  186]\n",
            " [ 166 3373]]\n"
          ],
          "name": "stdout"
        },
        {
          "output_type": "stream",
          "text": [
            "/usr/local/lib/python3.6/dist-packages/ipykernel_launcher.py:4: FutureWarning: Using a non-tuple sequence for multidimensional indexing is deprecated; use `arr[tuple(seq)]` instead of `arr[seq]`. In the future this will be interpreted as an array index, `arr[np.array(seq)]`, which will result either in an error or a different result.\n",
            "  after removing the cwd from sys.path.\n"
          ],
          "name": "stderr"
        }
      ]
    },
    {
      "cell_type": "code",
      "metadata": {
        "id": "VOWg6JD_MVew"
      },
      "source": [
        "#CAlcuating different evaluations\n",
        "def different_evaluations(tn, fp, fn, tp, y_test, y_pred):\n",
        "  # FPr and RNr\n",
        "  FPr = fp/ (fp+tn)\n",
        "  FNr = fn/ (fn+tp)\n",
        "  print(\"False positive rate is : \", FPr)\n",
        "  print(\"False negative rate is : \", FNr)\n",
        "  # F1-score\n",
        "  print(\"The F1-score is : \", f1_score(y_test, y_pred))\n",
        "\n",
        "  # Recall\n",
        "  print(\"The Recall is : \", recall_score(y_test, y_pred))\n",
        "\n",
        "  # Precision\n",
        "  print(\"The Precision score is : \", precision_score(y_test, y_pred))"
      ],
      "execution_count": null,
      "outputs": []
    },
    {
      "cell_type": "code",
      "metadata": {
        "id": "245TYMo0MVrv"
      },
      "source": [
        ""
      ],
      "execution_count": null,
      "outputs": []
    },
    {
      "cell_type": "code",
      "metadata": {
        "id": "HkITA-xAMdAG",
        "colab": {
          "base_uri": "https://localhost:8080/",
          "height": 102
        },
        "outputId": "df617fee-e799-4712-e376-f1bbaa956aab"
      },
      "source": [
        "from sklearn.metrics import matthews_corrcoef\n",
        "from sklearn.metrics import f1_score\n",
        "from sklearn.metrics import recall_score\n",
        "from sklearn.metrics import precision_score\n",
        "\n",
        "tn, fp, fn, tp = conf_mtrx.ravel()\n",
        "\n",
        "different_evaluations(tn, fp, fn, tp, testY, y_pred)"
      ],
      "execution_count": null,
      "outputs": [
        {
          "output_type": "stream",
          "text": [
            "False positive rate is :  0.04525288376220053\n",
            "False negative rate is :  0.059621361966657245\n",
            "The F1-score is :  0.9481481481481481\n",
            "The Recall is :  0.9403786380333428\n",
            "The Precision score is :  0.9560471128985923\n"
          ],
          "name": "stdout"
        }
      ]
    },
    {
      "cell_type": "markdown",
      "metadata": {
        "id": "NOsNFXr0Ne1s"
      },
      "source": [
        "Rough Work"
      ]
    },
    {
      "cell_type": "code",
      "metadata": {
        "id": "jnQWfyKSIzg7"
      },
      "source": [
        "print(model.summary())"
      ],
      "execution_count": null,
      "outputs": []
    },
    {
      "cell_type": "code",
      "metadata": {
        "id": "R3fuX26h-EMP",
        "colab": {
          "base_uri": "https://localhost:8080/",
          "height": 625
        },
        "outputId": "f8be84be-944e-4a54-feac-dad710bd7242"
      },
      "source": [
        "trainX, testX, trainY, testY = train_test_split(images_data, Y, test_size=0.25)\n",
        "history = model.fit(trainX, trainY, validation_split=0.1, batch_size=64, epochs=10)"
      ],
      "execution_count": null,
      "outputs": [
        {
          "output_type": "stream",
          "text": [
            "Train on 16200 samples, validate on 1800 samples\n",
            "Epoch 1/10\n",
            "16200/16200 [==============================] - 219s 14ms/step - loss: 0.3386 - acc: 0.8566 - val_loss: 0.2875 - val_acc: 0.8739\n",
            "Epoch 2/10\n",
            "16200/16200 [==============================] - 219s 14ms/step - loss: 0.2770 - acc: 0.8881 - val_loss: 0.2746 - val_acc: 0.8839\n",
            "Epoch 3/10\n",
            "16200/16200 [==============================] - 219s 14ms/step - loss: 0.2386 - acc: 0.9063 - val_loss: 0.2332 - val_acc: 0.9067\n",
            "Epoch 4/10\n",
            "16200/16200 [==============================] - 221s 14ms/step - loss: 0.2164 - acc: 0.9169 - val_loss: 0.2535 - val_acc: 0.9028\n",
            "Epoch 5/10\n",
            "16200/16200 [==============================] - 219s 14ms/step - loss: 0.1851 - acc: 0.9301 - val_loss: 0.2217 - val_acc: 0.9122\n",
            "Epoch 6/10\n",
            "16200/16200 [==============================] - 218s 13ms/step - loss: 0.1715 - acc: 0.9338 - val_loss: 0.2179 - val_acc: 0.9167\n",
            "Epoch 7/10\n",
            "16200/16200 [==============================] - 220s 14ms/step - loss: 0.1639 - acc: 0.9378 - val_loss: 0.2302 - val_acc: 0.9056\n",
            "Epoch 8/10\n",
            "  320/16200 [..............................] - ETA: 3:31 - loss: 0.1658 - acc: 0.9406"
          ],
          "name": "stdout"
        },
        {
          "output_type": "error",
          "ename": "KeyboardInterrupt",
          "evalue": "ignored",
          "traceback": [
            "\u001b[0;31m---------------------------------------------------------------------------\u001b[0m",
            "\u001b[0;31mKeyboardInterrupt\u001b[0m                         Traceback (most recent call last)",
            "\u001b[0;32m<ipython-input-19-fb5b84b9e98c>\u001b[0m in \u001b[0;36m<module>\u001b[0;34m()\u001b[0m\n\u001b[1;32m      1\u001b[0m \u001b[0mtrainX\u001b[0m\u001b[0;34m,\u001b[0m \u001b[0mtestX\u001b[0m\u001b[0;34m,\u001b[0m \u001b[0mtrainY\u001b[0m\u001b[0;34m,\u001b[0m \u001b[0mtestY\u001b[0m \u001b[0;34m=\u001b[0m \u001b[0mtrain_test_split\u001b[0m\u001b[0;34m(\u001b[0m\u001b[0mimages_data\u001b[0m\u001b[0;34m,\u001b[0m \u001b[0mY\u001b[0m\u001b[0;34m,\u001b[0m \u001b[0mtest_size\u001b[0m\u001b[0;34m=\u001b[0m\u001b[0;36m0.25\u001b[0m\u001b[0;34m)\u001b[0m\u001b[0;34m\u001b[0m\u001b[0;34m\u001b[0m\u001b[0m\n\u001b[0;32m----> 2\u001b[0;31m \u001b[0mhistory\u001b[0m \u001b[0;34m=\u001b[0m \u001b[0mmodel\u001b[0m\u001b[0;34m.\u001b[0m\u001b[0mfit\u001b[0m\u001b[0;34m(\u001b[0m\u001b[0mtrainX\u001b[0m\u001b[0;34m,\u001b[0m \u001b[0mtrainY\u001b[0m\u001b[0;34m,\u001b[0m \u001b[0mvalidation_split\u001b[0m\u001b[0;34m=\u001b[0m\u001b[0;36m0.1\u001b[0m\u001b[0;34m,\u001b[0m \u001b[0mbatch_size\u001b[0m\u001b[0;34m=\u001b[0m\u001b[0;36m64\u001b[0m\u001b[0;34m,\u001b[0m \u001b[0mepochs\u001b[0m\u001b[0;34m=\u001b[0m\u001b[0;36m10\u001b[0m\u001b[0;34m)\u001b[0m\u001b[0;34m\u001b[0m\u001b[0;34m\u001b[0m\u001b[0m\n\u001b[0m",
            "\u001b[0;32m/usr/local/lib/python3.6/dist-packages/keras/engine/training.py\u001b[0m in \u001b[0;36mfit\u001b[0;34m(self, x, y, batch_size, epochs, verbose, callbacks, validation_split, validation_data, shuffle, class_weight, sample_weight, initial_epoch, steps_per_epoch, validation_steps, validation_freq, max_queue_size, workers, use_multiprocessing, **kwargs)\u001b[0m\n\u001b[1;32m   1176\u001b[0m                                         \u001b[0msteps_per_epoch\u001b[0m\u001b[0;34m=\u001b[0m\u001b[0msteps_per_epoch\u001b[0m\u001b[0;34m,\u001b[0m\u001b[0;34m\u001b[0m\u001b[0;34m\u001b[0m\u001b[0m\n\u001b[1;32m   1177\u001b[0m                                         \u001b[0mvalidation_steps\u001b[0m\u001b[0;34m=\u001b[0m\u001b[0mvalidation_steps\u001b[0m\u001b[0;34m,\u001b[0m\u001b[0;34m\u001b[0m\u001b[0;34m\u001b[0m\u001b[0m\n\u001b[0;32m-> 1178\u001b[0;31m                                         validation_freq=validation_freq)\n\u001b[0m\u001b[1;32m   1179\u001b[0m \u001b[0;34m\u001b[0m\u001b[0m\n\u001b[1;32m   1180\u001b[0m     def evaluate(self,\n",
            "\u001b[0;32m/usr/local/lib/python3.6/dist-packages/keras/engine/training_arrays.py\u001b[0m in \u001b[0;36mfit_loop\u001b[0;34m(model, fit_function, fit_inputs, out_labels, batch_size, epochs, verbose, callbacks, val_function, val_inputs, shuffle, callback_metrics, initial_epoch, steps_per_epoch, validation_steps, validation_freq)\u001b[0m\n\u001b[1;32m    202\u001b[0m                     \u001b[0mins_batch\u001b[0m\u001b[0;34m[\u001b[0m\u001b[0mi\u001b[0m\u001b[0;34m]\u001b[0m \u001b[0;34m=\u001b[0m \u001b[0mins_batch\u001b[0m\u001b[0;34m[\u001b[0m\u001b[0mi\u001b[0m\u001b[0;34m]\u001b[0m\u001b[0;34m.\u001b[0m\u001b[0mtoarray\u001b[0m\u001b[0;34m(\u001b[0m\u001b[0;34m)\u001b[0m\u001b[0;34m\u001b[0m\u001b[0;34m\u001b[0m\u001b[0m\n\u001b[1;32m    203\u001b[0m \u001b[0;34m\u001b[0m\u001b[0m\n\u001b[0;32m--> 204\u001b[0;31m                 \u001b[0mouts\u001b[0m \u001b[0;34m=\u001b[0m \u001b[0mfit_function\u001b[0m\u001b[0;34m(\u001b[0m\u001b[0mins_batch\u001b[0m\u001b[0;34m)\u001b[0m\u001b[0;34m\u001b[0m\u001b[0;34m\u001b[0m\u001b[0m\n\u001b[0m\u001b[1;32m    205\u001b[0m                 \u001b[0mouts\u001b[0m \u001b[0;34m=\u001b[0m \u001b[0mto_list\u001b[0m\u001b[0;34m(\u001b[0m\u001b[0mouts\u001b[0m\u001b[0;34m)\u001b[0m\u001b[0;34m\u001b[0m\u001b[0;34m\u001b[0m\u001b[0m\n\u001b[1;32m    206\u001b[0m                 \u001b[0;32mfor\u001b[0m \u001b[0ml\u001b[0m\u001b[0;34m,\u001b[0m \u001b[0mo\u001b[0m \u001b[0;32min\u001b[0m \u001b[0mzip\u001b[0m\u001b[0;34m(\u001b[0m\u001b[0mout_labels\u001b[0m\u001b[0;34m,\u001b[0m \u001b[0mouts\u001b[0m\u001b[0;34m)\u001b[0m\u001b[0;34m:\u001b[0m\u001b[0;34m\u001b[0m\u001b[0;34m\u001b[0m\u001b[0m\n",
            "\u001b[0;32m/usr/local/lib/python3.6/dist-packages/keras/backend/tensorflow_backend.py\u001b[0m in \u001b[0;36m__call__\u001b[0;34m(self, inputs)\u001b[0m\n\u001b[1;32m   2977\u001b[0m                     \u001b[0;32mreturn\u001b[0m \u001b[0mself\u001b[0m\u001b[0;34m.\u001b[0m\u001b[0m_legacy_call\u001b[0m\u001b[0;34m(\u001b[0m\u001b[0minputs\u001b[0m\u001b[0;34m)\u001b[0m\u001b[0;34m\u001b[0m\u001b[0;34m\u001b[0m\u001b[0m\n\u001b[1;32m   2978\u001b[0m \u001b[0;34m\u001b[0m\u001b[0m\n\u001b[0;32m-> 2979\u001b[0;31m             \u001b[0;32mreturn\u001b[0m \u001b[0mself\u001b[0m\u001b[0;34m.\u001b[0m\u001b[0m_call\u001b[0m\u001b[0;34m(\u001b[0m\u001b[0minputs\u001b[0m\u001b[0;34m)\u001b[0m\u001b[0;34m\u001b[0m\u001b[0;34m\u001b[0m\u001b[0m\n\u001b[0m\u001b[1;32m   2980\u001b[0m         \u001b[0;32melse\u001b[0m\u001b[0;34m:\u001b[0m\u001b[0;34m\u001b[0m\u001b[0;34m\u001b[0m\u001b[0m\n\u001b[1;32m   2981\u001b[0m             \u001b[0;32mif\u001b[0m \u001b[0mpy_any\u001b[0m\u001b[0;34m(\u001b[0m\u001b[0mis_tensor\u001b[0m\u001b[0;34m(\u001b[0m\u001b[0mx\u001b[0m\u001b[0;34m)\u001b[0m \u001b[0;32mfor\u001b[0m \u001b[0mx\u001b[0m \u001b[0;32min\u001b[0m \u001b[0minputs\u001b[0m\u001b[0;34m)\u001b[0m\u001b[0;34m:\u001b[0m\u001b[0;34m\u001b[0m\u001b[0;34m\u001b[0m\u001b[0m\n",
            "\u001b[0;32m/usr/local/lib/python3.6/dist-packages/keras/backend/tensorflow_backend.py\u001b[0m in \u001b[0;36m_call\u001b[0;34m(self, inputs)\u001b[0m\n\u001b[1;32m   2935\u001b[0m             \u001b[0mfetched\u001b[0m \u001b[0;34m=\u001b[0m \u001b[0mself\u001b[0m\u001b[0;34m.\u001b[0m\u001b[0m_callable_fn\u001b[0m\u001b[0;34m(\u001b[0m\u001b[0;34m*\u001b[0m\u001b[0marray_vals\u001b[0m\u001b[0;34m,\u001b[0m \u001b[0mrun_metadata\u001b[0m\u001b[0;34m=\u001b[0m\u001b[0mself\u001b[0m\u001b[0;34m.\u001b[0m\u001b[0mrun_metadata\u001b[0m\u001b[0;34m)\u001b[0m\u001b[0;34m\u001b[0m\u001b[0;34m\u001b[0m\u001b[0m\n\u001b[1;32m   2936\u001b[0m         \u001b[0;32melse\u001b[0m\u001b[0;34m:\u001b[0m\u001b[0;34m\u001b[0m\u001b[0;34m\u001b[0m\u001b[0m\n\u001b[0;32m-> 2937\u001b[0;31m             \u001b[0mfetched\u001b[0m \u001b[0;34m=\u001b[0m \u001b[0mself\u001b[0m\u001b[0;34m.\u001b[0m\u001b[0m_callable_fn\u001b[0m\u001b[0;34m(\u001b[0m\u001b[0;34m*\u001b[0m\u001b[0marray_vals\u001b[0m\u001b[0;34m)\u001b[0m\u001b[0;34m\u001b[0m\u001b[0;34m\u001b[0m\u001b[0m\n\u001b[0m\u001b[1;32m   2938\u001b[0m         \u001b[0;32mreturn\u001b[0m \u001b[0mfetched\u001b[0m\u001b[0;34m[\u001b[0m\u001b[0;34m:\u001b[0m\u001b[0mlen\u001b[0m\u001b[0;34m(\u001b[0m\u001b[0mself\u001b[0m\u001b[0;34m.\u001b[0m\u001b[0moutputs\u001b[0m\u001b[0;34m)\u001b[0m\u001b[0;34m]\u001b[0m\u001b[0;34m\u001b[0m\u001b[0;34m\u001b[0m\u001b[0m\n\u001b[1;32m   2939\u001b[0m \u001b[0;34m\u001b[0m\u001b[0m\n",
            "\u001b[0;32m/tensorflow-1.15.0/python3.6/tensorflow_core/python/client/session.py\u001b[0m in \u001b[0;36m__call__\u001b[0;34m(self, *args, **kwargs)\u001b[0m\n\u001b[1;32m   1470\u001b[0m         ret = tf_session.TF_SessionRunCallable(self._session._session,\n\u001b[1;32m   1471\u001b[0m                                                \u001b[0mself\u001b[0m\u001b[0;34m.\u001b[0m\u001b[0m_handle\u001b[0m\u001b[0;34m,\u001b[0m \u001b[0margs\u001b[0m\u001b[0;34m,\u001b[0m\u001b[0;34m\u001b[0m\u001b[0;34m\u001b[0m\u001b[0m\n\u001b[0;32m-> 1472\u001b[0;31m                                                run_metadata_ptr)\n\u001b[0m\u001b[1;32m   1473\u001b[0m         \u001b[0;32mif\u001b[0m \u001b[0mrun_metadata\u001b[0m\u001b[0;34m:\u001b[0m\u001b[0;34m\u001b[0m\u001b[0;34m\u001b[0m\u001b[0m\n\u001b[1;32m   1474\u001b[0m           \u001b[0mproto_data\u001b[0m \u001b[0;34m=\u001b[0m \u001b[0mtf_session\u001b[0m\u001b[0;34m.\u001b[0m\u001b[0mTF_GetBuffer\u001b[0m\u001b[0;34m(\u001b[0m\u001b[0mrun_metadata_ptr\u001b[0m\u001b[0;34m)\u001b[0m\u001b[0;34m\u001b[0m\u001b[0;34m\u001b[0m\u001b[0m\n",
            "\u001b[0;31mKeyboardInterrupt\u001b[0m: "
          ]
        }
      ]
    },
    {
      "cell_type": "code",
      "metadata": {
        "id": "cXoR4BGdI81z",
        "colab": {
          "base_uri": "https://localhost:8080/",
          "height": 34
        },
        "outputId": "9b122fc7-ae0e-4c6b-e73f-9dda03b30300"
      },
      "source": [
        "print(restored_model.layers[0].get_config())\n"
      ],
      "execution_count": null,
      "outputs": [
        {
          "output_type": "stream",
          "text": [
            "{'batch_input_shape': (None, 64, 64, 3), 'dtype': 'float32', 'sparse': False, 'ragged': False, 'name': 'input_1'}\n"
          ],
          "name": "stdout"
        }
      ]
    },
    {
      "cell_type": "code",
      "metadata": {
        "id": "HzcjQ9sTs6Qb",
        "colab": {
          "base_uri": "https://localhost:8080/",
          "height": 34
        },
        "outputId": "1b1f8237-5751-474f-a979-4aa3cb8e9313"
      },
      "source": [
        "print(restored_model.layers[1].get_config())"
      ],
      "execution_count": null,
      "outputs": [
        {
          "output_type": "stream",
          "text": [
            "{'name': 'normalization', 'trainable': True, 'dtype': 'float32', 'axis': -1}\n"
          ],
          "name": "stdout"
        }
      ]
    },
    {
      "cell_type": "code",
      "metadata": {
        "id": "n-c3uL7bs4RU",
        "colab": {
          "base_uri": "https://localhost:8080/",
          "height": 54
        },
        "outputId": "d89ef56d-4b40-459e-d0c8-da3426eee334"
      },
      "source": [
        "print(restored_model.layers[2].get_config())"
      ],
      "execution_count": null,
      "outputs": [
        {
          "output_type": "stream",
          "text": [
            "{'name': 'conv2d', 'trainable': True, 'dtype': 'float32', 'filters': 32, 'kernel_size': (3, 3), 'strides': (1, 1), 'padding': 'valid', 'data_format': 'channels_last', 'dilation_rate': (1, 1), 'activation': 'relu', 'use_bias': True, 'kernel_initializer': {'class_name': 'GlorotUniform', 'config': {'seed': None}}, 'bias_initializer': {'class_name': 'Zeros', 'config': {}}, 'kernel_regularizer': None, 'bias_regularizer': None, 'activity_regularizer': None, 'kernel_constraint': None, 'bias_constraint': None}\n"
          ],
          "name": "stdout"
        }
      ]
    },
    {
      "cell_type": "code",
      "metadata": {
        "id": "J7YdB0GIL_Wp",
        "colab": {
          "base_uri": "https://localhost:8080/",
          "height": 34
        },
        "outputId": "9586c0c0-0752-43ec-a695-d8aa77d983ae"
      },
      "source": [
        "m_4_22 = os.listdir('/content/gdrive/My Drive/Adverserial_ML/AndroZoo/APKs_and_Images/Malware_Images/Androguard_and_PreDefined_Values/Malware_Images_4K_22K_geq35')\n",
        "print(len(m_4_22))"
      ],
      "execution_count": null,
      "outputs": [
        {
          "output_type": "stream",
          "text": [
            "17962\n"
          ],
          "name": "stdout"
        }
      ]
    },
    {
      "cell_type": "code",
      "metadata": {
        "id": "BBWAl1akuNyY",
        "colab": {
          "base_uri": "https://localhost:8080/",
          "height": 34
        },
        "outputId": "6c9da4cc-4518-455e-e340-b9fbc2d28971"
      },
      "source": [
        "m_q15l35 = os.listdir('/content/gdrive/My Drive/Adverserial_ML/AndroZoo/APKs_and_Images/Malware_Images/Androguard_and_PreDefined_Values/Malware_Images_geq15l35')\n",
        "print(len(m_q15l35))"
      ],
      "execution_count": null,
      "outputs": [
        {
          "output_type": "stream",
          "text": [
            "31299\n"
          ],
          "name": "stdout"
        }
      ]
    },
    {
      "cell_type": "code",
      "metadata": {
        "id": "eQeJt7yHyKxS",
        "colab": {
          "base_uri": "https://localhost:8080/",
          "height": 34
        },
        "outputId": "2547eb8f-c2bc-44b4-ccd2-1d2f845e7398"
      },
      "source": [
        "m_q15l35_npy = load('/content/gdrive/My Drive/Adverserial_ML/AndroZoo/APKs_and_Images/Malware_Images/Androguard_and_PreDefined_Values/XMalware_geq15l35.npy') \n",
        "print(m_q15l35_npy.shape)"
      ],
      "execution_count": null,
      "outputs": [
        {
          "output_type": "stream",
          "text": [
            "(31299, 64, 64, 3)\n"
          ],
          "name": "stdout"
        }
      ]
    }
  ]
}