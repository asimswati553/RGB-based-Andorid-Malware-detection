{
 "cells": [
  {
   "cell_type": "code",
   "execution_count": 43,
   "metadata": {},
   "outputs": [],
   "source": [
    "import pandas as pd\n",
    "import numpy as np\n",
    "import webbrowser\n",
    "import time\n",
    "import json\n",
    "import shutil\n",
    "import os\n",
    "from itertools import dropwhile"
   ]
  },
  {
   "cell_type": "code",
   "execution_count": 3,
   "metadata": {},
   "outputs": [],
   "source": [
    "# create 'AndroZoo' folder in ....\n",
    "with open(os.path.abspath('./proposed.json'), 'r') as proposed_names:\n",
    "          proposed_names_data = json.load(proposed_names)"
   ]
  },
  {
   "cell_type": "code",
   "execution_count": 45,
   "metadata": {},
   "outputs": [],
   "source": [
    "def move_files():\n",
    "    source_path = os.path.abspath('/Users/asim/Downloads/')\n",
    "    destin_path = os.path.abspath('./APK_Files/Malware_APK/') # create 'APK files' folder and 'Malware_APK' in APK files \n",
    "    \n",
    "    download_wait()\n",
    "    files = os.listdir(source_path)\n",
    "    for file in files:\n",
    "        if file.endswith('.apk'):\n",
    "            shutil.move(source_path+'/'+file, destin_path)"
   ]
  },
  {
   "cell_type": "code",
   "execution_count": 46,
   "metadata": {},
   "outputs": [],
   "source": [
    "def download_wait():\n",
    "    directory = os.path.abspath('/Users/asim/Downloads/') # gives download path\n",
    "    \n",
    "    dl_wait = True\n",
    "    while dl_wait:\n",
    "        time.sleep(1)\n",
    "        dl_wait = False\n",
    "        files = os.listdir(directory)\n",
    "        for fname in files:\n",
    "            if fname.endswith('.apk.download'):\n",
    "                dl_wait = True"
   ]
  },
  {
   "cell_type": "code",
   "execution_count": null,
   "metadata": {},
   "outputs": [],
   "source": [
    "api_key = 'https://androzoo.uni.lu/api/download?apikey=cef0598b5bd8f3e89954400a7c3ee1fcbd6a5dbf68bf5a0729ca85416d61baed&sha256='\n",
    "last_downloaded_sha256 = '7a4842a72308256ee1fa7a9d5dd6f008532565165fbf0e4d58b1884660154f18'\n",
    "count = 600000"
   ]
  },
  {
   "cell_type": "code",
   "execution_count": null,
   "metadata": {},
   "outputs": [],
   "source": [
    "for sha256 in dropwhile(lambda x: x != last_downloaded_sha256, proposed_names_data):\n",
    "    webbrowser.open(api_key + sha256)\n",
    "    download_wait()\n",
    "    if(count%10 == 0):\n",
    "        move_files()\n",
    "    last_downloaded_sha256 = sha256\n",
    "    count+=1"
   ]
  },
  {
   "cell_type": "code",
   "execution_count": null,
   "metadata": {},
   "outputs": [],
   "source": [
    "sourcepath='C:/Users/kevinconnell/Desktop/Test_Folder/'\n",
    "sourcefiles = os.listdir(sourcepath)\n",
    "destinationpath = 'C:/Users/kevinconnell/Desktop/Test_Folder/Archive'\n",
    "for file in sourcefiles:\n",
    "    if file.endswith('.png'):\n",
    "        shutil.move(os.path.join(sourcepath,file), os.path.join(destinationpath,file))"
   ]
  }
 ],
 "metadata": {
  "kernelspec": {
   "display_name": "Python 3",
   "language": "python",
   "name": "python3"
  },
  "language_info": {
   "codemirror_mode": {
    "name": "ipython",
    "version": 3
   },
   "file_extension": ".py",
   "mimetype": "text/x-python",
   "name": "python",
   "nbconvert_exporter": "python",
   "pygments_lexer": "ipython3",
   "version": "3.7.3"
  }
 },
 "nbformat": 4,
 "nbformat_minor": 2
}
