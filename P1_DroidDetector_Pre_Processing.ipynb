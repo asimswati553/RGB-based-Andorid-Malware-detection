{
  "nbformat": 4,
  "nbformat_minor": 0,
  "metadata": {
    "kernelspec": {
      "display_name": "Python 3",
      "language": "python",
      "name": "python3"
    },
    "language_info": {
      "codemirror_mode": {
        "name": "ipython",
        "version": 3
      },
      "file_extension": ".py",
      "mimetype": "text/x-python",
      "name": "python",
      "nbconvert_exporter": "python",
      "pygments_lexer": "ipython3",
      "version": "3.6.9"
    },
    "colab": {
      "name": "P1_DroidDetector_Pre-Processing.ipynb",
      "provenance": [],
      "collapsed_sections": []
    }
  },
  "cells": [
    {
      "cell_type": "code",
      "metadata": {
        "id": "fUtzSjD6DmFK"
      },
      "source": [
        "# import libraries\n",
        "import numpy as np\n",
        "import pandas as pd\n",
        "import glob\n",
        "import time\n",
        "import shutil # for moving files from ondirectory to other\n",
        "import ast\n",
        "import io\n",
        "import os"
      ],
      "execution_count": null,
      "outputs": []
    },
    {
      "cell_type": "code",
      "metadata": {
        "id": "GSV0VreNIl8J",
        "colab": {
          "base_uri": "https://localhost:8080/",
          "height": 35
        },
        "outputId": "e494aa88-0e70-473d-96f0-9b243b6fa478"
      },
      "source": [
        "from google.colab import drive\n",
        "drive.mount('/content/gdrive')"
      ],
      "execution_count": null,
      "outputs": [
        {
          "output_type": "stream",
          "text": [
            "Mounted at /content/gdrive\n"
          ],
          "name": "stdout"
        }
      ]
    },
    {
      "cell_type": "code",
      "metadata": {
        "id": "kMAlayBBDmFj"
      },
      "source": [
        "#Content from Paper.\n",
        "#Since we are not provided with properties, authors used for trainig their model. So we are collecting by ourself\n",
        "#and also use the ones they provided in different tables, grpahs and for explanation.\n",
        "# Permissions\n",
        "permissions = ['READ_PHONE_STATE', 'READ_SMS', 'SEND_SMS', 'WRITE_SMS', 'RECEIVE_SMS', 'GET_ACCOUNTS', \n",
        "                  'ACCESS_NETWORK_STATE', 'GET_TASKS', 'WAKE_LOCK', 'CAMERA', 'ACCESS_FINE_LOCATION', \n",
        "                   'RECORD_AUDIO', 'READ_CONTACTS',\n",
        "                  ]\n",
        "\n",
        "# API_method_calls\n",
        "API_method_calls = ['Landroid/telephony/TelephonyManager;->getDeviceId', \n",
        "                       'Landroid/telephony/TelephonyManager;->getSimSerialNumber', \n",
        "                       'Landroid/telephony/SmsManager;->sendTextMessage', \n",
        "                       'Lorg/apache/http/impl/client;->DefaultHttpClient',\n",
        "                       'Landroid/telephony/TelephonyManager;->getLine1Number', \n",
        "                       'Landroid/content/ContentResolver;->delete', 'Landroid/ContentResolver;->query', \n",
        "                       'Ljava/net/HttpURLConnection;->connect', 'Ljava/net/URLConnection;->connect', \n",
        "                       'Ljava/net/HttpURLConnection;->connect', \n",
        "                      ]"
      ],
      "execution_count": null,
      "outputs": []
    },
    {
      "cell_type": "code",
      "metadata": {
        "id": "jhKoODCmDmF3"
      },
      "source": [
        "#Collected permission + permissions from paper(described above)\n",
        "permissions_120 = ['READ_PHONE_STATE', 'READ_SMS', 'SEND_SMS', 'WRITE_SMS', 'RECEIVE_SMS', 'CREATE_USERS',\n",
        "                   'ACCESS_NETWORK_STATE', 'GET_TASKS', 'WAKE_LOCK', 'CAMERA', 'ACCESS_FINE_LOCATION', \n",
        "                   'RECORD_AUDIO', 'READ_CONTACTS', 'BIND_WALLPAPER', 'REQUEST_DELETE_PACKAGES', 'CONTROL_VPN',\n",
        "                   'READ_FILE', 'MODIFY_AUDIO_SETTINGS', 'READ_MMS', 'DEVICE_ADMIN_ENABLED', 'CONTROL_KEYGUARD',\n",
        "                   'MOUNT_UNMOUNT_FILESYSTEMS', 'LISTEN_CELL_LOCATION', 'EXPAND_STATUS_BAR',\n",
        "                   'ACCESS_EXTERNAL_STORAGE', 'BROADCAST_STICKY', 'MANAGE_OWN_CALLS',\n",
        "                   'ACCESS_LOCATION_EXTRA_COMMANDS', 'REQUEST_INSTALL_PACKAGES', 'SET_ALARM', 'SET_WALLPAPER',\n",
        "                   'INSTALL_SHORTCUT',\n",
        "                   'SET_WALLPAPER_HINTS', 'RECEIVE_BOOT_COMPLETED', 'ACCESS_COARSE_LOCATION', \n",
        "                   'KILL_BACKGROUND_PROCESSES', 'READ_SYNC_STATS', 'INSTALL_PACKAGES', 'MODIFY_PHONE_STATE',\n",
        "                   'ANDROID_ID', 'SET_PROCESS_FOREGROUND', 'GET_CONTENT', 'WIFI_LOCK', 'SET_WALLPAPER_HINTS',\n",
        "                   'DISABLE_KEYGUARD', 'READ_LOGAS', 'BLUETOOTH', 'ACCESS_DOWNLOAD_MANAGER',\n",
        "                   'CALL_PHONE', 'ACCESS_BACKGROUND_SERVICE', 'ACCESS_ASSISTED_GPS', 'START_ANY_ACTIVITY',\n",
        "                   'ACCESS_ALL_DOWNLOADS', 'READ_SYNC_SETTINGS', 'RECEIVE_BOOT_COMP', 'CHANGE_WIMAX_STATE', \n",
        "                   'INSTALL_LOCATION_PROVIDER', 'GET_PACKAGE_SIZE', 'BROADCAST_PACKAGE_REMOVED',\n",
        "                   'BLUETOOTH_ADMIN', 'DIAGNOSTIC', 'CHANGE_NETWORK_MODE', 'WRITE_DATA', \n",
        "                   'REQUEST_COMPANION_RUN_IN_BACKGROUND',\n",
        "                   'ACCESS_WIFI_STATE', 'RECEIVE_WAP_PUSH', 'NFC', 'READ_PERMISSION',\n",
        "                   'VIBRATE', 'ACCESS_BSCI_DRM', 'STORAGE_INTERNAL',\n",
        "                   'REGISTER_CONNECTION_MANAGER', 'TRANSMIT_IR','WRITE_SYNC_SETTINGS', 'READ_LOGS', \n",
        "                   'FREEZE_SCREEN', 'GET_PASSWORD',\n",
        "                   'CHANGE_BACKGROUND_DATA_SETTING', 'USE_FINGERPRINT', 'BROADCAST_SMS', 'BACKUP', 'FORCE_BACK',\n",
        "                   'CAPTURE_AUDIO_OUTPUT', 'ADD_VOICEMAIL', 'CLEAR_APP_CACHE', 'CLEAR_APP_USER_DATA',\n",
        "                   'WRITE_SECURE_SETTINGS', 'REQUEST_IGNORE_BATTERY_OPTIMIZATIONS', 'INTERNET', 'READ_CALL_LOG', \n",
        "                   'WRITE_CONTACTS', 'CHANGE_NETWORK_STATE', \n",
        "                   'READ_EXTERNAL_STORAGE', 'WRITE_EXTERNAL_STORAGE', 'ACCOUNT_MANAGER', 'USER_ACTIVITY',\n",
        "                   'START_BACKGROUND_SERVICE', 'ACCESS_NETWORK_CONDITIONS', 'ASEC_DESTROY','READ_BLOCKED_NUMBERS',\n",
        "                   'ACCESS_NOTIFICATION_POLICY', 'GET_ACCOUNTS', 'CALL', 'ACCESS_NOTIFICATIONS',\n",
        "                   'USE_CREDENTIALS', 'READ_HISTORY_BOOKMARKS', 'REQUEST_COMPANION_USE_DATA_IN_BACKGROUND',\n",
        "                   'BATTERY_STATS','CHANGE_WIFI_MULTICAST_STATE', 'REMOTE_AUDIO_PLAYBACK', 'READ_EXTERNAL_SOTRAGE', 'READ_CALENDAR',\n",
        "                   'CHANGE_WIFI_STATE', 'REORDER_TASKS',\n",
        "                   'ACCESS_LOCATION_EXTRA_COMMANDS','ACCESS_COSRSE_LOCATION', 'SET_TIME_ZONE', 'REMOVE_TASKS',\n",
        "                   'CALL_PRIVILEGED', 'SET_ACTIVITY_WATCHER',]\n"
      ],
      "execution_count": null,
      "outputs": []
    },
    {
      "cell_type": "code",
      "metadata": {
        "id": "NkooxZMSDmGT"
      },
      "source": [
        "#Collected Sensitive API method API calls + API method calls from paper (described above)\n",
        "API_method_calls_59 = ['Ljavax/sql/ConnectionEvent;-><init>', 'Ljava/nio/channels/WritableByteChannel;->close',\n",
        "                       'Landroid/service/carrier/CarrierService;->stopSelf', 'Landroid/opengl/Matrix;->getClass',\n",
        "                       'Landroid/view/ViewStructure;->setCheckable', \n",
        "                       'Landroid/text/method/BaseKeyListener;->getInputType', \n",
        "                       'Landroid/provider/MediaStore$Images$Media;->wait', 'Ljava/lang/Runtime;->exec', \n",
        "                       'Ljava/lang/System;->loadLibrary', 'Landroid/widget/AdapterView;->refreshDrawableState',\n",
        "                       'Landroid/widget/MultiAutoCompleteTextView;->saveHierarchyState', \n",
        "                       'Ljava/io/BufferedOutputStream;-><init>', 'Ljava/io/FileOutputStream;-><init>',\n",
        "                       'Landroid/app/PendingIntent;->send', 'Landroid/app/Activity;.<init>',\n",
        "                       'Landroid/app/NativeActivity;->getVolumeControlStream', \n",
        "                       'Landroid/app/AcitivityManager;->killBackgroudProcess', \n",
        "                       'Landroid/content/pm/PacakageManager;->removePackageFromPrefe', \n",
        "                       'Ljava/util/Iterator;.next', \n",
        "                       'Landroid/content/pm/PacakageManager;->getInstalledPackages',\n",
        "                       'Landroid/content/pm/PacakageManager;->getInstalledApplications', \n",
        "                       'Landroid/content/Intent;->startActivity', 'Landroid/content/Intent;->getAction',\n",
        "                       'Ljava/lang/StringBuilder;.append', 'Landroid/content/ContentResolver;->delete', \n",
        "                       'Landroid/content/ContentResolver;->update', 'Landroid/content/ContentResolver;->insert', \n",
        "                       'Landroid/content/Context;->getPackageManager',\n",
        "                       'Landroid/content/BroadcastReceiver;->abortBroadcast', \n",
        "                       'Landroid/database/sqlote/SQLiteDatabase;->execSQL',\n",
        "                       'Landroid/media/MediaRecorder;->MediaRecorder', 'Ljava/net/HttpURLConnection;->connect', \n",
        "                       'Ljava/net/URLConnection;->connect', 'Ljavax/crypto/Cipher;->getInstance',\n",
        "                       'Ljavax/crypto/Cipher;->Init', 'Ljavax/crypto/Cipher;->doFinal',\n",
        "                       'Landroid/telephony/TelephonyManager;->getDataActivity', \n",
        "                       'Ljava/util/ArrayList;.<init>', \n",
        "                       'Landroid/telephony/TelephonyManager;->getLine1Number', \n",
        "                       'Ljava/lang/StringBuilder;.<init>', \n",
        "                       'Landroid/telephony/TelephonyManager;->getSubscriberId',\n",
        "                       'Landroid/telephony/TelephonyManager;->getDeviceId',\n",
        "                       'Landroid/telephony/TelephonyManager;->getNetworkType',\n",
        "                       'Landroid/telephony/TelephonyManager;->getSimSerialNumber', \n",
        "                       'Landroid/telephony/TelephonyManager;->getSimState', \n",
        "                       'Landroid/telephony/SmsManager;->sendMultipartTextMessage',\n",
        "                       'Landroid/telephony/SmsManager;->sendDataMessage', \n",
        "                       'Landroid/telephony/SmsMessage;->getServiceCenterAddress', \n",
        "                       'Landroid/telephony/gsm/SmsManager;->sendMultipartTextMessage',\n",
        "                       'Ljava/lang/StringBuilder;.toString',\n",
        "                       'Landroid/telephony/gsm/SmsManager;->getDisplayOriginatingAddress', \n",
        "                       'Landroid/telephony/PhoneStateListener;->onCallStateChanged',\n",
        "                       'Lorg/apache/http/impl/client;->DefaultHttpClient',\n",
        "                       'Ldalvik/system/DexClassLoader;->loadClass', 'Ldalvik/system/PathClassLoader;->loadClass', \n",
        "                       'Ljava/lang/Object;.<init>', \n",
        "                       'Landroid/net/wifi/WifiManager;->getConnectionInfo', 'Landroid/ContentResolver;->query',\n",
        "                       'Landroid/location/LocationManager;->getLastKnownLocation']"
      ],
      "execution_count": null,
      "outputs": []
    },
    {
      "cell_type": "code",
      "metadata": {
        "id": "2VBpah2ADmGa",
        "colab": {
          "base_uri": "https://localhost:8080/",
          "height": 35
        },
        "outputId": "3870b678-5e19-4df4-d01a-2daae38a5bbd"
      },
      "source": [
        "features_names = permissions_120 + API_method_calls_59\n",
        "print(f'There are {len(features_names)} features to represent an APK in binary vector.')"
      ],
      "execution_count": null,
      "outputs": [
        {
          "output_type": "stream",
          "text": [
            "There are 179 features to represent an APK in binary vector.\n"
          ],
          "name": "stdout"
        }
      ]
    },
    {
      "cell_type": "code",
      "metadata": {
        "id": "tRDn_VjWDmGk"
      },
      "source": [
        ""
      ],
      "execution_count": null,
      "outputs": []
    },
    {
      "cell_type": "code",
      "metadata": {
        "id": "lJ6wldgxDmGr",
        "colab": {
          "base_uri": "https://localhost:8080/",
          "height": 280
        },
        "outputId": "02129d11-64fb-47ba-a712-3d99b8432dc2"
      },
      "source": [
        "#making numpy matrix for malware dataset (extracted permisssion and API calls).\n",
        "\n",
        "malware_matrix = []\n",
        "permissions_path = '/home/mujeeb/Adverserial_ML/AndroZoo/Malware/AndroGuard+Predefined_Dictionary/APKs_Properties_Files/APKs_Permissions/'\n",
        "API_Calls_path = '/home/mujeeb/Adverserial_ML/AndroZoo/Malware/AndroGuard+Predefined_Dictionary/APKs_Properties_Files/APKs_API_Calls/'\n",
        "\n",
        "APKs_shas = os.listdir(permissions_path)\n",
        "\n",
        "for apk in APKs_shas[:4000]:\n",
        "    apk_vector = np.zeros(179, dtype=int)\n",
        "    permission_file = open(os.path.join(permissions_path + apk), 'r')\n",
        "    apk_permissions = permission_file.read().splitlines()\n",
        "    for perm in apk_permissions:\n",
        "        if(perm in features_names): \n",
        "            apk_vector[features_names.index(perm)] = 1\n",
        "    \n",
        "    API_calls_file = open(os.path.join(API_Calls_path + apk), 'r')\n",
        "    APK_api_calls = API_calls_file.read().splitlines()\n",
        "    for api_call in APK_api_calls:\n",
        "        if(api_call in features_names):\n",
        "            apk_vector[features_names.index(api_call)]=1\n",
        "            \n",
        "    malware_matrix.append(apk_vector)\n",
        "\n",
        "malware_matrix = np.array(malware_matrix)\n",
        "np.save('/home/mujeeb/Adverserial_ML/AndroZoo/Malware/AndroGuard+Predefined_Dictionary/APKs_Properties_Files/Malware_Binary_Matrix_updated', malware_matrix)\n",
        "print(malware_matrix.shape)"
      ],
      "execution_count": null,
      "outputs": [
        {
          "output_type": "error",
          "ename": "FileNotFoundError",
          "evalue": "ignored",
          "traceback": [
            "\u001b[0;31m---------------------------------------------------------------------------\u001b[0m",
            "\u001b[0;31mFileNotFoundError\u001b[0m                         Traceback (most recent call last)",
            "\u001b[0;32m<ipython-input-6-de96c238b9f7>\u001b[0m in \u001b[0;36m<module>\u001b[0;34m()\u001b[0m\n\u001b[1;32m      5\u001b[0m \u001b[0mAPI_Calls_path\u001b[0m \u001b[0;34m=\u001b[0m \u001b[0;34m'/home/mujeeb/Adverserial_ML/AndroZoo/Malware/AndroGuard+Predefined_Dictionary/APKs_Properties_Files/APKs_API_Calls/'\u001b[0m\u001b[0;34m\u001b[0m\u001b[0;34m\u001b[0m\u001b[0m\n\u001b[1;32m      6\u001b[0m \u001b[0;34m\u001b[0m\u001b[0m\n\u001b[0;32m----> 7\u001b[0;31m \u001b[0mAPKs_shas\u001b[0m \u001b[0;34m=\u001b[0m \u001b[0mos\u001b[0m\u001b[0;34m.\u001b[0m\u001b[0mlistdir\u001b[0m\u001b[0;34m(\u001b[0m\u001b[0mpermissions_path\u001b[0m\u001b[0;34m)\u001b[0m\u001b[0;34m\u001b[0m\u001b[0;34m\u001b[0m\u001b[0m\n\u001b[0m\u001b[1;32m      8\u001b[0m \u001b[0;34m\u001b[0m\u001b[0m\n\u001b[1;32m      9\u001b[0m \u001b[0;32mfor\u001b[0m \u001b[0mapk\u001b[0m \u001b[0;32min\u001b[0m \u001b[0mAPKs_shas\u001b[0m\u001b[0;34m[\u001b[0m\u001b[0;34m:\u001b[0m\u001b[0;36m4000\u001b[0m\u001b[0;34m]\u001b[0m\u001b[0;34m:\u001b[0m\u001b[0;34m\u001b[0m\u001b[0;34m\u001b[0m\u001b[0m\n",
            "\u001b[0;31mFileNotFoundError\u001b[0m: [Errno 2] No such file or directory: '/home/mujeeb/Adverserial_ML/AndroZoo/Malware/AndroGuard+Predefined_Dictionary/APKs_Properties_Files/APKs_Permissions/'"
          ]
        }
      ]
    },
    {
      "cell_type": "code",
      "metadata": {
        "id": "dxtqjtlkDmG1",
        "colab": {
          "base_uri": "https://localhost:8080/",
          "height": 280
        },
        "outputId": "de3e4f5e-f450-4052-c78b-437ed69f2bc2"
      },
      "source": [
        "#making numpy matrix for benign dataset (extracted permissions and API_calls)\n",
        "\n",
        "benign_matrix = []\n",
        "permissions_path = '/home/mujeeb/Adverserial_ML/AndroZoo/Benign/Androguard+Predefined_Dictionary/APKs_Properties_Files/APKs_Permissions/'\n",
        "API_Calls_path = '/home/mujeeb/Adverserial_ML/AndroZoo/Benign/Androguard+Predefined_Dictionary/APKs_Properties_Files/APKs_API_Calls/'\n",
        "\n",
        "APKs_shas = os.listdir(permissions_path)\n",
        "\n",
        "for apk in APKs_shas[:4000]:\n",
        "    apk_vector = np.zeros(179, dtype=int)\n",
        "    permission_file = open(os.path.join(permissions_path + apk), 'r')\n",
        "    apk_permissions = permission_file.read().splitlines()\n",
        "    for perm in apk_permissions:\n",
        "        if(perm in features_names):\n",
        "            apk_vector[features_names.index(perm)] = 1\n",
        "    \n",
        "    API_calls_file = open(os.path.join(API_Calls_path + apk), 'r')\n",
        "    APK_api_calls = API_calls_file.read().splitlines()\n",
        "    for api_call in APK_api_calls:\n",
        "        if(api_call in features_names):\n",
        "            apk_vector[features_names.index(api_call)]=1\n",
        "            \n",
        "    benign_matrix.append(apk_vector)\n",
        "\n",
        "benign_matrix = np.array(benign_matrix)\n",
        "np.save('/home/mujeeb/Adverserial_ML/AndroZoo/Benign/Androguard+Predefined_Dictionary/APKs_Properties_Files/Benign_Binary_Matrix_updated', benign_matrix)\n",
        "print(benign_matrix.shape)"
      ],
      "execution_count": null,
      "outputs": [
        {
          "output_type": "error",
          "ename": "FileNotFoundError",
          "evalue": "ignored",
          "traceback": [
            "\u001b[0;31m---------------------------------------------------------------------------\u001b[0m",
            "\u001b[0;31mFileNotFoundError\u001b[0m                         Traceback (most recent call last)",
            "\u001b[0;32m<ipython-input-7-2c4b8c602497>\u001b[0m in \u001b[0;36m<module>\u001b[0;34m()\u001b[0m\n\u001b[1;32m      5\u001b[0m \u001b[0mAPI_Calls_path\u001b[0m \u001b[0;34m=\u001b[0m \u001b[0;34m'/home/mujeeb/Adverserial_ML/AndroZoo/Benign/Androguard+Predefined_Dictionary/APKs_Properties_Files/APKs_API_Calls/'\u001b[0m\u001b[0;34m\u001b[0m\u001b[0;34m\u001b[0m\u001b[0m\n\u001b[1;32m      6\u001b[0m \u001b[0;34m\u001b[0m\u001b[0m\n\u001b[0;32m----> 7\u001b[0;31m \u001b[0mAPKs_shas\u001b[0m \u001b[0;34m=\u001b[0m \u001b[0mos\u001b[0m\u001b[0;34m.\u001b[0m\u001b[0mlistdir\u001b[0m\u001b[0;34m(\u001b[0m\u001b[0mpermissions_path\u001b[0m\u001b[0;34m)\u001b[0m\u001b[0;34m\u001b[0m\u001b[0;34m\u001b[0m\u001b[0m\n\u001b[0m\u001b[1;32m      8\u001b[0m \u001b[0;34m\u001b[0m\u001b[0m\n\u001b[1;32m      9\u001b[0m \u001b[0;32mfor\u001b[0m \u001b[0mapk\u001b[0m \u001b[0;32min\u001b[0m \u001b[0mAPKs_shas\u001b[0m\u001b[0;34m[\u001b[0m\u001b[0;34m:\u001b[0m\u001b[0;36m4000\u001b[0m\u001b[0;34m]\u001b[0m\u001b[0;34m:\u001b[0m\u001b[0;34m\u001b[0m\u001b[0;34m\u001b[0m\u001b[0m\n",
            "\u001b[0;31mFileNotFoundError\u001b[0m: [Errno 2] No such file or directory: '/home/mujeeb/Adverserial_ML/AndroZoo/Benign/Androguard+Predefined_Dictionary/APKs_Properties_Files/APKs_Permissions/'"
          ]
        }
      ]
    },
    {
      "cell_type": "markdown",
      "metadata": {
        "id": "3uHVBeh3DmG8"
      },
      "source": [
        "### To perform attack  on 150 malware examples."
      ]
    },
    {
      "cell_type": "code",
      "metadata": {
        "id": "GyYHUtfczAmw"
      },
      "source": [
        "#Benign permissions (having protection level 'Normal') and API calls mostly called by benign APKs.\n",
        "\n",
        "normal_perm = ['ACCESS_LOCATION_EXTRA_COMMANDS', 'ACCESS_NETWORK_STATE','ACCESS_NOTIFICATION_POLICY',\n",
        "                'ACCESS_WIFI_STATE', 'BLUETOOTH' ,'BLUETOOTH_ADMIN', 'BROADCAST_STICKY' ,'CHANGE_NETWORK_STATE',\n",
        "                'CHANGE_WIFI_MULTICAST_STATE', 'CHANGE_WIFI_STATE', 'DISABLE_KEYGUARD', 'EXPAND_STATUS_BAR',\n",
        "                'GET_PACKAGE_SIZE', 'INSTALL_SHORTCUT', 'INTERNET', 'KILL_BACKGROUND_PROCESSES', 'MANAGE_OWN_CALLS', \n",
        "                'MODIFY_AUDIO_SETTINGS', 'NFC', 'READ_SYNC_SETTINGS', 'READ_SYNC_STATS', 'RECEIVE_BOOT_COMPLETED', \n",
        "                'REORDER_TASKS', 'REQUEST_COMPANION_RUN_IN_BACKGROUND','REQUEST_COMPANION_USE_DATA_IN_BACKGROUND',\n",
        "                'REQUEST_DELETE_PACKAGES', 'REQUEST_IGNORE_BATTERY_OPTIMIZATIONS', 'REQUEST_INSTALL_PACKAGES',\n",
        "                'SET_ALARM' ,'SET_WALLPAPER', 'SET_WALLPAPER_HINTS', 'TRANSMIT_IR', 'USE_FINGERPRINT', 'VIBRATE',\n",
        "                'WAKE_LOCK' ,'WRITE_SYNC_SETTINGS']\n",
        "normal_API_Calls = ['Ljava/lang/Object;.<init>', 'Ljava/lang/StringBuilder;.toString', \n",
        "                    'Ljava/lang/StringBuilder;.append', 'Landroid/app/Activity;.<init>', \n",
        "                    'Ljava/lang/StringBuilder;.<init>', \n",
        "                    'Ljava/util/ArrayList;.<init>', 'Ljava/util/Iterator;.next',]\n",
        "\n"
      ],
      "execution_count": null,
      "outputs": []
    },
    {
      "cell_type": "code",
      "metadata": {
        "id": "czCOGn7s0YDj",
        "colab": {
          "base_uri": "https://localhost:8080/",
          "height": 92
        },
        "outputId": "d2d1352a-f95e-4079-aeb4-7c96c1f8d777"
      },
      "source": [
        "normal_indecis = [features_names.index(feature) for feature in normal_perm+normal_API_Calls]\n",
        "print(f'There are {len(normal_indecis)} benign features.')\n",
        "print(f'Follwing are the indices of benign features where we can add these being features :\\n', normal_indecis)"
      ],
      "execution_count": null,
      "outputs": [
        {
          "output_type": "stream",
          "text": [
            "There are 43 benign features.\n",
            "Follwing are the indices of benign features where we can add these being features :\n",
            " [27, 6, 100, 64, 46, 59, 25, 91, 108, 112, 44, 23, 57, 31, 88, 35, 26, 17, 66, 53, 36, 33, 113, 63, 106, 14, 87, 28, 29, 30, 32, 72, 78, 68, 8, 73, 175, 169, 143, 134, 159, 157, 138]\n"
          ],
          "name": "stdout"
        }
      ]
    },
    {
      "cell_type": "code",
      "metadata": {
        "id": "yMsFqpXYDmG9",
        "colab": {
          "base_uri": "https://localhost:8080/",
          "height": 409
        },
        "outputId": "74beac0a-20f7-41e1-ea2a-702cf35f1035"
      },
      "source": [
        "from numpy import load\n",
        "from random import randrange\n",
        "normal_150 = load('/home/mujeeb/Adverserial_ML/AndroZoo/Malware/AndroGuard+Predefined_Dictionary/APKs_Properties_Files/150_malware_normal.npy')\n",
        "print(normal_150.shape)"
      ],
      "execution_count": null,
      "outputs": [
        {
          "output_type": "error",
          "ename": "FileNotFoundError",
          "evalue": "ignored",
          "traceback": [
            "\u001b[0;31m---------------------------------------------------------------------------\u001b[0m",
            "\u001b[0;31mFileNotFoundError\u001b[0m                         Traceback (most recent call last)",
            "\u001b[0;32m<ipython-input-11-a998043eeaa3>\u001b[0m in \u001b[0;36m<module>\u001b[0;34m()\u001b[0m\n\u001b[1;32m      1\u001b[0m \u001b[0;32mfrom\u001b[0m \u001b[0mnumpy\u001b[0m \u001b[0;32mimport\u001b[0m \u001b[0mload\u001b[0m\u001b[0;34m\u001b[0m\u001b[0;34m\u001b[0m\u001b[0m\n\u001b[1;32m      2\u001b[0m \u001b[0;32mfrom\u001b[0m \u001b[0mrandom\u001b[0m \u001b[0;32mimport\u001b[0m \u001b[0mrandrange\u001b[0m\u001b[0;34m\u001b[0m\u001b[0;34m\u001b[0m\u001b[0m\n\u001b[0;32m----> 3\u001b[0;31m \u001b[0mnormal_150\u001b[0m \u001b[0;34m=\u001b[0m \u001b[0mload\u001b[0m\u001b[0;34m(\u001b[0m\u001b[0;34m'/home/mujeeb/Adverserial_ML/AndroZoo/Malware/AndroGuard+Predefined_Dictionary/APKs_Properties_Files/150_malware_normal.npy'\u001b[0m\u001b[0;34m)\u001b[0m\u001b[0;34m\u001b[0m\u001b[0;34m\u001b[0m\u001b[0m\n\u001b[0m\u001b[1;32m      4\u001b[0m \u001b[0mprint\u001b[0m\u001b[0;34m(\u001b[0m\u001b[0mnormal_150\u001b[0m\u001b[0;34m.\u001b[0m\u001b[0mshape\u001b[0m\u001b[0;34m)\u001b[0m\u001b[0;34m\u001b[0m\u001b[0;34m\u001b[0m\u001b[0m\n",
            "\u001b[0;32m/usr/local/lib/python3.6/dist-packages/numpy/lib/npyio.py\u001b[0m in \u001b[0;36mload\u001b[0;34m(file, mmap_mode, allow_pickle, fix_imports, encoding)\u001b[0m\n\u001b[1;32m    426\u001b[0m         \u001b[0mown_fid\u001b[0m \u001b[0;34m=\u001b[0m \u001b[0;32mFalse\u001b[0m\u001b[0;34m\u001b[0m\u001b[0;34m\u001b[0m\u001b[0m\n\u001b[1;32m    427\u001b[0m     \u001b[0;32melse\u001b[0m\u001b[0;34m:\u001b[0m\u001b[0;34m\u001b[0m\u001b[0;34m\u001b[0m\u001b[0m\n\u001b[0;32m--> 428\u001b[0;31m         \u001b[0mfid\u001b[0m \u001b[0;34m=\u001b[0m \u001b[0mopen\u001b[0m\u001b[0;34m(\u001b[0m\u001b[0mos_fspath\u001b[0m\u001b[0;34m(\u001b[0m\u001b[0mfile\u001b[0m\u001b[0;34m)\u001b[0m\u001b[0;34m,\u001b[0m \u001b[0;34m\"rb\"\u001b[0m\u001b[0;34m)\u001b[0m\u001b[0;34m\u001b[0m\u001b[0;34m\u001b[0m\u001b[0m\n\u001b[0m\u001b[1;32m    429\u001b[0m         \u001b[0mown_fid\u001b[0m \u001b[0;34m=\u001b[0m \u001b[0;32mTrue\u001b[0m\u001b[0;34m\u001b[0m\u001b[0;34m\u001b[0m\u001b[0m\n\u001b[1;32m    430\u001b[0m \u001b[0;34m\u001b[0m\u001b[0m\n",
            "\u001b[0;31mFileNotFoundError\u001b[0m: [Errno 2] No such file or directory: '/home/mujeeb/Adverserial_ML/AndroZoo/Malware/AndroGuard+Predefined_Dictionary/APKs_Properties_Files/150_malware_normal.npy'"
          ]
        }
      ]
    },
    {
      "cell_type": "code",
      "metadata": {
        "id": "qpltUvZ6DmHF",
        "outputId": "a74386c7-9781-4aa4-ea4d-c539d5d635fc"
      },
      "source": [
        "malicious_vector = normal_100[0]\n",
        "print('APK binary vector before appending bening properties:\\n', malicious_vector)"
      ],
      "execution_count": null,
      "outputs": [
        {
          "output_type": "stream",
          "text": [
            "APK binary vector before changes:\n",
            " [1 0 0 0 0 0 1 1 1 1 1 1 0 0 0 0 0 0 0 0 0 1 0 0 0 0 0 0 0 0 0 1 0 1 1 0 0\n",
            " 1 0 0 0 0 0 0 0 0 0 0 0 0 0 0 0 0 0 0 0 0 0 0 0 0 0 0 1 0 0 0 1 0 0 0 0 0\n",
            " 0 0 0 0 0 0 0 0 0 0 1 0 0 0 1 0 0 1 0 1 0 0 0 0 0 0 0 1 0 0 0 1 0 1 1 0 0\n",
            " 0 1 0 0 0 0 0 0 0 0 0 0 0 0 0 0 1 1 0 0 1 1 0 0 0 0 0 0 0 0 0 1 0 1 1 1 1\n",
            " 0 0 0 1 0 1 0 1 0 0 0 0 1 1 1 1 1 0 0 0 0 0 0 0 0 1 0 0 1 0 1]\n"
          ],
          "name": "stdout"
        }
      ]
    },
    {
      "cell_type": "code",
      "metadata": {
        "id": "u2iBfWREDmHL",
        "outputId": "ed69ffe9-adde-4cfb-bff6-f0b0ad7a32e6"
      },
      "source": [
        "#Adding bening properties by making benign properties 0 to 1 with random position\n",
        "for app in range(normal_100.shape[0]):\n",
        "    perturb_percent = 7\n",
        "    perturb_count = 0\n",
        "    for i in range(len(normal_indecis)):\n",
        "        rndm = normal_indecis[randrange(0,len(normal_indecis))]\n",
        "        \n",
        "        if(normal_100[app][rndm] == 0 and perturb_count < round(perturb_percent*1.79)):\n",
        "            normal_100[app][rndm] = 1\n",
        "            perturb_count +=1\n",
        "            \n",
        "print('APK binary vector after changes:')\n",
        "print(normal_100[0])"
      ],
      "execution_count": null,
      "outputs": [
        {
          "output_type": "stream",
          "text": [
            "APK binary vector after changes:\n",
            "[1 0 0 0 0 0 1 1 1 1 1 1 0 0 1 0 0 1 0 0 0 1 0 0 0 0 0 0 0 0 1 1 0 1 1 0 1\n",
            " 1 0 0 0 0 0 0 0 0 0 0 0 0 0 0 0 0 0 0 0 0 0 0 0 0 0 0 1 0 1 0 1 0 0 0 1 0\n",
            " 0 0 0 0 0 0 0 0 0 0 1 0 0 0 1 0 0 1 0 1 0 0 0 0 0 0 1 1 0 0 0 1 0 1 1 0 0\n",
            " 0 1 0 0 0 0 0 0 0 0 0 0 0 0 0 0 1 1 0 0 1 1 0 1 0 0 0 1 0 0 0 1 0 1 1 1 1\n",
            " 0 0 0 1 0 1 0 1 0 1 0 1 1 1 1 1 1 0 0 0 0 1 0 0 0 1 0 1 1 0 1]\n"
          ],
          "name": "stdout"
        }
      ]
    },
    {
      "cell_type": "code",
      "metadata": {
        "id": "w0pF6z-PDmHT",
        "outputId": "a576ddef-aa99-4347-cc2e-7068092e1755"
      },
      "source": [
        "#Adding bening properties by making benign properties 0 to 1 with left to right\n",
        "\n",
        "for app in range(normal_100.shape[0]):\n",
        "    perturb_percent = 7\n",
        "    perturb_count = 0\n",
        "    for i in normal_indecis:\n",
        "        if(normal_100[app][i] == 0 and perturb_count < round(perturb_percent*1.79)):\n",
        "            normal_100[app][i] = 1\n",
        "            perturb_count +=1\n",
        "            \n",
        "print('APK binary vector after changes:')\n",
        "print(normal_100[0])"
      ],
      "execution_count": null,
      "outputs": [
        {
          "output_type": "stream",
          "text": [
            "APK binary vector after changes:\n",
            "[1 0 0 0 0 0 1 1 1 1 1 1 0 0 0 0 0 1 0 0 0 1 0 1 0 1 1 1 0 0 0 1 0 1 1 1 0\n",
            " 1 0 0 0 0 0 0 1 0 1 0 0 0 0 0 0 1 0 0 0 1 0 1 0 0 0 0 1 0 1 0 1 0 0 0 0 0\n",
            " 0 0 0 0 0 0 0 0 0 0 1 0 0 0 1 0 0 1 0 1 0 0 0 0 0 0 1 1 0 0 0 1 0 1 1 0 0\n",
            " 0 1 0 0 0 0 0 0 0 0 0 0 0 0 0 0 1 1 0 0 1 1 0 0 0 0 0 0 0 0 0 1 0 1 1 1 1\n",
            " 0 0 0 1 0 1 0 1 0 0 0 0 1 1 1 1 1 0 0 0 0 0 0 0 0 1 0 0 1 0 1]\n"
          ],
          "name": "stdout"
        }
      ]
    },
    {
      "cell_type": "code",
      "metadata": {
        "id": "_zY8bAFxDmHa"
      },
      "source": [
        "np.save('/home/mujeeb/Adverserial_ML/AndroZoo/Malware/AndroGuard+Predefined_Dictionary/APKs_Properties_Files/150_malware_attacked_8PerCent', normal_100)"
      ],
      "execution_count": null,
      "outputs": []
    },
    {
      "cell_type": "code",
      "metadata": {
        "id": "e_R-P8TgDmHj"
      },
      "source": [
        ""
      ],
      "execution_count": null,
      "outputs": []
    },
    {
      "cell_type": "markdown",
      "metadata": {
        "id": "RT-T1hWNFXD8"
      },
      "source": [
        "###**Perform attack with Attack2**"
      ]
    },
    {
      "cell_type": "code",
      "metadata": {
        "id": "XbdaFqusFfjE"
      },
      "source": [
        "AEs_imges_path = '/home/mujeeb/Adverserial_ML/AEs_Generations/AEs_with_GANs/Generated_DCGAN/AEs/5xn/Equally_Distributed_Own_NN_PickingBenignPortion_top/AEs_12Percent_top/'\n",
        "malware_APKs_path = '/home/mujeeb/Adverserial_ML/AndroZoo/Malware/AndroGuard+Predefined_Dictionary/Inter_Linear/11k_100_AEs_Testing/11k_100_APKs_AEs_Testing/*'\n",
        "generated_images_path = '/home/mujeeb/Adverserial_ML/AEs_Generations/AEs_with_GANs/Generated_DCGAN/DCGAN_plesstan0_1/'\n",
        "\n",
        "list_generated_images = os.listdir(generated_images_path)\n",
        "\n",
        "for apk in glob.glob(malware_APKs_path):\n",
        "    print('Analysing :', apk[-68:])\n",
        "\n",
        "    \n",
        "    #for nxn\n",
        "    benign_with_maxConfidense = ['11k1000__0.jpg', '11k390__5.jpg', '11k490__9.jpg', '11k540__4.jpg', '11k840__5.jpg']#, '11k890__5.jpg', '11k920__4.jpg', '11k980__5.jpg', '11k330__0.jpg', '11k470__8.jpg']\n",
        "    random_num = random.randint(0,4)\n",
        "    random_img = os.path.join(generated_images_path + benign_with_maxConfidense[random_num])\n",
        "    generated_benign = cv2.imread(random_img)\n",
        "    \n",
        "    #for 1xn, with max confidense\n",
        "    #generated_benign = cv2.imread(os.path.join(generated_images_path + '11k270_1.jpg'))\n",
        "    \n",
        "    img = apk2image_equal(a,d,dx, generated_benign)\n",
        "    #print(img.shape)\n",
        "    \n",
        "    #Saving to local directory\n",
        "    cv2.imwrite(os.path.join(AEs_imges_path + apk[-68:-4] + '.jpg'), img)\n",
        "    #print(os.path.join(malware_imges_path + apk[-68:-4] + '.jpg'))\n",
        "    #except:\n",
        "    #    pass"
      ],
      "execution_count": null,
      "outputs": []
    }
  ]
}