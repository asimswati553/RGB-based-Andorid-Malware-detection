{
 "cells": [
  {
   "cell_type": "code",
   "execution_count": 25,
   "metadata": {
    "colab": {},
    "colab_type": "code",
    "id": "gpazYqNldl-9"
   },
   "outputs": [],
   "source": [
    "import pandas as pd\n",
    "import numpy as np\n",
    "import webbrowser\n",
    "import time\n",
    "import json\n",
    "import shutil\n",
    "import os"
   ]
  },
  {
   "cell_type": "code",
   "execution_count": 26,
   "metadata": {
    "colab": {},
    "colab_type": "code",
    "id": "TX7l2tSBdl_J"
   },
   "outputs": [],
   "source": [
    "def move_files(source_path, destin_path, dwnld_directory):\n",
    "    download_wait(dwnld_directory)\n",
    "    files = os.listdir(source_path)\n",
    "    for file in files:\n",
    "        if file.endswith('.apk'):\n",
    "            try:\n",
    "                shutil.move(source_path + file, destin_path)\n",
    "            except:\n",
    "                pass"
   ]
  },
  {
   "cell_type": "code",
   "execution_count": 27,
   "metadata": {
    "colab": {},
    "colab_type": "code",
    "id": "H0SuX5rQdl_U"
   },
   "outputs": [],
   "source": [
    "def download_wait(dwnld_directory):\n",
    "    dl_wait = True\n",
    "    while dl_wait:\n",
    "        time.sleep(1)\n",
    "        dl_wait = False\n",
    "        \n",
    "        files = os.listdir(dwnld_directory)\n",
    "        for fname in files:\n",
    "            if fname.endswith('.crdownload'):\n",
    "                dl_wait = True"
   ]
  },
  {
   "cell_type": "code",
   "execution_count": 28,
   "metadata": {
    "colab": {},
    "colab_type": "code",
    "id": "s_pZZhwgdl_b"
   },
   "outputs": [],
   "source": [
    "api_key = 'https://androzoo.uni.lu/api/download?apikey=cef0598b5bd8f3e89954400a7c3ee1fcbd6a5dbf68bf5a0729ca85416d61baed&sha256='"
   ]
  },
  {
   "cell_type": "code",
   "execution_count": 29,
   "metadata": {
    "colab": {},
    "colab_type": "code",
    "id": "eLVvEfjhdl_i",
    "outputId": "ff0e98dd-fc69-4f24-bc21-b1b94bfccba5"
   },
   "outputs": [
    {
     "name": "stdout",
     "output_type": "stream",
     "text": [
      "csv file of shape : (9749176, 11)\n"
     ]
    }
   ],
   "source": [
    "path_to_csv = '/Users/asim/Desktop/Asim_Research/Adversarial_ML/AndroZoo/latest.csv'\n",
    "APKs_info = pd.read_csv(path_to_csv)\n",
    "APKs_info = APKs_info[APKs_info['vt_detection'].notna()]\n",
    "\n",
    "print('csv file of shape :',APKs_info.shape)"
   ]
  },
  {
   "cell_type": "code",
   "execution_count": 30,
   "metadata": {
    "colab": {},
    "colab_type": "code",
    "id": "BKC0QY4Jdl_r",
    "outputId": "567f6fc0-7d40-4228-ca38-6de35f1f0bb9"
   },
   "outputs": [
    {
     "name": "stdout",
     "output_type": "stream",
     "text": [
      "1302969 APKs having labels.\n"
     ]
    }
   ],
   "source": [
    "labels_path ='/Users/asim/Desktop/Asim_Research/Adversarial_ML/AndroZoo/proposed.json'\n",
    "with open(labels_path, 'r') as proposed_names:\n",
    "          labels = json.load(proposed_names)\n",
    "\n",
    "print(f'{len(labels)} APKs having labels.')"
   ]
  },
  {
   "cell_type": "code",
   "execution_count": 31,
   "metadata": {
    "colab": {},
    "colab_type": "code",
    "id": "89dTR_fxdl_y"
   },
   "outputs": [
    {
     "name": "stdout",
     "output_type": "stream",
     "text": [
      "401617 APKs are avialble in AndroZoo dataset having vt_detection geq15l35\n"
     ]
    }
   ],
   "source": [
    "malware_geq15l35_mask = APKs_info.loc[(APKs_info['vt_detection'] >=15) & (APKs_info['vt_detection']<35)]\n",
    "malware_geq15l35_shas = [sha.lower() for sha in malware_geq15l35_mask.sha256]\n",
    "print(f'{len(malware_geq15l35_shas)} APKs are avialble in AndroZoo dataset having vt_detection geq15l35')\n",
    "\n",
    "\n",
    "#benign_apks_mask = APKs_info['vt_detection'] == 0.0"
   ]
  },
  {
   "cell_type": "code",
   "execution_count": 32,
   "metadata": {
    "colab": {},
    "colab_type": "code",
    "id": "5Fyo6zvndl_3"
   },
   "outputs": [
    {
     "name": "stdout",
     "output_type": "stream",
     "text": [
      "4 APKs are downloded having vt_detection geq15l35.\n",
      "292291 APKs are available in this range with lables and vt_detection geq15l35.\n",
      "292287 APKs have to download having lables and vt_detection geq15l35.\n"
     ]
    }
   ],
   "source": [
    "dwnloded_malware_APKs = os.listdir('/Users/asim/Desktop/Asim_Research/Adversarial_ML/AndroZoo/APK_Files/Malware/Malware_APK/')\n",
    "dwnloded_malware_shas = [sha[:-4].lower() for sha in dwnloded_malware_APKs]\n",
    "print(f'{len(dwnloded_malware_shas)} APKs are downloded having vt_detection geq15l35.')\n",
    "\n",
    "dwnlded_shas = list(set(malware_geq15l35_shas).intersection(labels.keys()))\n",
    "print(f'{len(dwnlded_shas)} APKs are available in this range with lables and vt_detection geq15l35.')\n",
    "\n",
    "to_dwnld_shas = list(set(malware_geq15l35_shas) - set(dwnloded_malware_shas))\n",
    "to_dwnld_shas = list(set(to_dwnld_shas).intersection(labels.keys()))\n",
    "print(f'{len(to_dwnld_shas)} APKs have to download having lables and vt_detection geq15l35.')"
   ]
  },
  {
   "cell_type": "code",
   "execution_count": 39,
   "metadata": {},
   "outputs": [
    {
     "name": "stdout",
     "output_type": "stream",
     "text": [
      "18961\n"
     ]
    }
   ],
   "source": [
    "print (count)"
   ]
  },
  {
   "cell_type": "code",
   "execution_count": 37,
   "metadata": {
    "colab": {},
    "colab_type": "code",
    "id": "KcCAJK-Gdl_8",
    "scrolled": true
   },
   "outputs": [],
   "source": [
    "#last_downloaded_sha256 = malware_apks_sha256[0]\n",
    "#last_downloaded_sha256 = malware_shas_to_dwnld[0]\n",
    "count = 12453"
   ]
  },
  {
   "cell_type": "code",
   "execution_count": 38,
   "metadata": {
    "colab": {},
    "colab_type": "code",
    "id": "POQW-JqydmAB",
    "outputId": "f5181384-1c3e-46fa-8644-59467686929e"
   },
   "outputs": [
    {
     "ename": "KeyboardInterrupt",
     "evalue": "",
     "output_type": "error",
     "traceback": [
      "\u001b[0;31m---------------------------------------------------------------------------\u001b[0m",
      "\u001b[0;31mKeyboardInterrupt\u001b[0m                         Traceback (most recent call last)",
      "\u001b[0;32m/Library/Frameworks/Python.framework/Versions/3.8/lib/python3.8/site-packages/IPython/core/interactiveshell.py\u001b[0m in \u001b[0;36mrun_code\u001b[0;34m(self, code_obj, result, async_)\u001b[0m\n\u001b[1;32m   3330\u001b[0m                 \u001b[0;32melse\u001b[0m\u001b[0;34m:\u001b[0m\u001b[0;34m\u001b[0m\u001b[0;34m\u001b[0m\u001b[0m\n\u001b[0;32m-> 3331\u001b[0;31m                     \u001b[0mexec\u001b[0m\u001b[0;34m(\u001b[0m\u001b[0mcode_obj\u001b[0m\u001b[0;34m,\u001b[0m \u001b[0mself\u001b[0m\u001b[0;34m.\u001b[0m\u001b[0muser_global_ns\u001b[0m\u001b[0;34m,\u001b[0m \u001b[0mself\u001b[0m\u001b[0;34m.\u001b[0m\u001b[0muser_ns\u001b[0m\u001b[0;34m)\u001b[0m\u001b[0;34m\u001b[0m\u001b[0;34m\u001b[0m\u001b[0m\n\u001b[0m\u001b[1;32m   3332\u001b[0m             \u001b[0;32mfinally\u001b[0m\u001b[0;34m:\u001b[0m\u001b[0;34m\u001b[0m\u001b[0;34m\u001b[0m\u001b[0m\n",
      "\u001b[0;32m<ipython-input-38-d724b8cfe53f>\u001b[0m in \u001b[0;36m<module>\u001b[0;34m\u001b[0m\n\u001b[1;32m      8\u001b[0m     \u001b[0mdriver\u001b[0m\u001b[0;34m.\u001b[0m\u001b[0mget\u001b[0m\u001b[0;34m(\u001b[0m\u001b[0mapi_key\u001b[0m \u001b[0;34m+\u001b[0m \u001b[0mmalware_sha\u001b[0m\u001b[0;34m)\u001b[0m\u001b[0;34m\u001b[0m\u001b[0;34m\u001b[0m\u001b[0m\n\u001b[0;32m----> 9\u001b[0;31m     \u001b[0mdownload_wait\u001b[0m\u001b[0;34m(\u001b[0m\u001b[0;34m'/Users/asim/Downloads/'\u001b[0m\u001b[0;34m)\u001b[0m\u001b[0;34m\u001b[0m\u001b[0;34m\u001b[0m\u001b[0m\n\u001b[0m\u001b[1;32m     10\u001b[0m     \u001b[0;32mif\u001b[0m\u001b[0;34m(\u001b[0m\u001b[0mcount\u001b[0m\u001b[0;34m%\u001b[0m\u001b[0;36m10\u001b[0m \u001b[0;34m==\u001b[0m \u001b[0;36m0\u001b[0m\u001b[0;34m)\u001b[0m\u001b[0;34m:\u001b[0m\u001b[0;34m\u001b[0m\u001b[0;34m\u001b[0m\u001b[0m\n",
      "\u001b[0;32m<ipython-input-27-15390cad96aa>\u001b[0m in \u001b[0;36mdownload_wait\u001b[0;34m(dwnld_directory)\u001b[0m\n\u001b[1;32m      3\u001b[0m     \u001b[0;32mwhile\u001b[0m \u001b[0mdl_wait\u001b[0m\u001b[0;34m:\u001b[0m\u001b[0;34m\u001b[0m\u001b[0;34m\u001b[0m\u001b[0m\n\u001b[0;32m----> 4\u001b[0;31m         \u001b[0mtime\u001b[0m\u001b[0;34m.\u001b[0m\u001b[0msleep\u001b[0m\u001b[0;34m(\u001b[0m\u001b[0;36m1\u001b[0m\u001b[0;34m)\u001b[0m\u001b[0;34m\u001b[0m\u001b[0;34m\u001b[0m\u001b[0m\n\u001b[0m\u001b[1;32m      5\u001b[0m         \u001b[0mdl_wait\u001b[0m \u001b[0;34m=\u001b[0m \u001b[0;32mFalse\u001b[0m\u001b[0;34m\u001b[0m\u001b[0;34m\u001b[0m\u001b[0m\n",
      "\u001b[0;31mKeyboardInterrupt\u001b[0m: ",
      "\nDuring handling of the above exception, another exception occurred:\n",
      "\u001b[0;31mKeyboardInterrupt\u001b[0m                         Traceback (most recent call last)",
      "\u001b[0;31mKeyboardInterrupt\u001b[0m: "
     ]
    }
   ],
   "source": [
    "from selenium import webdriver\n",
    "\n",
    "options = webdriver.ChromeOptions()\n",
    "options.add_experimental_option(\"prefs\", {\"safebrowsing.enabled\": True})\n",
    "driver = webdriver.Chrome(executable_path=\"/Users/asim/Downloads/chromedriver\", options=options)\n",
    "\n",
    "for malware_sha in to_dwnld_shas[count:]:\n",
    "    driver.get(api_key + malware_sha)\n",
    "    download_wait('/Users/asim/Downloads/')\n",
    "    if(count%10 == 0):\n",
    "        move_files('/Users/asim/Downloads/', '/Users/asim/Desktop/Asim_Research/Adversarial_ML/AndroZoo/APK_Files/Malware/Malware_APK/', '/Users/asim/Downloads/')\n",
    "    last_downloaded_sha256 = malware_sha\n",
    "    count+=1\n",
    "\n",
    "'''\n",
    "for benign_sha in benign_apks_sha256:\n",
    "    webbrowser.open(api_key + benign_sha)\n",
    "    if(count%10 == 0):\n",
    "        move_files('/Users/asim/Downloads/', '/Users/asim/Desktop/Asim_Research/Adversarial_ML/AndroZoo/APK_Files/Benign/Benign_APK/', '/Users/asim/Downloads/)\n",
    "    last_downloaded_sha256 = benign_sha\n",
    "    count+=1'''"
   ]
  },
  {
   "cell_type": "markdown",
   "metadata": {
    "colab_type": "text",
    "id": "CKSzeJRMdmAI"
   },
   "source": [
    "## Steps for Selenium installation and to download APKs without focus"
   ]
  },
  {
   "cell_type": "markdown",
   "metadata": {
    "colab_type": "text",
    "id": "NrNLZzsAdmAJ"
   },
   "source": [
    "1. !pip3 install -U selenium\n",
    "2. to check chrome version move to 'chrome://settings/help'\n",
    "3. download corresponding version of driver from : https://sites.google.com/a/chromium.org/chromedriver/downloads\n",
    "4. unzip it.\n",
    "5. set path in executable_path argument.\n",
    "\n",
    "Hope it works\n",
    "\n",
    "6. #------add these lines before starting loop for downloads------\n",
    "\n",
    "from selenium import webdriver\n",
    "\n",
    "options = webdriver.ChromeOptions()\n",
    "options.add_experimental_option(\"prefs\", {\"safebrowsing.enabled\": True})\n",
    "driver = webdriver.Chrome(executable_path=\"/home/mujeeb/chromedriver_linux64/chromedriver\", options=options)\n",
    "\n",
    "7. replace  'webbrowser.open(api_key + benign_sha)' with 'driver.get(api_key + benign_sha)' below"
   ]
  },
  {
   "cell_type": "markdown",
   "metadata": {
    "colab_type": "text",
    "id": "rQbFA8APd1lU"
   },
   "source": [
    "**Family Classification**"
   ]
  },
  {
   "cell_type": "code",
   "execution_count": 0,
   "metadata": {
    "colab": {},
    "colab_type": "code",
    "id": "JQamGYkjdmAK"
   },
   "outputs": [],
   "source": [
    "import glob\n",
    "import shutil\n",
    "\n",
    "apk_images_path = '/home/mujeeb/Adverserial_ML/AndroZoo/Malware/AndroGuard+Predefined_Dictionary/Malware_Images_4K_Onwards_testing/*'\n",
    "families_path = '/home/mujeeb/Adverserial_ML/AndroZoo/Malware/Malware_Families/'\n",
    "\n",
    "for apk_img in glob.glob(apk_images_path):\n",
    "    sha = apk_img[-68:-4].lower()\n",
    "    if(sha in labels.keys()):\n",
    "        family_path = os.path.join(families_path + labels[sha.lower()])\n",
    "        if(os.path.isdir(family_path)):\n",
    "            shutil.copy(apk_img , family_path)\n",
    "        else:\n",
    "            os.mkdir(family_path)\n",
    "            shutil.copy(apk_img, family_path)"
   ]
  }
 ],
 "metadata": {
  "colab": {
   "collapsed_sections": [],
   "name": "Benign_and_Malware_APKs_Downloading-with_lable.ipynb",
   "provenance": []
  },
  "kernelspec": {
   "display_name": "Python 3",
   "language": "python",
   "name": "python3"
  },
  "language_info": {
   "codemirror_mode": {
    "name": "ipython",
    "version": 3
   },
   "file_extension": ".py",
   "mimetype": "text/x-python",
   "name": "python",
   "nbconvert_exporter": "python",
   "pygments_lexer": "ipython3",
   "version": "3.8.1"
  }
 },
 "nbformat": 4,
 "nbformat_minor": 1
}
