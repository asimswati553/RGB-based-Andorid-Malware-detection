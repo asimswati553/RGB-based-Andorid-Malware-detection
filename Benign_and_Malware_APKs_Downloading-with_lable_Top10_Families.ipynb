{
 "cells": [
  {
   "cell_type": "code",
   "execution_count": 23,
   "metadata": {
    "colab": {},
    "colab_type": "code",
    "id": "EmDVcJDCUHAu"
   },
   "outputs": [],
   "source": [
    "import pandas as pd\n",
    "import numpy as np\n",
    "import webbrowser\n",
    "import time\n",
    "import json\n",
    "import shutil\n",
    "import os"
   ]
  },
  {
   "cell_type": "code",
   "execution_count": 24,
   "metadata": {
    "colab": {},
    "colab_type": "code",
    "id": "6nhtAkb8UHAz"
   },
   "outputs": [],
   "source": [
    "def move_files(source_path, destin_path, dwnld_directory):\n",
    "    download_wait(dwnld_directory)\n",
    "    files = os.listdir(source_path)\n",
    "    for file in files:\n",
    "        if file.endswith('.apk'):\n",
    "            try:\n",
    "                shutil.move(source_path + file, destin_path)\n",
    "            except:\n",
    "                pass"
   ]
  },
  {
   "cell_type": "code",
   "execution_count": 25,
   "metadata": {
    "colab": {},
    "colab_type": "code",
    "id": "OG6HAPyOUHA4"
   },
   "outputs": [],
   "source": [
    "def remove_shas(fil_path, shas_to_remove):\n",
    "    with open(fil_path, \"r\") as f:\n",
    "        lines = f.readlines()\n",
    "    with open(fil_path, \"w\") as f:\n",
    "        for line in lines:\n",
    "            if line.strip(\"\\n\") not in shas_to_remove:\n",
    "                f.write(line)"
   ]
  },
  {
   "cell_type": "code",
   "execution_count": 26,
   "metadata": {
    "colab": {},
    "colab_type": "code",
    "id": "RQT_NBnUUHA7"
   },
   "outputs": [],
   "source": [
    "def download_wait(dwnld_directory):\n",
    "    dl_wait = True\n",
    "    while dl_wait:\n",
    "        time.sleep(1)\n",
    "        dl_wait = False\n",
    "        \n",
    "        files = os.listdir(dwnld_directory)\n",
    "        for fname in files:\n",
    "            if fname.endswith('.crdownload'):\n",
    "                dl_wait = True"
   ]
  },
  {
   "cell_type": "code",
   "execution_count": 27,
   "metadata": {
    "colab": {},
    "colab_type": "code",
    "id": "iBK1ttRWUHA_"
   },
   "outputs": [],
   "source": [
    "api_key = 'https://androzoo.uni.lu/api/download?apikey=cef0598b5bd8f3e89954400a7c3ee1fcbd6a5dbf68bf5a0729ca85416d61baed&sha256='"
   ]
  },
  {
   "cell_type": "code",
   "execution_count": 33,
   "metadata": {
    "colab": {},
    "colab_type": "code",
    "id": "Nq4IemB5UHBC"
   },
   "outputs": [
    {
     "name": "stdout",
     "output_type": "stream",
     "text": [
      "0 are remaining to download.\n"
     ]
    }
   ],
   "source": [
    "Latest_shas_toDwnld = []\n",
    "for line in open('/Users/asim/Desktop/Asim_Research/Adversarial_ML/AndroZoo/APK_Files/Malware/APKs_2020_19_18_17', 'r'):\n",
    "    Latest_shas_toDwnld.append(line.rstrip())\n",
    "    \n",
    "downloded_APKs = os.listdir('/Users/asim/Desktop/Asim_Research/Adversarial_ML/AndroZoo/APK_Files/Malware/Maware_APK_2020_19_18_17/')\n",
    "downloded_APKs = [sha[:-4] for sha in downloded_APKs]\n",
    "\n",
    "Latest_shas_toDwnld = list(set(Latest_shas_toDwnld) - set(downloded_APKs))\n",
    "\n",
    "print(f'{len(Latest_shas_toDwnld)} are remaining to download.')"
   ]
  },
  {
   "cell_type": "code",
   "execution_count": 15,
   "metadata": {
    "colab": {},
    "colab_type": "code",
    "id": "ijuBFZ5bUHBG"
   },
   "outputs": [],
   "source": [
    "#for line in open('/Users/asim/Desktop/Asim_Research/Adversarial_ML/AndroZoo/APK_Files/Malware/To_Download_Top10_shas', 'r'):\n",
    "#    top10_shas_toDwnld.append(line.rstrip())\n",
    "#print(f'{len(top10_shas_toDwnld)} are remaining to download.')"
   ]
  },
  {
   "cell_type": "code",
   "execution_count": 16,
   "metadata": {
    "colab": {},
    "colab_type": "code",
    "id": "R6_r3fjMUHBL",
    "scrolled": true
   },
   "outputs": [
    {
     "ename": "FileNotFoundError",
     "evalue": "[Errno 2] No such file or directory: '/Users/asim/Desktop/Asim_Research/Adversarial_ML/AndroZoo/APK_Files/Malware/Malware_APK/'",
     "output_type": "error",
     "traceback": [
      "\u001b[0;31m---------------------------------------------------------------------------\u001b[0m",
      "\u001b[0;31mFileNotFoundError\u001b[0m                         Traceback (most recent call last)",
      "\u001b[0;32m<ipython-input-16-cda0bc3d60db>\u001b[0m in \u001b[0;36m<module>\u001b[0;34m\u001b[0m\n\u001b[1;32m      3\u001b[0m     \u001b[0mAPKs_2019_18_17_16\u001b[0m\u001b[0;34m.\u001b[0m\u001b[0mappend\u001b[0m\u001b[0;34m(\u001b[0m\u001b[0mline\u001b[0m\u001b[0;34m.\u001b[0m\u001b[0mrstrip\u001b[0m\u001b[0;34m(\u001b[0m\u001b[0;34m)\u001b[0m\u001b[0;34m)\u001b[0m\u001b[0;34m\u001b[0m\u001b[0;34m\u001b[0m\u001b[0m\n\u001b[1;32m      4\u001b[0m \u001b[0;34m\u001b[0m\u001b[0m\n\u001b[0;32m----> 5\u001b[0;31m \u001b[0mdownloded_APKs\u001b[0m \u001b[0;34m=\u001b[0m \u001b[0mos\u001b[0m\u001b[0;34m.\u001b[0m\u001b[0mlistdir\u001b[0m\u001b[0;34m(\u001b[0m\u001b[0;34m'/Users/asim/Desktop/Asim_Research/Adversarial_ML/AndroZoo/APK_Files/Malware/Malware_APK/'\u001b[0m\u001b[0;34m)\u001b[0m\u001b[0;34m\u001b[0m\u001b[0;34m\u001b[0m\u001b[0m\n\u001b[0m\u001b[1;32m      6\u001b[0m \u001b[0mdownloded_APKs\u001b[0m \u001b[0;34m=\u001b[0m \u001b[0;34m[\u001b[0m\u001b[0msha\u001b[0m\u001b[0;34m[\u001b[0m\u001b[0;34m:\u001b[0m\u001b[0;34m-\u001b[0m\u001b[0;36m4\u001b[0m\u001b[0;34m]\u001b[0m \u001b[0;32mfor\u001b[0m \u001b[0msha\u001b[0m \u001b[0;32min\u001b[0m \u001b[0mdownloded_APKs\u001b[0m\u001b[0;34m]\u001b[0m\u001b[0;34m\u001b[0m\u001b[0;34m\u001b[0m\u001b[0m\n\u001b[1;32m      7\u001b[0m \u001b[0;34m\u001b[0m\u001b[0m\n",
      "\u001b[0;31mFileNotFoundError\u001b[0m: [Errno 2] No such file or directory: '/Users/asim/Desktop/Asim_Research/Adversarial_ML/AndroZoo/APK_Files/Malware/Malware_APK/'"
     ]
    }
   ],
   "source": [
    "APKs_2019_18_17_16 = []\n",
    "for line in open('/Users/asim/Desktop/Asim_Research/Adversarial_ML/AndroZoo/APK_Files/Malware/APKs_2020_19_18_17', 'r'):\n",
    "    APKs_2019_18_17_16.append(line.rstrip())\n",
    "    \n",
    "downloded_APKs = os.listdir('/Users/asim/Desktop/Asim_Research/Adversarial_ML/AndroZoo/APK_Files/Malware/Malware_APK/')\n",
    "downloded_APKs = [sha[:-4] for sha in downloded_APKs]\n",
    "\n",
    "remove_shas('/Users/asim/Desktop/Asim_Research/Adversarial_ML/AndroZoo/APK_Files/Malware/To_Download_Top10_shas', downloded_APKs)\n",
    "\n",
    "APKs_2019_18_17_16 = list(set(APKs_2019_18_17_16) - set(downloded_APKs))\n",
    "print(f'{len(APKs_2019_18_17_16)} are remaining to download.')"
   ]
  },
  {
   "cell_type": "code",
   "execution_count": 31,
   "metadata": {
    "colab": {},
    "colab_type": "code",
    "id": "OYstTKqnUHBP"
   },
   "outputs": [],
   "source": [
    "#last_downloaded_sha256 = malware_apks_sha256[0]\n",
    "last_downloaded_sha256 = Latest_shas_toDwnld[0]\n",
    "shas_to_remove = []\n",
    "count = 0"
   ]
  },
  {
   "cell_type": "code",
   "execution_count": 32,
   "metadata": {
    "colab": {},
    "colab_type": "code",
    "id": "9EG08k3-UHBS",
    "outputId": "7872889a-b0b4-4514-d31e-d4a7453f425d"
   },
   "outputs": [
    {
     "data": {
      "text/plain": [
       "\"\\nfor benign_sha in benign_apks_sha256:\\n    webbrowser.open(api_key + benign_sha)\\n    if(count%10 == 0):\\n        move_files('/Users/asim/Downloads/', '/Users/asim/Desktop/Asim_Research/Adversarial_ML/AndroZoo/APK_Files/Benign/Benign_APK/', '/Users/asim/Downloads/)\\n    last_downloaded_sha256 = benign_sha\\n    count+=1\""
      ]
     },
     "execution_count": 32,
     "metadata": {},
     "output_type": "execute_result"
    }
   ],
   "source": [
    "from selenium import webdriver\n",
    "\n",
    "options = webdriver.ChromeOptions()\n",
    "options.add_experimental_option(\"prefs\", {\"safebrowsing.enabled\": True})\n",
    "driver = webdriver.Chrome(executable_path=\"/Users/asim/Downloads/chromedriver\", options=options)\n",
    "\n",
    "for malware_sha in Latest_shas_toDwnld:\n",
    "    driver.get(api_key + malware_sha)\n",
    "    download_wait('/Users/asim/Downloads/')\n",
    "    shas_to_remove.append(malware_sha)\n",
    "    \n",
    "    if(count%10 == 0):\n",
    "        move_files('/Users/asim/Downloads/', '/Users/asim/Desktop/Asim_Research/Adversarial_ML/AndroZoo/APK_Files/Malware/Maware_APK_2020_19_18_17/', '/Users/asim/Downloads/')\n",
    "        remove_shas('/Users/asim/Desktop/Asim_Research/Adversarial_ML/AndroZoo/APK_Files/Malware/APKs_2020_19_18_17', shas_to_remove)\n",
    "        shas_to_remove = []\n",
    "    last_downloaded_sha256 = malware_sha\n",
    "    count+=1\n",
    "\n",
    "'''\n",
    "for benign_sha in benign_apks_sha256:\n",
    "    webbrowser.open(api_key + benign_sha)\n",
    "    if(count%10 == 0):\n",
    "        move_files('/Users/asim/Downloads/', '/Users/asim/Desktop/Asim_Research/Adversarial_ML/AndroZoo/APK_Files/Benign/Benign_APK/', '/Users/asim/Downloads/)\n",
    "    last_downloaded_sha256 = benign_sha\n",
    "    count+=1'''"
   ]
  },
  {
   "cell_type": "markdown",
   "metadata": {
    "colab_type": "text",
    "id": "wGaauKN1UHBW"
   },
   "source": [
    "## Steps for Selenium installation and to download APKs without focus"
   ]
  },
  {
   "cell_type": "markdown",
   "metadata": {
    "colab_type": "text",
    "id": "HGOMUtC3UHBX"
   },
   "source": [
    "1. !pip3 install -U selenium\n",
    "2. to check chrome version move to 'chrome://settings/help'\n",
    "3. download corresponding version of driver from : https://sites.google.com/a/chromium.org/chromedriver/downloads\n",
    "4. unzip it.\n",
    "5. set path in executable_path argument.\n",
    "\n",
    "Hope it works\n",
    "\n",
    "6. #------add these lines before starting loop for downloads------\n",
    "\n",
    "from selenium import webdriver\n",
    "\n",
    "options = webdriver.ChromeOptions()\n",
    "options.add_experimental_option(\"prefs\", {\"safebrowsing.enabled\": True})\n",
    "driver = webdriver.Chrome(executable_path=\"/home/mujeeb/chromedriver_linux64/chromedriver\", options=options)\n",
    "\n",
    "7. replace  'webbrowser.open(api_key + benign_sha)' with 'driver.get(api_key + benign_sha)' below"
   ]
  },
  {
   "cell_type": "code",
   "execution_count": 0,
   "metadata": {
    "colab": {},
    "colab_type": "code",
    "id": "ny7CPAnbUHBZ"
   },
   "outputs": [],
   "source": []
  }
 ],
 "metadata": {
  "colab": {
   "collapsed_sections": [],
   "name": "Benign_and_Malware_APKs_Downloading-with_lable_Top10_Families.ipynb",
   "provenance": []
  },
  "kernelspec": {
   "display_name": "Python 3",
   "language": "python",
   "name": "python3"
  },
  "language_info": {
   "codemirror_mode": {
    "name": "ipython",
    "version": 3
   },
   "file_extension": ".py",
   "mimetype": "text/x-python",
   "name": "python",
   "nbconvert_exporter": "python",
   "pygments_lexer": "ipython3",
   "version": "3.8.1"
  }
 },
 "nbformat": 4,
 "nbformat_minor": 1
}
